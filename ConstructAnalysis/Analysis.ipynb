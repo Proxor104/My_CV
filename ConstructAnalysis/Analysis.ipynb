{
 "cells": [
  {
   "cell_type": "markdown",
   "id": "a7ac5cec-60bb-47c8-b3b5-dca86bc26c84",
   "metadata": {},
   "source": [
    "# Анализ рынка строительной отрасли"
   ]
  },
  {
   "cell_type": "markdown",
   "id": "62444ca3-ff21-44f3-88fb-800ad1e22f14",
   "metadata": {},
   "source": [
    "Для начала подключим нужные библиотеки python"
   ]
  },
  {
   "cell_type": "code",
   "execution_count": 11,
   "id": "68295a2c-47b8-40e3-a2bd-4e3220ce16d0",
   "metadata": {},
   "outputs": [],
   "source": [
    "import requests\n",
    "from bs4 import BeautifulSoup\n",
    "import re\n",
    "import numpy as np\n",
    "import pandas as pd\n",
    "import matplotlib.pyplot as plt\n",
    "import seaborn as sns\n",
    "import openpyxl\n",
    "from tqdm import tqdm\n",
    "\n",
    "import warnings\n",
    "warnings.filterwarnings(\"ignore\")"
   ]
  },
  {
   "cell_type": "markdown",
   "id": "9cf47f69-10bb-4064-94f0-91023b04610e",
   "metadata": {},
   "source": [
    "## Читаем ИНН компаний"
   ]
  },
  {
   "attachments": {},
   "cell_type": "markdown",
   "id": "ec0d8884-71ac-4311-8a28-0a03562d2282",
   "metadata": {},
   "source": [
    "С сайта https://ofd.nalog.ru/ скачиваем xlxs файл с данными о всех компаниях в строительной отрасли (Виды деятельности - 41.2) в файл с названием rsmp_05.02.2025.xlsx"
   ]
  },
  {
   "cell_type": "markdown",
   "id": "e3bcc5f0-f6db-40d7-aa63-cab90420a1a7",
   "metadata": {},
   "source": [
    "Считаем ИНН всех компаний, которые нашлись на этом сайте, и переведём данные ИНН в массив"
   ]
  },
  {
   "cell_type": "code",
   "execution_count": 12,
   "id": "d9f86770-30ac-4729-8e1f-ddabe9e62175",
   "metadata": {},
   "outputs": [],
   "source": [
    "data_inn = pd.read_excel(\"data/rsmp_05.02.2025.xlsx\", skiprows=2, engine=\"openpyxl\")\n",
    "array_inn = np.array(data_inn['ИНН'].to_list())"
   ]
  },
  {
   "cell_type": "markdown",
   "id": "1c5de8ed-286f-4912-8837-89901be57ed5",
   "metadata": {},
   "source": [
    "## Читаем id компаний"
   ]
  },
  {
   "cell_type": "markdown",
   "id": "e595b9ef-f811-4671-9b9d-03989da644f0",
   "metadata": {},
   "source": [
    "Будем скачивать id компаний с сайта https://bo.nalog.ru/ с помощью requests.Session(), а также используя следующий запрос к сайту:\n",
    "\n",
    ">https://bo.nalog.ru/advanced-search/organizations/search?query={<здесь указывается ИНН>}&page=0\n",
    "\n",
    "Id нам понадобятся, когда мы начнём собирать финансовую отчётность компаний"
   ]
  },
  {
   "cell_type": "markdown",
   "id": "7c49e467-dc86-42fa-88e0-0afa573adefe",
   "metadata": {},
   "source": [
    "**Следующая ячейка для скачивания данных. Не запускайте её, если данные уже есть в папке data**"
   ]
  },
  {
   "cell_type": "code",
   "execution_count": 1,
   "id": "85ed7e7a-3576-417a-9d90-c23dcd7ff828",
   "metadata": {},
   "outputs": [],
   "source": [
    "session = requests.Session()\n",
    "headers = {\n",
    "    \"User-Agent\": \"Mozilla/5.0 (Windows NT 10.0; Win64; x64) AppleWebKit/537.36 (KHTML, like Gecko) Chrome/110.0.0.0 Safari/537.36\"\n",
    "}\n",
    "\n",
    "with open('data/companies_id_inn.csv', 'w', encoding='utf-8') as output:\n",
    "    output.writelines([\"inn,id\\n\"])\n",
    "    try:\n",
    "        for i in tqdm(range(len(array_inn))):\n",
    "            url = f'https://bo.nalog.ru/advanced-search/organizations/search?query={array_inn[i]}&page=0'\n",
    "            res = session.get(url,headers=headers).json()\n",
    "            if not res[\"content\"]:\n",
    "                continue\n",
    "            org_id = res[\"content\"][0][\"id\"]\n",
    "            output.writelines([f\"{array_inn[i]},{str(org_id)}\\n\"])\n",
    "    except Exception as e:\n",
    "        print(\"Ошибка:\", e)"
   ]
  },
  {
   "cell_type": "markdown",
   "id": "8c1d0761-b4be-4473-8a2e-98900026b2e7",
   "metadata": {},
   "source": [
    "Прочитаем полученный csv файл и запишем id в массив"
   ]
  },
  {
   "cell_type": "code",
   "execution_count": null,
   "id": "451afe27-206e-49ad-866b-f0ad28576f00",
   "metadata": {},
   "outputs": [],
   "source": [
    "data_inn_id = pd.read_csv(\"data/companies_id_inn.csv\")\n",
    "array_id = np.array(data_inn_id['id'].to_list())"
   ]
  },
  {
   "cell_type": "markdown",
   "id": "31864306-64c6-41d5-b9e2-98baad060829",
   "metadata": {},
   "source": [
    "## Читаем финансовые данные компаний"
   ]
  },
  {
   "cell_type": "markdown",
   "id": "83c0691f-8be9-4929-b66c-84983090c20e",
   "metadata": {},
   "source": [
    "Оказалось, что есть дополнительный способ поиска финансовой информации, он использует такой запрос\n",
    "> https://bo.nalog.ru/nbo/organizations/{id}/bfo/\n",
    "\n",
    "Именно для него нам и нужны были id компаний на сайте bo.nalog.ru"
   ]
  },
  {
   "cell_type": "markdown",
   "id": "f9e8d12f-e705-4879-ad63-ce6e0b4ad977",
   "metadata": {},
   "source": [
    "Эти колонки для таблицы мы будем считывать из json файла, который будем получать для каждой компании по нашему запросу"
   ]
  },
  {
   "cell_type": "code",
   "execution_count": null,
   "id": "99d23635-a55d-4c51-b0d4-7bcf4d9d111e",
   "metadata": {},
   "outputs": [],
   "source": [
    "necessary_columns = ['id', 'inn', 'fullName', 'address', 'period', 'revenue2110', \n",
    "                     'cost_sales2120', 'interest_payable2330', 'net_profit2400', 'income_tax2410']"
   ]
  },
  {
   "cell_type": "markdown",
   "id": "316f1ef0-c520-414d-8d45-f749ee473541",
   "metadata": {},
   "source": [
    "Парсер для считываемых данных"
   ]
  },
  {
   "cell_type": "code",
   "execution_count": null,
   "id": "3de0956c-ad36-4310-8974-7c8f795c936d",
   "metadata": {},
   "outputs": [],
   "source": [
    "class DataJsonParser():\n",
    "    def __init__(self, id = None, config = None):\n",
    "        self.id = id\n",
    "        self.inn = None\n",
    "        self.fullName = None\n",
    "        self.address = None\n",
    "        self.period = None\n",
    "        self.revenue2110 = None\n",
    "        self.cost_sales2120 = None\n",
    "        self.interest_payable2330 = None\n",
    "        self.net_profit2400 = None\n",
    "        self.income_tax2410 = None\n",
    "        if config is not None:\n",
    "            # self.id = config['id'] if 'id' in config.keys() else None\n",
    "            self.period = config['period'] if 'period' in config.keys() else None\n",
    "            if 'organizationInfo' in config.keys():\n",
    "                tmp1 = config['organizationInfo']\n",
    "                if tmp1 is not None:\n",
    "                    self.inn = tmp1['inn'] if 'inn' in tmp1.keys() else None\n",
    "                    self.fullName = f'\"{str(tmp1[\"fullName\"]).replace(\"\\\"\", \"\\\"\\\"\")}\"' if \"fullName\" in tmp1.keys() else None\n",
    "                    self.address = f'\"{str(tmp1[\"address\"]).replace(\"\\\"\", \"\\\"\\\"\")}\"' if \"address\" in tmp1.keys() else None\n",
    "            if 'correction' in config.keys() and (config['correction'] is not None) and ('financialResult' in config['correction'].keys()):\n",
    "                tmp2 = config['correction']['financialResult']\n",
    "                if tmp2 is not None:\n",
    "                    self.revenue2110 = tmp2['current2110'] if 'current2110' in tmp2.keys() else None\n",
    "                    self.cost_sales2120 = tmp2['current2120'] if 'current2120' in tmp2.keys() else None\n",
    "                    self.interest_payable2330 = tmp2['current2330'] if 'current2330' in tmp2.keys() else None\n",
    "                    self.net_profit2400 = tmp2['current2400'] if 'current2400' in tmp2.keys() else None\n",
    "                    self.income_tax2410 = tmp2['current2410'] if 'current2410' in tmp2.keys() else None\n",
    "        self.row = self.makeCSVRow()\n",
    "    \n",
    "    def makeCSVRow(self):\n",
    "        return f\"{self.id},{self.inn},{self.fullName},{self.address},{self.period},{self.revenue2110},\"\\\n",
    "               f\"{self.cost_sales2120},{self.interest_payable2330},{self.net_profit2400},{self.income_tax2410}\\n\""
   ]
  },
  {
   "cell_type": "markdown",
   "id": "3ace5536-ac61-409e-9a7c-a466c8623588",
   "metadata": {},
   "source": [
    "Читаем данные"
   ]
  },
  {
   "cell_type": "markdown",
   "id": "24fcc72d-c4ed-418b-8ec7-deea51ae49ea",
   "metadata": {},
   "source": [
    "**Следующая ячейка для скачивания данных. Не запускайте её, если данные уже есть в папке data**"
   ]
  },
  {
   "cell_type": "code",
   "execution_count": null,
   "id": "8a11b984-4ddc-49e0-969f-fb6127ccb244",
   "metadata": {},
   "outputs": [],
   "source": [
    "session = requests.Session()\n",
    "headers = {\n",
    "    \"User-Agent\": \"Mozilla/5.0 (Windows NT 10.0; Win64; x64) AppleWebKit/537.36 (KHTML, like Gecko) Chrome/110.0.0.0 Safari/537.36\"\n",
    "}\n",
    "\n",
    "with open(\"data/companies_data.csv\", \"w\", encoding='utf-8') as output:\n",
    "    output.writelines([','.join(necessary_columns)+'\\n'])\n",
    "    try:\n",
    "        for i in tqdm(range(len(array_id))):\n",
    "            url = f'https://bo.nalog.ru/nbo/organizations/{array_id[i]}/bfo/'\n",
    "            res = session.get(url,headers=headers).json()\n",
    "            for elem in res:\n",
    "                data_json = DataJsonParser(array_id[i], elem)\n",
    "                output.writelines([data_json.row])\n",
    "    except Exception as e:\n",
    "        print(\"Ошибка:\", e)"
   ]
  },
  {
   "cell_type": "markdown",
   "id": "f2c735c0-51fd-458a-8872-90f05b48bd4f",
   "metadata": {},
   "source": [
    "## Анализ отрасли"
   ]
  },
  {
   "cell_type": "markdown",
   "id": "897642d5-dd5e-4db3-8658-bf70146f44b5",
   "metadata": {},
   "source": [
    "### Первый взгляд на данные"
   ]
  },
  {
   "cell_type": "markdown",
   "id": "e833f7c1-bf00-494b-a7a1-8e5fc72f4c67",
   "metadata": {},
   "source": [
    "Скачаем финансовые данные строительных организаций и посмотрим на них"
   ]
  },
  {
   "cell_type": "code",
   "execution_count": 16,
   "id": "daf3ba98-7232-4ba7-89ab-00590302b69e",
   "metadata": {},
   "outputs": [
    {
     "data": {
      "text/html": [
       "<div>\n",
       "<style scoped>\n",
       "    .dataframe tbody tr th:only-of-type {\n",
       "        vertical-align: middle;\n",
       "    }\n",
       "\n",
       "    .dataframe tbody tr th {\n",
       "        vertical-align: top;\n",
       "    }\n",
       "\n",
       "    .dataframe thead th {\n",
       "        text-align: right;\n",
       "    }\n",
       "</style>\n",
       "<table border=\"1\" class=\"dataframe\">\n",
       "  <thead>\n",
       "    <tr style=\"text-align: right;\">\n",
       "      <th></th>\n",
       "      <th>id</th>\n",
       "      <th>inn</th>\n",
       "      <th>fullName</th>\n",
       "      <th>address</th>\n",
       "      <th>period</th>\n",
       "      <th>revenue2110</th>\n",
       "      <th>cost_sales2120</th>\n",
       "      <th>interest_payable2330</th>\n",
       "      <th>net_profit2400</th>\n",
       "      <th>income_tax2410</th>\n",
       "    </tr>\n",
       "  </thead>\n",
       "  <tbody>\n",
       "    <tr>\n",
       "      <th>0</th>\n",
       "      <td>5872486</td>\n",
       "      <td>5.038039e+09</td>\n",
       "      <td>ОБЩЕСТВО С ОГРАНИЧЕННОЙ ОТВЕТСТВЕННОСТЬЮ \"КОРП...</td>\n",
       "      <td>141206, Московская обл, ул Чехова, 12, офис 901</td>\n",
       "      <td>2023</td>\n",
       "      <td>108966.0</td>\n",
       "      <td>90500.0</td>\n",
       "      <td>3334.0</td>\n",
       "      <td>-20913.0</td>\n",
       "      <td>-248.0</td>\n",
       "    </tr>\n",
       "    <tr>\n",
       "      <th>1</th>\n",
       "      <td>5872486</td>\n",
       "      <td>5.038039e+09</td>\n",
       "      <td>ОБЩЕСТВО С ОГРАНИЧЕННОЙ ОТВЕТСТВЕННОСТЬЮ \"КОРП...</td>\n",
       "      <td>141206, Московская обл, ул Чехова, 12, офис 901</td>\n",
       "      <td>2022</td>\n",
       "      <td>118633.0</td>\n",
       "      <td>83747.0</td>\n",
       "      <td>141.0</td>\n",
       "      <td>19518.0</td>\n",
       "      <td>-336.0</td>\n",
       "    </tr>\n",
       "    <tr>\n",
       "      <th>2</th>\n",
       "      <td>5872486</td>\n",
       "      <td>5.038039e+09</td>\n",
       "      <td>ОБЩЕСТВО С ОГРАНИЧЕННОЙ ОТВЕТСТВЕННОСТЬЮ \"КОРП...</td>\n",
       "      <td>141206, Московская обл, ул Чехова, 12, офис 901</td>\n",
       "      <td>2021</td>\n",
       "      <td>184044.0</td>\n",
       "      <td>150023.0</td>\n",
       "      <td>5601.0</td>\n",
       "      <td>3080.0</td>\n",
       "      <td>-320.0</td>\n",
       "    </tr>\n",
       "    <tr>\n",
       "      <th>3</th>\n",
       "      <td>5872486</td>\n",
       "      <td>5.038039e+09</td>\n",
       "      <td>ОБЩЕСТВО С ОГРАНИЧЕННОЙ ОТВЕТСТВЕННОСТЬЮ \"КОРП...</td>\n",
       "      <td>141206, Московская обл, ул Чехова, 12, офис 901</td>\n",
       "      <td>2020</td>\n",
       "      <td>303726.0</td>\n",
       "      <td>293308.0</td>\n",
       "      <td>23013.0</td>\n",
       "      <td>-8543.0</td>\n",
       "      <td>-310.0</td>\n",
       "    </tr>\n",
       "  </tbody>\n",
       "</table>\n",
       "</div>"
      ],
      "text/plain": [
       "        id           inn                                           fullName  \\\n",
       "0  5872486  5.038039e+09  ОБЩЕСТВО С ОГРАНИЧЕННОЙ ОТВЕТСТВЕННОСТЬЮ \"КОРП...   \n",
       "1  5872486  5.038039e+09  ОБЩЕСТВО С ОГРАНИЧЕННОЙ ОТВЕТСТВЕННОСТЬЮ \"КОРП...   \n",
       "2  5872486  5.038039e+09  ОБЩЕСТВО С ОГРАНИЧЕННОЙ ОТВЕТСТВЕННОСТЬЮ \"КОРП...   \n",
       "3  5872486  5.038039e+09  ОБЩЕСТВО С ОГРАНИЧЕННОЙ ОТВЕТСТВЕННОСТЬЮ \"КОРП...   \n",
       "\n",
       "                                           address  period  revenue2110  \\\n",
       "0  141206, Московская обл, ул Чехова, 12, офис 901    2023     108966.0   \n",
       "1  141206, Московская обл, ул Чехова, 12, офис 901    2022     118633.0   \n",
       "2  141206, Московская обл, ул Чехова, 12, офис 901    2021     184044.0   \n",
       "3  141206, Московская обл, ул Чехова, 12, офис 901    2020     303726.0   \n",
       "\n",
       "   cost_sales2120  interest_payable2330  net_profit2400  income_tax2410  \n",
       "0         90500.0                3334.0        -20913.0          -248.0  \n",
       "1         83747.0                 141.0         19518.0          -336.0  \n",
       "2        150023.0                5601.0          3080.0          -320.0  \n",
       "3        293308.0               23013.0         -8543.0          -310.0  "
      ]
     },
     "execution_count": 16,
     "metadata": {},
     "output_type": "execute_result"
    }
   ],
   "source": [
    "companies_data = pd.read_csv(\"data/companies_data.csv\")\n",
    "companies_data['id'] = companies_data['id'].astype(int)\n",
    "companies_data.head(4)"
   ]
  },
  {
   "cell_type": "code",
   "execution_count": 17,
   "id": "e1c2e569-b893-44fc-9887-e8328fe0c60d",
   "metadata": {},
   "outputs": [
    {
     "name": "stdout",
     "output_type": "stream",
     "text": [
      "<class 'pandas.core.frame.DataFrame'>\n",
      "RangeIndex: 41878 entries, 0 to 41877\n",
      "Data columns (total 10 columns):\n",
      " #   Column                Non-Null Count  Dtype  \n",
      "---  ------                --------------  -----  \n",
      " 0   id                    41878 non-null  int64  \n",
      " 1   inn                   41877 non-null  float64\n",
      " 2   fullName              41877 non-null  object \n",
      " 3   address               41877 non-null  object \n",
      " 4   period                41878 non-null  int64  \n",
      " 5   revenue2110           41193 non-null  float64\n",
      " 6   cost_sales2120        40817 non-null  float64\n",
      " 7   interest_payable2330  16229 non-null  float64\n",
      " 8   net_profit2400        41432 non-null  float64\n",
      " 9   income_tax2410        38733 non-null  float64\n",
      "dtypes: float64(6), int64(2), object(2)\n",
      "memory usage: 3.2+ MB\n"
     ]
    }
   ],
   "source": [
    "companies_data.info()"
   ]
  },
  {
   "cell_type": "markdown",
   "id": "51ee7cec-9862-441f-9d32-2ccd708f986a",
   "metadata": {},
   "source": [
    "По итогу, в таблице занесены финансовые результаты строительных компаний за 2020-2024 годы"
   ]
  },
  {
   "cell_type": "code",
   "execution_count": 18,
   "id": "3c920728-0427-4993-a311-94d37bb21fca",
   "metadata": {},
   "outputs": [
    {
     "data": {
      "text/plain": [
       "period\n",
       "2023    10914\n",
       "2022    10566\n",
       "2021    10241\n",
       "2020    10008\n",
       "2024      149\n",
       "Name: count, dtype: int64"
      ]
     },
     "execution_count": 18,
     "metadata": {},
     "output_type": "execute_result"
    }
   ],
   "source": [
    "companies_data.period.value_counts()"
   ]
  },
  {
   "cell_type": "markdown",
   "id": "0fabcfd2-20dc-47e9-9516-bf5f27417b0e",
   "metadata": {},
   "source": [
    "Видно, что за 2024 ещё практически нет финансовой отчётности от компаний. Это связано с тем, что годовая бухгалтерская (финансовая) отчетность представляется в налоговую инспекцию или орган государственной статистики не позднее трех месяцев после окончания отчетного периода (https://its.1c.ru/docs/repdate/)"
   ]
  },
  {
   "cell_type": "markdown",
   "id": "552a6360-d4e9-4a7b-bb4b-ff4d0356c280",
   "metadata": {},
   "source": [
    "### Введение метрик"
   ]
  },
  {
   "cell_type": "markdown",
   "id": "8ffbfec4-9997-4f8c-babd-0d3e2ca32a03",
   "metadata": {},
   "source": [
    "Посчитаем метрику EBITDA для фирм за 2020-2024 годы. Вкратце, эта метрика отражает прибыль компании, которая у неё получается до вычета налогов, уплаты процентов, оплаты амортизационных издержек. Этот показатель очищен от влияния разных систем налогообложения и учета. Он позволяет быстро сравнивать компании из разных стран с разной налоговой нагрузкой. \n",
    "\n",
    "Аналитики смотрят на этот показатель для анализа кредитоспособности предприятия. Собственники или крупные инвесторы могут учитывать его, когда запускают новые продукты или обдумывают слияние и поглощение."
   ]
  },
  {
   "cell_type": "markdown",
   "id": "896236bd-6ffe-4936-af9e-daf60a43670b",
   "metadata": {},
   "source": [
    "Обычно EBITDA считается по формуле: \n",
    "$$ EBITDA = Чистая \\; прибыль + Амортизация + Налоги + Проценты \\; по \\; кредитам$$\n",
    "Но в нашей ситуации на сайте bo.nalog.ru компании нигде не указывают свои расходы на амортизацию, поэтому мы считали метрику по следующей формуле:\n",
    "$$ EBITDA = Выручка - Общая \\; себестоимость + Амортизация + Налоги + Проценты \\; по \\; кредитам$$"
   ]
  },
  {
   "cell_type": "code",
   "execution_count": 19,
   "id": "a0099660-2046-4f7f-b92a-d383e10af23e",
   "metadata": {},
   "outputs": [],
   "source": [
    "companies_data['EBITDA'] = companies_data['revenue2110'] - companies_data['cost_sales2120'] + companies_data['interest_payable2330'] + companies_data['income_tax2410']"
   ]
  },
  {
   "cell_type": "markdown",
   "id": "0efec738-307b-4dc0-b622-a9739a0f831f",
   "metadata": {},
   "source": [
    "Для скольких компаний по годам получилось посчитать эту метрику:"
   ]
  },
  {
   "cell_type": "code",
   "execution_count": 20,
   "id": "ff4aab61-7c52-4d7f-be47-2402ca1d2c09",
   "metadata": {},
   "outputs": [
    {
     "data": {
      "text/plain": [
       "period\n",
       "2020    3458\n",
       "2021    3748\n",
       "2022    4024\n",
       "2023    4213\n",
       "2024      36\n",
       "Name: EBITDA, dtype: int64"
      ]
     },
     "execution_count": 20,
     "metadata": {},
     "output_type": "execute_result"
    }
   ],
   "source": [
    "companies_data.loc[companies_data['EBITDA'].dropna().index].groupby('period')['EBITDA'].count()"
   ]
  },
  {
   "cell_type": "markdown",
   "id": "6e782230-6c2d-41d1-b483-42bad06e1031",
   "metadata": {},
   "source": [
    "Теперь можно посчитать статистику по рентабельности строительных фирм за 2020-2024 годы, причём рентабельность в чистой прибыли и рентабельность через метрику EBITDA по формулам:\n",
    "$$ Рентабельность \\; (или \\;  profit) = \\frac{чистая \\; прибыль}{выручка} * 100\\%, \\quad \n",
    "EBITDA \\; рентабельность \\; (или \\; EBITDA \\; Margin)  = \\frac{EBITDA \\; прибыль}{выручка} * 100\\%$$"
   ]
  },
  {
   "cell_type": "code",
   "execution_count": 21,
   "id": "e836cf5a-98b7-4dc8-9c07-af334c532920",
   "metadata": {},
   "outputs": [],
   "source": [
    "import math\n",
    "EPS = 1.0e-06\n",
    "\n",
    "companies_data = companies_data.assign(\n",
    "                    profit_EBITDA=np.where(\n",
    "                        abs(companies_data.revenue2110) < EPS,\n",
    "                        None,\n",
    "                        (companies_data.EBITDA/companies_data.revenue2110)*100\n",
    "                    )                \n",
    "                 )\n",
    "companies_data = companies_data.assign(\n",
    "                    profit=np.where(\n",
    "                        abs(companies_data.revenue2110) < EPS,\n",
    "                        None,\n",
    "                        (companies_data.net_profit2400/companies_data.revenue2110)*100\n",
    "                    )                \n",
    "                 )"
   ]
  },
  {
   "cell_type": "code",
   "execution_count": 22,
   "id": "89527e77-51ed-4ece-99b7-08365c4cae7d",
   "metadata": {},
   "outputs": [
    {
     "data": {
      "text/plain": [
       "0       -19.192225\n",
       "1         16.45242\n",
       "2         1.673513\n",
       "3        -2.812733\n",
       "4         0.076392\n",
       "           ...    \n",
       "41873      2.98082\n",
       "41874     0.668355\n",
       "41875     1.671854\n",
       "41876     0.366945\n",
       "41877     2.395122\n",
       "Name: profit, Length: 41878, dtype: object"
      ]
     },
     "execution_count": 22,
     "metadata": {},
     "output_type": "execute_result"
    }
   ],
   "source": [
    "companies_data['profit']"
   ]
  },
  {
   "cell_type": "code",
   "execution_count": 23,
   "id": "8ffe50e4-3d57-469e-98b5-5b87e44c070b",
   "metadata": {},
   "outputs": [
    {
     "data": {
      "text/plain": [
       "0        19.778647\n",
       "1        29.242285\n",
       "2        21.354676\n",
       "3        10.904895\n",
       "4              NaN\n",
       "           ...    \n",
       "41873          NaN\n",
       "41874     5.267119\n",
       "41875     2.473406\n",
       "41876     2.222689\n",
       "41877     4.196965\n",
       "Name: profit_EBITDA, Length: 41878, dtype: object"
      ]
     },
     "execution_count": 23,
     "metadata": {},
     "output_type": "execute_result"
    }
   ],
   "source": [
    "companies_data['profit_EBITDA']"
   ]
  },
  {
   "cell_type": "markdown",
   "id": "05dacd34-4700-43b6-8224-be99190924dc",
   "metadata": {},
   "source": [
    "### Пропуски и ошибки в данных"
   ]
  },
  {
   "cell_type": "markdown",
   "id": "47b50f78-0d87-40a9-bb32-c1f0581aa255",
   "metadata": {},
   "source": [
    "Посмотрим на максимальную и минимальную рентабельность для фирм"
   ]
  },
  {
   "cell_type": "code",
   "execution_count": 24,
   "id": "2db5e0db-28ac-4723-b551-136cb8d3f337",
   "metadata": {},
   "outputs": [],
   "source": [
    "profit_data = [companies_data[companies_data.period == i]['profit'].dropna() for i in range(2020, 2025)]\n",
    "profit_data_ind = [elem.index for elem in profit_data]\n",
    "\n",
    "profit_ebitda_data = [companies_data[companies_data.period == i]['profit_EBITDA'].dropna() for i in range(2020, 2025)]\n",
    "profit_ebitda_data_ind = [elem.index for elem in profit_ebitda_data]"
   ]
  },
  {
   "cell_type": "code",
   "execution_count": 25,
   "id": "d1b97aee-3774-41c4-b5b7-cef2d4e120dc",
   "metadata": {},
   "outputs": [
    {
     "name": "stdout",
     "output_type": "stream",
     "text": [
      "Максимальная рентабельность за 2020-2024 годы - 52961% - 28011% - 311003% - 100473% - 85%\n",
      "Минимальная рентабельность за 2020-2024 годы - -170123% - -86756% - -429488% - -768400% - -12936%\n"
     ]
    }
   ],
   "source": [
    "print( 'Максимальная рентабельность за 2020-2024 годы - ' + ' - '.join([str(round(elem .max())) +'%' for elem in profit_data]))\n",
    "print( 'Минимальная рентабельность за 2020-2024 годы - ' + ' - '.join([str(round(elem .min())) +'%' for elem in profit_data]))"
   ]
  },
  {
   "cell_type": "code",
   "execution_count": 26,
   "id": "a9082843-0200-4d6d-bc11-a31b76afe258",
   "metadata": {},
   "outputs": [
    {
     "name": "stdout",
     "output_type": "stream",
     "text": [
      "Процент компаний с рентабельностью большей 100 % за 2020-2024 годы | 0.51% | 0.65% | 0.79% | 0.93% | 0.0%\n",
      "Процент компаний с рентабельностью меньшей -100 % за 2020-2024 годы | 1.26% | 1.06% | 1.81% | 2.87% | 10.28%\n",
      "Процент компаний с рентабельностью по модулю большей 100 % за 2020-2024 годы | 1.77% | 1.71% | 2.61% | 3.8% | 10.28%\n"
     ]
    }
   ],
   "source": [
    "print( 'Процент компаний с рентабельностью большей 100 % за 2020-2024 годы | ' + ' | '.join([str(round((np.where(elem >= 100, 1, 0).sum() / elem.shape[0])*100, 2))+'%' for elem in profit_data]))               \n",
    "print( 'Процент компаний с рентабельностью меньшей -100 % за 2020-2024 годы | ' + ' | '.join([str(round((np.where(elem <= -100, 1, 0).sum() / elem.shape[0])*100, 2))+'%' for elem in profit_data]))               \n",
    "print( 'Процент компаний с рентабельностью по модулю большей 100 % за 2020-2024 годы | ' + ' | '.join([str(round((np.where(abs(elem) >= 100, 1, 0).sum() / elem.shape[0])*100, 2))+'%' for elem in profit_data]))               "
   ]
  },
  {
   "cell_type": "markdown",
   "id": "a25f0341-2c72-4fb9-b422-98c4afbcebb8",
   "metadata": {},
   "source": [
    "- Видим, что в данных есть выбросы по рентабельности. \n",
    "\n",
    "Хотя в 2024 году это нельзя назвать выбросами. Это прежде всего из-за того, что за 2024 мало финансовой отчётности, как было сказано ранее. А та, что подана аж в 10% случаев, относится к компаниям, у которых выручка очень маленькая, либо её вообще нет:"
   ]
  },
  {
   "cell_type": "code",
   "execution_count": 27,
   "id": "e5ba1c2e-6fae-4787-a7ae-8a00f55cca0f",
   "metadata": {},
   "outputs": [
    {
     "name": "stdout",
     "output_type": "stream",
     "text": [
      "Сумма выручки компаний с рентабельностью меньшей -100% за 2024 год | 367.0\n",
      "Сумма прибыли компаний с рентабельностью меньшей -100% за 2024 год | -2944.0\n"
     ]
    }
   ],
   "source": [
    "profit_data_bad = profit_data[4][profit_data[4] <= -100] \n",
    "profit_data_bad_ind = profit_data_bad.index\n",
    "profit_data_bad_rev_sum = companies_data.loc[profit_data_bad_ind]['revenue2110'].median()\n",
    "profit_data_bad_profit_sum = companies_data.loc[profit_data_bad_ind]['net_profit2400'].median()\n",
    "print( 'Сумма выручки компаний с рентабельностью меньшей -100% за 2024 год | ' + str(profit_data_bad_rev_sum))              \n",
    "print( 'Сумма прибыли компаний с рентабельностью меньшей -100% за 2024 год | ' + str(profit_data_bad_profit_sum))          "
   ]
  },
  {
   "cell_type": "markdown",
   "id": "3046b437-d53a-4c13-812a-b5d9886add0a",
   "metadata": {},
   "source": [
    "- Поэтому в дальнейшем, чтобы не исказить статистические выводы, не будем рассматривать 2024 год"
   ]
  },
  {
   "cell_type": "code",
   "execution_count": 28,
   "id": "3146d5ba-aa64-4e76-a870-4f0751c0038c",
   "metadata": {},
   "outputs": [],
   "source": [
    "profit_data = profit_data[:-1]\n",
    "profit_data_ind = profit_data_ind[:-1]\n",
    "profit_ebitda_data = profit_ebitda_data[:-1]\n",
    "profit_ebitda_data_ind = profit_ebitda_data_ind[:-1]"
   ]
  },
  {
   "cell_type": "markdown",
   "id": "b6f5e8cc-532a-468b-ba21-2dd1ab4ceef4",
   "metadata": {},
   "source": [
    "Ещё заметим, что проблема с выбросами в данных не в подсчётах и не в самих данных. Например, сильно отрицательная рентабельность может быть у компании на рынке строительства за 1 год, из-за простоя. Вот, например, компания (https://bo.nalog.ru/organizations-card/10518351), которая в 2022 вообще ничем не занималась, в 2021 и после 2022 имела внушительные обороты."
   ]
  },
  {
   "cell_type": "markdown",
   "id": "6b33e3a2-0f58-41ea-a499-a2bf53faa08d",
   "metadata": {},
   "source": [
    "### Анализ рынка по рентабельность и EBITDA"
   ]
  },
  {
   "cell_type": "markdown",
   "id": "7d3b6146-0fa8-403f-9e0e-67ac1b66830d",
   "metadata": {},
   "source": [
    "Насчёт рентабельности: чистая рентабельность может иметь следующие значения и следующие характеристики этих значений:\n",
    "> 1–5% — низкая рентабельность, над увеличением которой надо работать\n",
    ">\n",
    "> 5–20% — средний показатель, при котором предприятие может стабильно работать\n",
    ">\n",
    "> 20–30% — высокая результативность работы.\n",
    "\n",
    "Рентабельность же по EBITDA, если она выше 20%, считается хорошей: значит, бизнес работает эффективно и приносит доход."
   ]
  },
  {
   "cell_type": "markdown",
   "id": "cb64c06b-4109-497d-abff-d2ba01761044",
   "metadata": {},
   "source": [
    "Построим boxplot за разные годы, чтобы показать в каком диапазоне находятся рентабельность и рентабельность по EBITDA (EBITDA Margin) для строительных компаний"
   ]
  },
  {
   "cell_type": "code",
   "execution_count": 29,
   "id": "f90bb67b-c550-4245-9342-e19832e01ce7",
   "metadata": {},
   "outputs": [
    {
     "data": {
      "image/png": "[encoded data removed]",
      "text/plain": [
       "<Figure size 3200x1200 with 8 Axes>"
      ]
     },
     "metadata": {},
     "output_type": "display_data"
    }
   ],
   "source": [
    "fig, axes = plt.subplots(2, 4, figsize=(32, 12))\n",
    "\n",
    "tmp_data = None\n",
    "\n",
    "for i, ax in enumerate(axes.flat):\n",
    "    if i < 4:\n",
    "        tmp_data = profit_data[i]\n",
    "    else:\n",
    "        tmp_data = profit_ebitda_data[i-4]\n",
    "    bin_width = 10\n",
    "    bins = np.linspace(min(tmp_data), max(tmp_data), int(len(tmp_data) ** (2/3))) \n",
    "    ax.boxplot(x=tmp_data, showfliers=False)   \n",
    "    ax.set_title(f\"Year {i % 4 + 2020}\")\n",
    "    if i < 4:\n",
    "        ax.set_xlabel(\"Рентабельность,\\n в процентах\")\n",
    "    else:\n",
    "        ax.set_xlabel(\"Рентабельность по EBITDA, \\n в процентах\")\n",
    "    ax.grid(alpha=0.4)\n",
    "    ax.set_xticks([])\n",
    "\n",
    "\n",
    "# plt.grid()\n",
    "plt.show()"
   ]
  },
  {
   "cell_type": "markdown",
   "id": "fe315caa-8f31-453e-9f21-8ac3012c4030",
   "metadata": {},
   "source": [
    "- Видно, что рентабельность строительных фирм можно оценить, как низкую-среднюю"
   ]
  },
  {
   "cell_type": "markdown",
   "id": "f6d95f7a-303f-4e13-8b99-ac9451da3474",
   "metadata": {},
   "source": [
    "Чтобы лучше оценить прибыльность отрасли, посчитаем общий уровень прибыльности (будем брать чистую прибыль и выручку) и операционную \n",
    "прибыльность (берём EBITDA и выручку) сектора строительства \n",
    "с помощью метрики ROS (маржинальность, Рентабельность продаж) за разные годы:\n",
    "$$ ROS = \\frac{чистая \\; прибыль \\; всех \\; компаний \\; на \\; рынке}{выручка \\; всех \\; компаний \\; на \\; рынке} * 100\\%, \\quad\n",
    " ROS\\_EBITDA = \\frac{EBITDA \\; всех \\; компаний \\; на \\; рынке}{выручка \\; всех \\; компаний \\; на \\; рынке} * 100\\%$$"
   ]
  },
  {
   "cell_type": "code",
   "execution_count": 30,
   "id": "d81eec6d-a89a-4cab-a7fd-c5e8907ef009",
   "metadata": {},
   "outputs": [],
   "source": [
    "ros = np.array([\n",
    "    100*((companies_data.loc[profit_data_ind[i]]['net_profit2400'].sum())/(companies_data.loc[profit_data_ind[i]]['revenue2110'].sum()))\n",
    "    for i in range(4)\n",
    "])\n",
    "\n",
    "ros_ebitda = np.array([\n",
    "    100*((companies_data.loc[profit_ebitda_data_ind[i]]['EBITDA'].sum())/(companies_data.loc[profit_ebitda_data_ind[i]]['revenue2110'].sum()))\n",
    "    for i in range(4)\n",
    "])"
   ]
  },
  {
   "cell_type": "code",
   "execution_count": 31,
   "id": "7573d286-a7e8-4f10-8e2a-030dcf69aae4",
   "metadata": {},
   "outputs": [
    {
     "data": {
      "image/png": "[encoded data removed]",
      "text/plain": [
       "<Figure size 1200x500 with 2 Axes>"
      ]
     },
     "metadata": {},
     "output_type": "display_data"
    }
   ],
   "source": [
    "def addlabels1(ax, x,y):\n",
    "    for i in range(len(x)):\n",
    "        ax.text(i, y[i]/2, str(y[i].round(2))+\"%\", ha = 'center', color='white', size=13)\n",
    "\n",
    "fig, axes = plt.subplots(1, 2, figsize=(12,5))\n",
    "\n",
    "years = [str(i) for i in range(2020, 2024)]\n",
    "\n",
    "for i, ax in enumerate(axes):\n",
    "    if i == 0:\n",
    "        ax.bar(years, ros,color='green')\n",
    "        ax.set_xlabel(\"Годы\")\n",
    "        ax.set_ylabel(\"Рентабельность, в процентах\")\n",
    "        ax.grid(axis='y',alpha=0.4)\n",
    "        ax.set_title('Рентабельность рынка в разные годы')\n",
    "        addlabels1(ax, years, ros)\n",
    "    else:\n",
    "        ax.bar(years, ros_ebitda,color='green')\n",
    "        ax.set_xlabel(\"Годы\")\n",
    "        ax.set_ylabel(\"Рентабельность по EBITDA, в процентах\")\n",
    "        ax.grid(axis='y',alpha=0.4)\n",
    "        ax.set_title('Рентабельность рынка по \\n EBITDA в разные годы')\n",
    "        addlabels1(ax, years, ros_ebitda)\n",
    "plt.show()"
   ]
  },
  {
   "cell_type": "markdown",
   "id": "f598e94b-6e0e-4a8d-882e-632ba554f45e",
   "metadata": {},
   "source": [
    "Видно, что рентабельность отрасли и правда низкая. В 2023 году она ещё снизилась, как и рентабельность по EBITDA: рентабельность упала на ~1.6%, а рентабельность по EBITDA на ~1.1%\n",
    "\n",
    "- Такая небольшая разница в падении может указывать на усиление неоперационных расходов на компаниях в 2023 году."
   ]
  },
  {
   "cell_type": "markdown",
   "id": "058bd011-b47b-48ab-abd2-3e0ba8dce05c",
   "metadata": {},
   "source": [
    "Давайте ещё посмотрим, как менялся суммарный показатель EBITDA за эти годы"
   ]
  },
  {
   "cell_type": "code",
   "execution_count": 32,
   "id": "922385cf-fb88-4752-99b2-0d8998dca889",
   "metadata": {},
   "outputs": [
    {
     "name": "stdout",
     "output_type": "stream",
     "text": [
      "   year      EBITDA  profit_EBITDA\n",
      "0  2020  195.832066      16.464738\n",
      "1  2021  217.112774      16.448595\n",
      "2  2022  252.304305      16.775487\n",
      "3  2023  244.226462      15.674948\n"
     ]
    }
   ],
   "source": [
    "ebitda_sum = np.array([companies_data[companies_data.period == i + 2020].dropna()['EBITDA'].sum() / 1000000 for i in range(4)])\n",
    "ebitda_stat = pd.DataFrame({\n",
    "    'year': [str(i) for i in range(2020, 2024)],\n",
    "    'EBITDA': ebitda_sum.astype(float),\n",
    "    'profit_EBITDA': ros_ebitda.astype(float)\n",
    "})\n",
    "\n",
    "print(ebitda_stat)"
   ]
  },
  {
   "cell_type": "code",
   "execution_count": 33,
   "id": "1dcb9488-b0e0-4d07-9300-94e8d1c82332",
   "metadata": {},
   "outputs": [
    {
     "data": {
      "image/png": "[encoded data removed]",
      "text/plain": [
       "<Figure size 800x600 with 1 Axes>"
      ]
     },
     "metadata": {},
     "output_type": "display_data"
    }
   ],
   "source": [
    "def addlabels(ax, x, y, h=1, color='black', size=10, ha='center'):\n",
    "    for i in range(len(x)):\n",
    "        ax.text(i, y[i]+h, y[i], ha = ha, color=color, size=size)\n",
    "\n",
    "plt.figure(figsize=(8,6))\n",
    "\n",
    "plt.bar(ebitda_stat['year'], ebitda_stat['EBITDA'], color='green')\n",
    "plt.xlabel(\"Годы\")\n",
    "plt.ylabel(\"EBITDA, в млрд. руб\")\n",
    "plt.grid(alpha=0.4)\n",
    "plt.title('EBITDA компаний в разные годы')\n",
    "\n",
    "sns.lineplot(data=ebitda_stat, x=\"year\", y=\"EBITDA\", color=\"green\",label='EBITDA, млрд. руб.')\n",
    "sns.scatterplot(data=ebitda_stat, x='year', y='EBITDA', markers='o', s=100, color='green')\n",
    "\n",
    "addlabels(plt, ebitda_stat['year'], ebitda_sum.round(2), 20, 'green', 13)\n",
    "\n",
    "sns.lineplot(data=ebitda_stat, x=\"year\", y=\"profit_EBITDA\", color=\"orange\", label='рентабельность по EBITDA, проценты')\n",
    "sns.scatterplot(data=ebitda_stat, x='year', y='profit_EBITDA', markers='o', s=100, color='orange')\n",
    "\n",
    "addlabels(plt, ebitda_stat['year'], ros_ebitda.round(2), 20, 'orange', 13)\n",
    "\n",
    "plt.ylim(0, 340)\n",
    "\n",
    "plt.legend()\n",
    "\n",
    "plt.show()"
   ]
  },
  {
   "cell_type": "markdown",
   "id": "84259d48-1236-4353-80cb-abf249d5a76f",
   "metadata": {},
   "source": [
    "- Отсюда видно, что с 2020 до 2022 EBITDA рос, а значит и рынок рос и развивался, а в 2023 и EBITDA, и рынок просели."
   ]
  },
  {
   "cell_type": "markdown",
   "id": "44a851c4-6a04-4ca9-b5e6-12d0b73ede15",
   "metadata": {},
   "source": [
    "### Структура рынка"
   ]
  },
  {
   "cell_type": "markdown",
   "id": "e2389c33-8010-485d-b92d-d9728a4d2c15",
   "metadata": {},
   "source": [
    "Интересно посмотреть на структуру самого рынка. Например, насколько более крупные компании зарабатывают больше, чем меньшие. Для этого посмотрим на разрыв между средним и медианным значениями EBITDA"
   ]
  },
  {
   "cell_type": "code",
   "execution_count": 34,
   "id": "c9648238-795d-4788-a196-3c5cd303011a",
   "metadata": {},
   "outputs": [
    {
     "data": {
      "text/html": [
       "<div>\n",
       "<style scoped>\n",
       "    .dataframe tbody tr th:only-of-type {\n",
       "        vertical-align: middle;\n",
       "    }\n",
       "\n",
       "    .dataframe tbody tr th {\n",
       "        vertical-align: top;\n",
       "    }\n",
       "\n",
       "    .dataframe thead th {\n",
       "        text-align: right;\n",
       "    }\n",
       "</style>\n",
       "<table border=\"1\" class=\"dataframe\">\n",
       "  <thead>\n",
       "    <tr style=\"text-align: right;\">\n",
       "      <th></th>\n",
       "      <th>year</th>\n",
       "      <th>EBITDA</th>\n",
       "      <th>profit_EBITDA</th>\n",
       "      <th>ebitda_mean</th>\n",
       "      <th>ebitda_median</th>\n",
       "    </tr>\n",
       "  </thead>\n",
       "  <tbody>\n",
       "    <tr>\n",
       "      <th>0</th>\n",
       "      <td>2020</td>\n",
       "      <td>195.832066</td>\n",
       "      <td>16.464738</td>\n",
       "      <td>56.878323</td>\n",
       "      <td>17.717</td>\n",
       "    </tr>\n",
       "    <tr>\n",
       "      <th>1</th>\n",
       "      <td>2021</td>\n",
       "      <td>217.112774</td>\n",
       "      <td>16.448595</td>\n",
       "      <td>58.082604</td>\n",
       "      <td>19.725</td>\n",
       "    </tr>\n",
       "    <tr>\n",
       "      <th>2</th>\n",
       "      <td>2022</td>\n",
       "      <td>252.304305</td>\n",
       "      <td>16.775487</td>\n",
       "      <td>63.313502</td>\n",
       "      <td>22.100</td>\n",
       "    </tr>\n",
       "    <tr>\n",
       "      <th>3</th>\n",
       "      <td>2023</td>\n",
       "      <td>244.226462</td>\n",
       "      <td>15.674948</td>\n",
       "      <td>59.063231</td>\n",
       "      <td>22.771</td>\n",
       "    </tr>\n",
       "  </tbody>\n",
       "</table>\n",
       "</div>"
      ],
      "text/plain": [
       "   year      EBITDA  profit_EBITDA  ebitda_mean  ebitda_median\n",
       "0  2020  195.832066      16.464738    56.878323         17.717\n",
       "1  2021  217.112774      16.448595    58.082604         19.725\n",
       "2  2022  252.304305      16.775487    63.313502         22.100\n",
       "3  2023  244.226462      15.674948    59.063231         22.771"
      ]
     },
     "execution_count": 34,
     "metadata": {},
     "output_type": "execute_result"
    }
   ],
   "source": [
    "ebitda_stat['ebitda_mean'] = [companies_data[companies_data.period == i + 2020].dropna()['EBITDA'].mean()/1000 for i in range(4)]\n",
    "ebitda_stat['ebitda_median'] = [companies_data[companies_data.period == i + 2020].dropna()['EBITDA'].median()/1000 for i in range(4)]\n",
    "ebitda_stat"
   ]
  },
  {
   "cell_type": "code",
   "execution_count": 35,
   "id": "619984de-0efb-4851-a863-b29325a91fec",
   "metadata": {},
   "outputs": [
    {
     "data": {
      "image/png": "[encoded data removed]",
      "text/plain": [
       "<Figure size 800x600 with 1 Axes>"
      ]
     },
     "metadata": {},
     "output_type": "display_data"
    }
   ],
   "source": [
    "def addlabels2(ax, x, y, h=1, color='black', size=10, ha='center'):\n",
    "    for i in range(len(x)):\n",
    "        ax.text(i, y[i]+h, y[i], ha = ha, color=color, size=size)\n",
    "\n",
    "plt.figure(figsize=(8,6))\n",
    "\n",
    "plt.bar(ebitda_stat['year'], ebitda_stat['ebitda_mean'], label='среднее EBITDA, млрд. руб.', color='green')\n",
    "plt.bar(ebitda_stat['year'], ebitda_stat['ebitda_median'], label='медианное EBITDA, млрд. руб.', color='orange')\n",
    "plt.xlabel(\"Годы\")\n",
    "plt.ylabel(\"EBITDA, в млн. руб\")\n",
    "plt.grid(alpha=0.4)\n",
    "plt.title('Средние и медианные EBITDA компаний в разные годы')\n",
    "\n",
    "sns.lineplot(data=ebitda_stat, x=\"year\", y=\"ebitda_mean\", color=\"green\")\n",
    "sns.scatterplot(data=ebitda_stat, x='year', y='ebitda_mean', markers='o', s=100, color='green')\n",
    "\n",
    "addlabels2(plt, years, ebitda_stat['ebitda_mean'].round(2), 5, 'green', 13)\n",
    "\n",
    "sns.lineplot(data=ebitda_stat, x=\"year\", y=\"ebitda_median\", color=\"orange\")\n",
    "sns.scatterplot(data=ebitda_stat, x='year', y='ebitda_median', markers='o', s=100, color='orange')\n",
    "\n",
    "addlabels2(plt, years, ebitda_stat['ebitda_median'].round(2), 5, 'orange', 13)\n",
    "\n",
    "plt.ylim(0, 100)\n",
    "\n",
    "plt.legend()\n",
    "\n",
    "plt.show()"
   ]
  },
  {
   "cell_type": "markdown",
   "id": "78ca5413-ff13-4038-b110-b683d45ffa01",
   "metadata": {},
   "source": [
    "- Видно, что разрыв высокий. Значит лишь у маленького числа фирм доходы очень высокие, по сравнению с большинством фирм."
   ]
  },
  {
   "cell_type": "markdown",
   "id": "1135cd4a-dd43-4733-8ca4-0c8add696157",
   "metadata": {},
   "source": [
    "### Рост (падение) чистой прибыли в 2023 относительно 2020 года"
   ]
  },
  {
   "cell_type": "markdown",
   "id": "162b2f8d-79f1-4145-adbd-adb00f27f711",
   "metadata": {},
   "source": [
    "Проанализируем рост (падение) чистой прибыли относительно 2020 года"
   ]
  },
  {
   "cell_type": "markdown",
   "id": "be5fa180-f6e6-47d2-a450-60b035b9a13e",
   "metadata": {},
   "source": [
    "Но перед этим напомним, что для 2020 и 2023 годов доступно 10008 и 10914 компаний соответственно"
   ]
  },
  {
   "cell_type": "code",
   "execution_count": 36,
   "id": "284900fa-6910-4b58-b73c-a442b58341b9",
   "metadata": {},
   "outputs": [
    {
     "data": {
      "text/plain": [
       "period\n",
       "2023    10914\n",
       "2022    10566\n",
       "2021    10241\n",
       "2020    10008\n",
       "2024      149\n",
       "Name: count, dtype: int64"
      ]
     },
     "execution_count": 36,
     "metadata": {},
     "output_type": "execute_result"
    }
   ],
   "source": [
    "companies_data.period.value_counts()"
   ]
  },
  {
   "cell_type": "markdown",
   "id": "1bb54d11-b803-4688-9752-ca581865c45e",
   "metadata": {},
   "source": [
    "Из них прибыли доступно для 9913 и 10811 компаний соответственно"
   ]
  },
  {
   "cell_type": "code",
   "execution_count": 37,
   "id": "2869815c-1f7e-40ef-b492-7ab649c67948",
   "metadata": {},
   "outputs": [
    {
     "name": "stdout",
     "output_type": "stream",
     "text": [
      "9913, 10811\n"
     ]
    }
   ],
   "source": [
    "aval_profit_20 = companies_data[companies_data.period == 2020].net_profit2400.dropna().shape[0]\n",
    "aval_profit_23 = companies_data[companies_data.period == 2023].net_profit2400.dropna().shape[0]\n",
    "print(f\"{aval_profit_20}, {aval_profit_23}\")"
   ]
  },
  {
   "cell_type": "markdown",
   "id": "067b4192-4762-4120-a1ac-4d53ecf322aa",
   "metadata": {},
   "source": [
    "При этом только для 9727 компаний доступна прибыль, как за 2020, так и за 2023"
   ]
  },
  {
   "cell_type": "code",
   "execution_count": 38,
   "id": "0a8a4797-1f93-41e7-96f9-1b007c285628",
   "metadata": {},
   "outputs": [
    {
     "name": "stdout",
     "output_type": "stream",
     "text": [
      "9727\n"
     ]
    }
   ],
   "source": [
    "id_profit_20 = set(companies_data.loc[companies_data[companies_data.period == 2020].net_profit2400.dropna().index]['id'])\n",
    "id_profit_23 = set(companies_data.loc[companies_data[companies_data.period == 2023].net_profit2400.dropna().index]['id'])\n",
    "print(len(id_profit_20.intersection(id_profit_23)))"
   ]
  },
  {
   "cell_type": "code",
   "execution_count": 39,
   "id": "f012667e-7876-4387-8627-3b0a0550f192",
   "metadata": {
    "scrolled": true
   },
   "outputs": [],
   "source": [
    "net_profit_period20 = companies_data[companies_data.period == 2020].rename(columns={'net_profit2400': 'profit2020'})\n",
    "net_profit_period23 = companies_data[companies_data.period == 2023].rename(columns={'net_profit2400': 'profit2023'})\n",
    "\n",
    "data_growth = pd.merge(net_profit_period20, net_profit_period23, on='id')\n",
    "\n",
    "data_growth = data_growth[['id', 'inn_x', 'fullName_x', 'address_x', 'profit2020', 'profit2023']].rename(columns={\n",
    "    'inn_x':'inn', 'fullName_x':'fullName', 'address_x':'address'\n",
    "})"
   ]
  },
  {
   "cell_type": "code",
   "execution_count": 40,
   "id": "12e8d035-ec9c-45f2-80a3-19a2f8b82a8e",
   "metadata": {},
   "outputs": [],
   "source": [
    "data_growth = data_growth.assign(\n",
    "                    growth=np.where(\n",
    "                        abs(data_growth.profit2020) < EPS,\n",
    "                        None,\n",
    "                        ((data_growth.profit2023 - data_growth.profit2020)/abs(data_growth.profit2020))*100\n",
    "                    )                \n",
    "                 )\n",
    "data_growth = data_growth.loc[data_growth['profit2020'].dropna().index]\n",
    "data_growth = data_growth.loc[data_growth['profit2023'].dropna().index]"
   ]
  },
  {
   "cell_type": "code",
   "execution_count": 41,
   "id": "1f817ef9-b04e-4fef-b16a-4737dcf6ed7d",
   "metadata": {},
   "outputs": [
    {
     "name": "stdout",
     "output_type": "stream",
     "text": [
      "Только для 9727 компаний доступна прибыль, как за 2020, так и за 2023\n"
     ]
    }
   ],
   "source": [
    "print(f\"Только для {data_growth.shape[0]} компаний доступна прибыль, как за 2020, так и за 2023\")"
   ]
  },
  {
   "cell_type": "code",
   "execution_count": 42,
   "id": "bb524620-eee8-466a-bee5-f5c066d2c92e",
   "metadata": {},
   "outputs": [],
   "source": [
    "data_growth = data_growth.loc[data_growth['growth'].dropna().index]"
   ]
  },
  {
   "cell_type": "markdown",
   "id": "a97ce1e3-68af-449c-bd83-22770afe00a6",
   "metadata": {},
   "source": [
    "Теперь построим графики по количеству компаний с похожими процентами роста(падения) за этот период. Правда в данных роста/падения есть выбросы, поэтому для красоты 1 графика избавимся от них."
   ]
  },
  {
   "cell_type": "code",
   "execution_count": 43,
   "id": "782f6aa5-ca54-49d4-be0c-cac40fd85db0",
   "metadata": {},
   "outputs": [
    {
     "data": {
      "image/png": "[encoded data removed]",
      "text/plain": [
       "<Figure size 700x700 with 1 Axes>"
      ]
     },
     "metadata": {},
     "output_type": "display_data"
    }
   ],
   "source": [
    "plt.figure(figsize=(7, 7))\n",
    "\n",
    "q_low, q_high = np.percentile(data_growth['growth'], [2.5, 97.5])\n",
    "filtered_data = data_growth[(data_growth['growth'] >= q_low) & (data_growth['growth'] <= q_high)]\n",
    "\n",
    "bins_count = int((3/2)*math.log(len(filtered_data)))\n",
    "bin_step = (q_high-q_low)/bins_count\n",
    "\n",
    "filtered_data_plus = filtered_data[filtered_data['growth'] >= 0]\n",
    "filtered_data_minus = filtered_data[filtered_data['growth'] <= 0]\n",
    "\n",
    "sns.histplot(filtered_data_plus, x='growth', binwidth=bin_step, color='green')\n",
    "sns.histplot(filtered_data_minus, x='growth', binwidth=bin_step, color='red')\n",
    "\n",
    "plt.xlabel('Процент роста/падения')\n",
    "plt.ylabel('Количество компаний с похожим \\n процентом роста/падения')\n",
    "plt.title('Гистограмма роста/падения без выбросов')\n",
    "\n",
    "plt.grid(alpha=0.4)\n",
    "\n",
    "plt.show()"
   ]
  },
  {
   "cell_type": "code",
   "execution_count": 44,
   "id": "3ee63f07-d37e-4f47-94ef-9a852c24bafe",
   "metadata": {},
   "outputs": [
    {
     "data": {
      "image/png": "[encoded data removed]",
      "text/plain": [
       "<Figure size 650x650 with 1 Axes>"
      ]
     },
     "metadata": {},
     "output_type": "display_data"
    }
   ],
   "source": [
    "def addlabels3(ax, x, heights, names, colors, size=10, ha='center'):\n",
    "    for i in range(len(x)):\n",
    "        ax.text(i, heights[i], names[i], color=colors[i], size=size,  ha = ha)\n",
    "\n",
    "plt.figure(figsize=(6.5, 6.5))\n",
    "\n",
    "data_growth_plus = data_growth[data_growth['growth'] >= 0].shape[0]\n",
    "data_growth_minus = data_growth[data_growth['growth'] <= 0].shape[0]\n",
    "\n",
    "x = np.array(['Падение', 'Рост'])\n",
    "heights = np.array([data_growth_minus, data_growth_plus])\n",
    "colors = np.array(['red', 'green'])\n",
    "names = np.array([str(np.round(elem/data_growth.shape[0], 2))+\" %\" for elem in heights])\n",
    "titles = ['Количество компаний с падением', 'Количество компаний с ростом']\n",
    "\n",
    "plt.bar(x=x, height=heights, color=colors, label=titles)\n",
    "# plt.xlabel('')\n",
    "plt.ylabel('Количество компаний с ростом или падением')\n",
    "plt.title('Гистограмма компаний с ростом или падением')\n",
    "\n",
    "# sns.scatterplot(data=ebitda_stat, x='year', y='ebitda_median', markers='o', s=100, color='orange')\n",
    "\n",
    "addlabels3(plt, x, heights+100, names, colors, 20)\n",
    "addlabels3(plt, x, heights-500, heights, ['w', 'w'], 20)\n",
    "\n",
    "plt.ylim((0, 6500))\n",
    "plt.legend(loc='upper left')\n",
    "plt.grid(alpha=0.4)\n",
    "plt.show()"
   ]
  },
  {
   "cell_type": "markdown",
   "id": "a7629c75-5c01-40fb-b81d-fca7d7c141ec",
   "metadata": {},
   "source": [
    "- Видно, что прибыль выросла у большего числа компаний за 4 года"
   ]
  },
  {
   "cell_type": "markdown",
   "id": "914ba1f5-aea4-40fa-8a19-13f7860b9068",
   "metadata": {},
   "source": [
    "### Географическое расположение топовых компаний"
   ]
  },
  {
   "cell_type": "markdown",
   "id": "2bee2b20-a3d0-472c-9925-54a755a6e158",
   "metadata": {},
   "source": [
    "Нанесём на карту место регистрации компаний с максимальной выручкой за 2023 год."
   ]
  },
  {
   "cell_type": "markdown",
   "id": "c4e70761-3aad-4dfe-a318-2ff9836693f9",
   "metadata": {},
   "source": [
    "Для нанесения компаний на карту, нам потребуются координаты адресов регистрации компаний (lat/lng). А у нас есть только адреса компаний.\n",
    "Для нахождения координат воспользуемся API Yandex Maps."
   ]
  },
  {
   "cell_type": "code",
   "execution_count": 45,
   "id": "4db494e4-61de-4cbb-8767-f39d8b3b29ee",
   "metadata": {},
   "outputs": [
    {
     "data": {
      "text/html": [
       "<div>\n",
       "<style scoped>\n",
       "    .dataframe tbody tr th:only-of-type {\n",
       "        vertical-align: middle;\n",
       "    }\n",
       "\n",
       "    .dataframe tbody tr th {\n",
       "        vertical-align: top;\n",
       "    }\n",
       "\n",
       "    .dataframe thead th {\n",
       "        text-align: right;\n",
       "    }\n",
       "</style>\n",
       "<table border=\"1\" class=\"dataframe\">\n",
       "  <thead>\n",
       "    <tr style=\"text-align: right;\">\n",
       "      <th></th>\n",
       "      <th>id</th>\n",
       "      <th>inn</th>\n",
       "      <th>fullName</th>\n",
       "      <th>address</th>\n",
       "      <th>period</th>\n",
       "      <th>revenue2110</th>\n",
       "      <th>cost_sales2120</th>\n",
       "      <th>interest_payable2330</th>\n",
       "      <th>net_profit2400</th>\n",
       "      <th>income_tax2410</th>\n",
       "      <th>EBITDA</th>\n",
       "      <th>profit_EBITDA</th>\n",
       "      <th>profit</th>\n",
       "    </tr>\n",
       "  </thead>\n",
       "  <tbody>\n",
       "    <tr>\n",
       "      <th>15649</th>\n",
       "      <td>7831808</td>\n",
       "      <td>8.601049e+09</td>\n",
       "      <td>ОБЩЕСТВО С ОГРАНИЧЕННОЙ ОТВЕТСТВЕННОСТЬЮ \"МОНТ...</td>\n",
       "      <td>643,628012,86,,Ханты-Мансийск г,,Чехова ул,70,,</td>\n",
       "      <td>2021</td>\n",
       "      <td>77138000.0</td>\n",
       "      <td>-73393323.0</td>\n",
       "      <td>NaN</td>\n",
       "      <td>1622677.0</td>\n",
       "      <td>1793000.0</td>\n",
       "      <td>NaN</td>\n",
       "      <td>NaN</td>\n",
       "      <td>2.103603</td>\n",
       "    </tr>\n",
       "    <tr>\n",
       "      <th>14275</th>\n",
       "      <td>9005710</td>\n",
       "      <td>7.728901e+09</td>\n",
       "      <td>ОБЩЕСТВО С ОГРАНИЧЕННОЙ ОТВЕТСТВЕННОСТЬЮ \"СПЕЦ...</td>\n",
       "      <td>107497, Москва г, ул Амурская, 7, 3</td>\n",
       "      <td>2022</td>\n",
       "      <td>12256928.0</td>\n",
       "      <td>4097787.0</td>\n",
       "      <td>40154.0</td>\n",
       "      <td>-2151733.0</td>\n",
       "      <td>-140526.0</td>\n",
       "      <td>8058769.0</td>\n",
       "      <td>65.748685</td>\n",
       "      <td>-17.555239</td>\n",
       "    </tr>\n",
       "    <tr>\n",
       "      <th>17245</th>\n",
       "      <td>7436034</td>\n",
       "      <td>7.731434e+09</td>\n",
       "      <td>ОБЩЕСТВО С ОГРАНИЧЕННОЙ ОТВЕТСТВЕННОСТЬЮ \"ОРГН...</td>\n",
       "      <td>123290, Москва г, туп Магистральный 1-й, 5А, 35</td>\n",
       "      <td>2020</td>\n",
       "      <td>11543639.0</td>\n",
       "      <td>-10585590.0</td>\n",
       "      <td>-5835.0</td>\n",
       "      <td>295209.0</td>\n",
       "      <td>-102636.0</td>\n",
       "      <td>22020758.0</td>\n",
       "      <td>190.760972</td>\n",
       "      <td>2.55733</td>\n",
       "    </tr>\n",
       "  </tbody>\n",
       "</table>\n",
       "</div>"
      ],
      "text/plain": [
       "            id           inn  \\\n",
       "15649  7831808  8.601049e+09   \n",
       "14275  9005710  7.728901e+09   \n",
       "17245  7436034  7.731434e+09   \n",
       "\n",
       "                                                fullName  \\\n",
       "15649  ОБЩЕСТВО С ОГРАНИЧЕННОЙ ОТВЕТСТВЕННОСТЬЮ \"МОНТ...   \n",
       "14275  ОБЩЕСТВО С ОГРАНИЧЕННОЙ ОТВЕТСТВЕННОСТЬЮ \"СПЕЦ...   \n",
       "17245  ОБЩЕСТВО С ОГРАНИЧЕННОЙ ОТВЕТСТВЕННОСТЬЮ \"ОРГН...   \n",
       "\n",
       "                                               address  period  revenue2110  \\\n",
       "15649  643,628012,86,,Ханты-Мансийск г,,Чехова ул,70,,    2021   77138000.0   \n",
       "14275              107497, Москва г, ул Амурская, 7, 3    2022   12256928.0   \n",
       "17245  123290, Москва г, туп Магистральный 1-й, 5А, 35    2020   11543639.0   \n",
       "\n",
       "       cost_sales2120  interest_payable2330  net_profit2400  income_tax2410  \\\n",
       "15649     -73393323.0                   NaN       1622677.0       1793000.0   \n",
       "14275       4097787.0               40154.0      -2151733.0       -140526.0   \n",
       "17245     -10585590.0               -5835.0        295209.0       -102636.0   \n",
       "\n",
       "           EBITDA profit_EBITDA     profit  \n",
       "15649         NaN           NaN   2.103603  \n",
       "14275   8058769.0     65.748685 -17.555239  \n",
       "17245  22020758.0    190.760972    2.55733  "
      ]
     },
     "execution_count": 45,
     "metadata": {},
     "output_type": "execute_result"
    }
   ],
   "source": [
    "top_companies = companies_data.sort_values(by=['revenue2110'], ascending=False)[:501]\n",
    "top_companies.head(3)"
   ]
  },
  {
   "cell_type": "markdown",
   "id": "1254ed87-9800-44fa-8f1d-b163bed48cbe",
   "metadata": {},
   "source": [
    "**Следующая ячейка для скачивания данных. Не запускайте её, если данные уже есть в папке data**"
   ]
  },
  {
   "cell_type": "code",
   "execution_count": 1,
   "id": "5d131cdb-a0e0-4b6d-bc2b-a1ffe0198983",
   "metadata": {},
   "outputs": [],
   "source": [
    "import xml.etree.ElementTree as ET\n",
    "def is_number(string):\n",
    "    try:\n",
    "        float(string)\n",
    "        return True \n",
    "    except ValueError:\n",
    "        return False\n",
    "\n",
    "def extract_address_components(address):\n",
    "    tmp = address.split(',')\n",
    "    flag_start = True\n",
    "    results = []\n",
    "    for elem in tmp:\n",
    "        if elem != '':\n",
    "            if not is_number(elem):\n",
    "                flag_start = False\n",
    "                results.append(elem)\n",
    "            elif not flag_start:\n",
    "                results.append(elem)\n",
    "    if len(results) >= 3:\n",
    "        results = results[:3]\n",
    "        match = re.search(r'(?:д\\.|№)\\s*(\\d+)', results[2])\n",
    "        results[2] = match.group(1) if match else results[2]\n",
    "    return \"+\".join(results)\n",
    "\n",
    "    \n",
    "\n",
    "with open(\"data/location_companies.csv\", 'w', encoding='utf-8') as output:\n",
    "    output.write(\"id,inn,address,lng,lat\\n\")\n",
    "    for elem in tqdm(zip(top_companies['id'].to_list(),top_companies['inn'].to_list(),top_companies['address'].to_list())):\n",
    "        norm_address = extract_address_components(elem[2])\n",
    "        params = {\"apikey\": '****', \"geocode\": norm_address, \"lang\": \"ru_RU\", \"fotmat\":\"json\"}\n",
    "        res = requests.get(\"https://geocode-maps.yandex.ru/1.x\", params=params)\n",
    "        # \n",
    "        root = ET.fromstring(res.text)\n",
    "        namespaces = {'gml': 'http://www.opengis.net/gml'}\n",
    "        pos = root.find('.//gml:Point/gml:pos', namespaces)\n",
    "        lng, lat = None, None\n",
    "        if pos is not None:\n",
    "            lng, lat = pos.text.split()\n",
    "        # \n",
    "        output.write(f\"{elem[0]},{elem[1]},{norm_address},{lng},{lat}\\n\")"
   ]
  },
  {
   "cell_type": "markdown",
   "id": "c8cb5068-714f-4954-a0b8-8b09f3921ed8",
   "metadata": {},
   "source": [
    "УРА! Мы скачали координаты компаний. Теперь с помощью geopandas отметим их место регистрации на карте"
   ]
  },
  {
   "cell_type": "code",
   "execution_count": 57,
   "id": "c732cebb-546d-4c6f-a4be-1b98d34c88af",
   "metadata": {},
   "outputs": [
    {
     "data": {
      "text/html": [
       "        <script type=\"text/javascript\">\n",
       "        window.PlotlyConfig = {MathJaxConfig: 'local'};\n",
       "        if (window.MathJax && window.MathJax.Hub && window.MathJax.Hub.Config) {window.MathJax.Hub.Config({SVG: {font: \"STIX-Web\"}});}\n",
       "        </script>\n",
       "        <script type=\"module\">import \"https://cdn.plot.ly/plotly-3.0.0.min\"</script>\n",
       "        "
      ]
     },
     "metadata": {},
     "output_type": "display_data"
    },
    {
     "data": {
      "text/html": [
       "        <script type=\"text/javascript\">\n",
       "        window.PlotlyConfig = {MathJaxConfig: 'local'};\n",
       "        if (window.MathJax && window.MathJax.Hub && window.MathJax.Hub.Config) {window.MathJax.Hub.Config({SVG: {font: \"STIX-Web\"}});}\n",
       "        </script>\n",
       "        <script type=\"module\">import \"https://cdn.plot.ly/plotly-3.0.0.min\"</script>\n",
       "        "
      ]
     },
     "metadata": {},
     "output_type": "display_data"
    },
    {
     "data": {
      "text/html": [
       "<div>            <script src=\"https://cdnjs.cloudflare.com/ajax/libs/mathjax/2.7.5/MathJax.js?config=TeX-AMS-MML_SVG\"></script><script type=\"text/javascript\">if (window.MathJax && window.MathJax.Hub && window.MathJax.Hub.Config) {window.MathJax.Hub.Config({SVG: {font: \"STIX-Web\"}});}</script>                <script type=\"text/javascript\">window.PlotlyConfig = {MathJaxConfig: 'local'};</script>\n",
       "        <script charset=\"utf-8\" src=\"https://cdn.plot.ly/plotly-3.0.0.min.js\"></script>                <div id=\"1ef0553b-5e4e-411d-8388-d34c3a36a645\" class=\"plotly-graph-div\" style=\"height:300px; width:100%;\"></div>            <script type=\"text/javascript\">                window.PLOTLYENV=window.PLOTLYENV || {};                                if (document.getElementById(\"1ef0553b-5e4e-411d-8388-d34c3a36a645\")) {                    Plotly.newPlot(                        \"1ef0553b-5e4e-411d-8388-d34c3a36a645\",                        [{\"hovertemplate\":\"lat=%{lat}\\u003cbr\\u003elng=%{lon}\\u003cextra\\u003e\\u003c\\u002fextra\\u003e\",\"lat\":{\"dtype\":\"f8\",\"bdata\":\"LnJPV3eATkD+ZIwPs+dLQNS5opQQ4ktAbY5zm3BZS0Brgqj7ANxLQEPhs3Vw8E1A5fIf0m\\u002ffS0BZ2qm53OZLQIl46\\u002fzb6U1Ag6J5AItcS0BD4bN1cPBNQIl46\\u002fzb6U1ASl6dY0DiS0C7nX3lQeJLQFBwsaIG\\u002fU1Au5195UHiS0AZqmIq\\u002feRLQCWuY1xx2UtAUHCxogb9TUBjl6jeGuZLQNC0xMpolExAct7\\u002fxwlVSEB8KNGSx\\u002fNLQFnaqbnc5ktAIsUAiSb4TUCQvd798cpLQJM5lnfV3UtAkL3e\\u002ffHKS0AfgNQmTuRLQCIcs+xJXEtAi6ceaXDxTUB8KNGSx\\u002fNLQNS5opQQ4ktAqgzjbhCdSkAiHLPsSVxLQFnaqbnc5ktA10tTBDjbSUC7nX3lQeJLQJQVw9UB4ktAJ07udyjqS0C5VRADXcdLQCLFAIkm+E1AGR77WSzjS0AIclDCTOVLQAk02NR59EtA6UZYVMTfS0ALfEW3XtlLQK1OzlDca0VAn3b4a7L6TUAZHvtZLONLQBvzOuKQz01AM4gP7PipRUAixQCJJvhNQAKCOXr8SkpAC3xFt17ZS0DoFroSgeBLQPopjgOv6ktAoDNpU3VrTEDoFroSgeBLQDm1M0xt4UtAvtwnRwH6TUANbJVgcQZMQINr7uh\\u002f9U1AoDNpU3VrTEC\\u002fZOPBFtFFQK1OzlDca0VAJa5jXHHZS0DkZU0s8PdNQP1P\\u002fu4dOUZAjdKlf0leS0BJoMGmzvNNQCWuY1xx2UtAeXjPgeXaS0CqmiDqPspGQBke+1ks40tACklm9Q4BTEB3hqktdaBOQL\\u002fWpUbo50tA\\u002fb0UHjTbS0DiW1g33mlMQCsSE9Tw1UtAuVUQA13HS0AwKqkT0OxLQD8e+u5WvEtAL+Blho0cS0B3hqktdaBOQK93f7xX+01AA9L+B1j3TUAD0v4HWPdNQHBE96xr4EtAr3d\\u002fvFf7TUCL3T6rzOpLQLzNGyeF5UtAW9JRDmZhS0COQLyuX5BFQIOieQCLXEtAd0tywK7iS0AYQWMmUWVLQBke+1ks40tAd0tywK7iS0CJeOv82+lNQJQVw9UB4ktAeHsQAvJDSkAZHvtZLONLQI5AvK5fkEVAfO4E+69LS0B5zhYQWtNLQBJsXP+uK0xAkL3e\\u002ffHKS0DRevgyUe5LQKUw73Gm20tAoDNpU3VrTED+fjFbsoxGQJ\\u002fJ\\u002fnka6EtAvM0bJ4XlS0ACgjl6\\u002fEpKQMRBQpQv\\u002fk1AMC\\u002fAPjrbS0DEQUKUL\\u002f5NQD7QCgxZD0xAY7SOqibmS0DnjZPCvNNLQEQ2kC424UtAdopVgzDvTUBcHQBxV4lGQAhyUMJM5UtAltHI5xU9SEAdHy3OGPhNQMgL6fAQ4ktAfPDapQ3TS0CNs+kI4MhJQFA4u7VMSEtAjL6CNGO3S0CRJt4Bnu5LQDG0OjlD+01AM4ekFkrgTEAbnIh+bVtIQB+A1CZO5EtAnj9tVKfzS0Cvd3+8V\\u002ftNQC51kNeDiUZAud42UyH8TUCPNSOD3MlLQP2+f\\u002fPi3EtACrq9pDGQTUAib7n6sZlLQPbtJCL8w0tA4X7AAwPmS0B3S3LAruJLQLGk3H2O\\u002fU1AumWH+IeXS0BoBYasbhdLQLmI78Ss60tARbx1\\u002fu3WS0AEWU+tvuBLQIxppnud4EtA6Ba6EoHgS0B2ilWDMO9NQHwqpz0l3UtApkOn593uS0C4zr9d9udLQHaKVYMw701Ag6YlVkaFRkAOoN\\u002f3b3hJQEmGHFvPgkZAyAvp8BDiS0D6KY4Dr+pLQBuciH5tW0hAB+5AnfLiS0AW9rTDX9dLQD2cwHRa40tAfO4E+69LS0AbD7bY7XtKQNqSVRFunEdAQs9m1eeORUDbpKKx9odGQP1P\\u002fu4dOUZAIZBLHHmOSkBYcaq1MC9LQOj0vBsL6kVAA9L+B1j3TUBavFgYIvdNQC8WhsjpjUxAkSbeAZ7uS0Dw+sxZn2RMQIicvp6v901A91eP+1bjS0DXvRWJCexNQC51kNeDiUZAn8n+eRroS0COQLyuX5BFQOXUzjC1g0ZA0R4vpMPjS0ABiLt6FdNLQAEUI0vm1EtApMFtbeHzTUCJeOv82+lNQOi8xi5R40tAoijQJ\\u002fIqTEDt1FxuMOpLQCrKpfEL50tA0LTEymiUTEC9jc2OVOFLQNF2TN2VzUtAMjogCfvIS0BXWkbqPeNLQEbsE0AxykVAec4WEFrTS0CDonkAi1xLQEZfQZqxwkpAVFT9SuejTkBlVYSbjPRNQAAAAAAAAPh\\u002fqDXNO07lS0BWgsXhzOFLQMQhG0gXJ0tAh6QWSib7TUBHrTB9r4lFQOPdkbHa3ktAuVUQA13HS0B2pWWk3uFLQN6QRgVORElAZmZmZmaOTEASbFz\\u002fritMQNtOWyOCZ0xAb2dfeZAGTkCeeTnsvntKQBIu5BHc+k1AlBXD1QHiS0AJFRxeEPdNQIwRiULL2EtAaYoAp3dnTEAB3Zcz29VJQM12hT5Y5ktAZf88DRgKTEBA9+XMdsVJQA1slWBxBkxAOdTvwta2S0CE2QQYlvlNQN7oYz4g0EtAq5Z0lIPBRUAZqmIq\\u002feRLQL2NzY5U4UtAIlFoWfcXTED8brplh9xLQIiE7\\u002f0N+k1AM4gP7PipRUD8brplh9xLQFuZ8Ev91ktAvAZ96e3nS0AU0a+tn9ZLQI3sSstIZUtAM4gP7PipRUAib7n6sZlLQP5hS4+m1EtAIhyz7ElcS0A+0AoMWQ9MQPAw7Zv7WUZAYoIavoWnRUC9cr1tpvhNQIOieQCLXEtACg+aXfcATEDYYyKl2eRLQJ0OZD21ekdAIQIOoUrnS0Di6ZWyDH9LQFTgZBu4iUVAiZXRyOdrSUBCz2bV545FQGoUkszq40tAahSSzOrjS0AfaXBbW5BFQPMC7KNT\\u002fU1Anj9tVKfzS0BtWb4uw8lLQKIIqdvZyUtAG5yIfm1bSED9vRQeNNtLQOhsAaH14EtA46Qw73HWS0ABbatZZ\\u002fhNQHU7+8qD1EtAOBPThVjFS0B3TrNAuyFMQD7QCgxZD0xAuamB5nOQTEBs7X2qCuNLQDFAogkUxU1ArvGZ7J\\u002fhS0CJ0Ag2roNLQL9k48EW0UVAEodsIF3OS0AE4nX9gttJQFJ\\u002fvcKC+U1ArFRQUfUBTECSWiiZnFhKQB4Wak3z2ktAHhZqTfPaS0AoRSv3AjNEQLTHC+nwekdAxJeJIqTQS0Bd+wJ64dRLQOXUzjC1g0ZAwtmtZTLES0AqjgOvluNLQH0FacaiZ0xAKC1cVmFnS0DRevgyUe5LQKjknNhDfUZA5DJuaqDpTUCBXOLIA9dLQCEf9GxW601AWRgip6\\u002fvTUCu8Znsn+FLQEKxFTQt10tAwakPJO+WSkADl8eakbtLQELPZtXnjkVASYYcW8+CRkB2pWWk3uFLQLH4TWGl+E1Asp3vp8bzTUDGxObj2tZLQAOUhhqFdkZA+imOA6\\u002fqS0Dl1M4wtYNGQKfOo+L\\u002f3ktAjC\\u002fa44XoS0Bmu0IfLL1LQKuYSj\\u002fh8EtAOsssQrHvTUBvZ195kAZOQCi37XvUKUxA0o+GU+aATEB65A8GnrVLQOHra11qrEVAumjIeJTUSUDiW1g33mlMQOVFJuDX1ktA\\u002fmFLj6bUS0C37uapDoFGQLr1mh4U1EtAu7ThsDTWS0AAAAAAAAD4f1aCxeHM801ArW2Kx0UHT0BzTBb3H1tIQJ5dvvVh20tALxnHSPaSTECDaK1oc3xMQBmqYir95EtA2qhOB7JyRUAHJcy0\\u002fWFLQK3e4XZo8E1AUwd5PZh6R0CuLNFZZlVFQGAi3jr\\u002fqkpAk6gXfJr3TUAyOiAJ+8hLQMOedvhrYEVA9SoyOiB9RUA\\u002fq8yU1vFLQAFqatla6UtARl9BmrHCSkAKur2kMZBNQFaCxeHM801AOWQD6WK5RUAI5BJHHhZLQA04S8lybkxA0NA\\u002fwcXaS0ClMO9xpttLQHNMFvcfGUtAk+S5vg9RTED0iqcead5LQHicoiO5\\u002fExAP\\u002f89eO1uTEC9jc2OVOFLQHaKVYMw701AXvdWJCagSkD4Nv3Zj+RLQLx0kxgEqkVAS1zHuOKYS0AGg2vu6G1MQKkR+pl67U1AUFQ2rKnaS0DMs5JWfCtMQIFc4sgD10tARDLk2HosTEAofSHkvN1LQAhyUMJM5UtAWRgip6\\u002fvTUBxdmuZDAVKQN0Gtd\\u002faY0tAoDTUKCTpS0DeVKTC2O5LQP32deCckUtAgh\\u002fVsN\\u002fVS0DGxObj2tZLQESlETP7JEpAh6QWSib7TUDWq8jogORLQAqBXOLI901ACjGXVG2fR0DSj4ZT5oBMQOi8xi5R40tAw552+GtgRUDeO2pMiP1NQD4l58QeaExAQu4iTFH8TUAwL8A+OttLQEPhs3Vw8E1AJ4QOuoT9S0BJhhxbz4JGQLnGZ7J\\u002fnE1Anj9tVKfzS0AiHLPsSVxLQDAvwD4620tAacTMPo\\u002f7TUDYYyKl2eRLQKw6qwX2yEtA5zi3CffSS0B9BWnGomdMQCeEDrqE\\u002fUtA1c+bilTiSUBz9WOT\\u002fPZNQK1OzlDca0VAnQ5kPbV6R0Dv\\u002fnivWuVLQGTL8nUZXktAOdTvwta2S0CsGoS53YNLQEi\\u002ffR0400tAbmqg+ZxhSEDisDTwo4JGQN7n+Ghx+E1AqgzjbhCdSkBGlPYGX+ZLQMZOeAlORUpAFFysqMHITUDp1JXP8iJQQIOmJVZGhUZA7bsi+N\\u002fyTUABiLt6FdNLQObOTDCcJ0tAIc7DCUzjS0CW0cjnFT1IQL\\u002fS+fAsh0ZARBSTN8CoRUCMvoI0Y7dLQFkUdlH0IElAmWGjrN\\u002feSkBWLekoB01NQPhxNEdW5EtA2O+JdarQS0C7JTlgV+lLQGKCGr6Fp0VAn3O366V7RkCs\\u002fZ3t0fVNQGeY2lIH+01APiXnxB5oTEBam8b2WvhNQJcA\\u002fFOqkExAR6rv\\u002fKJsTEBLHeT1YABNQElIpG38P0xAf05BfjZoTEBpHOp3YctOQH9QFymU10tAmBjL9EvgS0Aib7n6sZlLQJ92+Guy+k1AjbPpCODISUDl1M4wtYNGQJ60cFmF00tARl9BmrHCSkBIv30dONNLQPuRIjKsnE1AiZgSSfTaS0BfsvFgi41KQG5qoPmc30tAW9JRDmZhS0ABbatZZ\\u002fhNQPORlPQwZkxA2ZdsPNjmS0CIZTOHpI5MQATidf2C20lAA5SGGoV2RkDbpKKx9odGQKlKW1zja0xARP0ubM3eS0CL3T6rzOpLQELPZtXnjkVAoDTUKCSnRUD8jAsHQtZLQLFTrBqE8U1A2NglqrfGSkDRXKeRlthLQNnts8pM901APFCnPLpbR0Aav\\u002fBKkuFLQOPhPQeWe0ZA\"},\"legendgroup\":\"\",\"lon\":{\"dtype\":\"f8\",\"bdata\":\"vLGgMChDUUBOf\\u002fYjReJCQPp8lBEXxEJAOs\\u002fYl2z+S0DsMvynG7ZCQKc\\u002f+5EiQj5AAaPLm8PRQkBXtDnObcZCQEgyq3e4WT5An8n+eRr4S0CnP\\u002fuRIkI+QEgyq3e4WT5A7dgIxOvMQkD+f5wwYZpIQEnZImk3Pj5A\\u002fn+cMGGaSEB23VuRmNpCQPFJJxJMwUJASdkiaTc+PkC5T44CRNlCQEku\\u002fyH9ZFBAmDRG66g0RkBdjIF1HNtCQFe0Oc5txkJAycnErYJQPkBv1XWoprpCQPUPIhlyyEJAb9V1qKa6QkBJvady2o1IQGYyHM9n+ktAj1VKz\\u002fRiPkBdjIF1HNtCQPp8lBEXxEJANjrnpzgWSUBmMhzPZ\\u002fpLQFe0Oc5txkJAp3Ub1H6TQ0D+f5wwYZpIQMo1BTI7w0JAoFOQn42qQkBhjh6\\u002ft7dCQMnJxK2CUD5AH0dzZOWRSEB2VDVB1I1IQElHOZhN3kJA7GmHvybFQkAVkPY\\u002fwKpCQBUBTu\\u002fihVJAYoTwaONMPkAfR3Nk5ZFIQC+ISE27ZD5Ak+ANaVTYRkDJycStglA+QEDBxYoaukNAFZD2P8CqQkAxKNNocttCQBuFJLN6qUJAWWsotRdPTkAxKNNocttCQJCDEmbaxkJA\\u002fnxbsFRDPkBruMg9XTpXQENyMnGrWD5AWWsotRdPTkDk3CbcK9lDQBUBTu\\u002fihVJA8UknEkzBQkDIluXrMjQ+QEMglzjy4kBA76tyofL5S0AptKz7x0I+QPFJJxJMwUJAOdGuQsrTQkCpFhHF5NNDQB9Hc2TlkUhATiZuFcQ4SUANcEG2LF9SQEpfCDnv20JAuhPsv86xQkBEwvf+BkNOQMJpwYu+nkJAYY4ev7e3QkBuv3yyYrRCQDiez4B6p0JAO+C6YkbQQkANcEG2LF9SQIpamlshSD5AnuxmRj9aPkCe7GZGP1o+QJCHvruV20JAilqaWyFIPkBtUzwuqq1CQDpY\\u002f+cwnUhAX9BCAkYBTECq7\\u002fyihH1gQJ\\u002fJ\\u002fnka+EtA2VpfJLTJQkBYU1kUdgVMQB9Hc2TlkUhA2VpfJLTJQkBIMqt3uFk+QMo1BTI7w0JAJ0pCIm35WUAfR3Nk5ZFIQKrv\\u002fKKEfWBAHT7pRIKxS0CMSBRa1r1CQJ\\u002fleXB36EVAb9V1qKa6QkAaFM0DWMZCQARZT62+0kJAWWsotRdPTkBqwCDp04BDQLg+rDdqz0JAOlj\\u002f5zCdSEBAwcWKGrpDQMTouYWuQD5AbF1qhH7SQkDE6LmFrkA+QES+S6lLoEdARkWcTrK\\u002fQkAB9tGpK8dCQNy8cVKY0UJAIO7qVWRAPkAC85ApH4BDQHZUNUHUjUhA75I4KyLiYEAYk\\u002f5eCjs+QL4yb9V1ykJA7BNAMbLEQkDIsmDij\\u002f5GQMb9R6ZDIUJAkQpjC0HGQkB80\\u002fTZAS9IQGEzwAXZTj5AW3wKgPFyREBDOGbZk0JGQEm9p3LajUhAsRafAmDQQkCKWppbIUg+QEJClC9ofUNAROBIoMFWPkBAL9y5MCBDQH2zzY3pwUJAbojxmlfxQkCeB3dn7aROQGn9LQH4b0NAt0Htt3baQkDZWl8ktMlCQEFF1a90Uj5AZ341BwiwTkAFvw0xXslCQBH92vrpuUJAJxWNtb+hQkAKSWb1Ds9CQDtwzojSykJAMSjTaHLbQkAg7upVZEA+QOZd9YB50kJAWd5VD5iFSEDkvtU6cRdDQCDu6lVkQD5AV3kCYad8Q0ADzefc7eZCQFNCsKpefENAvjJv1XXKQkAbhSSzeqlCQEM4ZtmTQkZAXmkZqffEQkCgbqDAO+9CQJQUWABTVENAHT7pRIKxS0CAme\\u002fgJwpCQEZ4exAC3ENAc7nBUAd9YEBLWBtjJ4BDQEMglzjy4kBA\\u002f89hvrwSSUA3xeOiWvhEQN\\u002feNehLR0ZAnuxmRj9aPkAllL4QcmI+QPg3aK8+ZFBAfNP02QEvSEDqPZXTnmJOQAn5oGezbj5AS8yzklbQQkDHm\\u002fwWnVw+QEJClC9ofUNAuD6sN2rPQkCq7\\u002fyihH1gQKfPDriufENAuDzWjAzYQkCeBgySPstCQOvld5rMmkJACw4viEhFPkBIMqt3uFk+QA6Cjla11kJAcvikEwnoRUD5n\\u002fzdO55CQFezzvi+wkJASS7\\u002fIf1kUEDqBZ\\u002fm5NtCQCUfuwuU3EJAJXoZxXK5QkD4bB0c7NNCQKjixi3m30NAjEgUWta9QkCfyf55GvhLQN\\u002fDJcedtkhANqs+V1taUkAZOKClK2Q+QAAAAAAAAPh\\u002f\\u002fpqsUQ\\u002fZQkC8XMR3Yr5CQIfguIybJkhAJ2ppboVIPkDfUs4Xe35gQHS0qiUdw0JAYY4ev7e3QkDdJAaBlc9CQB8vpMNDWEJAMgQAx55vUECf5Xlwd+hFQPzfERWqU05Avr7WpUZwPkAj9DP1utlIQDICKhxBTj5AyjUFMjvDQkARjln2JFw+QAQg7upVtkJAsffii\\u002fZMTkCxv+yePKBDQB+duvJZmEhAaqUQyCU\\u002fV0BrmnecogNHQGu4yD1dOldAesN95NbGQkA6B8+EJk0+QPmiPV5Iz0JA8nhafuDuQ0B23VuRmNpCQOoFn+bk20JAho2yfjN9QkBybD1DONBCQEflJmppPj5Ak+ANaVTYRkBybD1DONBCQFYsflNYK0pAmfT3UniMSEDwTGiSWPJCQOf9f5wwBUxAk+ANaVTYRkCeB3dn7aROQHsTQ3IywUJAZjIcz2f6S0BEvkupS6BHQEnajT7m40JAAb7bvHHaRkAFGQEVjmw+QJ\\u002fJ\\u002fnka+EtAcET3rGuWQkA\\u002fbr98sp5CQGr5gas812FAy9qmeFyqQkBUVWgglr5UQPbwZaKIfmBAh913DI+dNEBzucFQB31gQMJQhxVu2UJAwlCHFW7ZQkBAvoQKjnxgQBwnhXmPWz5AsRafAmDQQkC+hXXj3c9CQEiLM4Y50UJAQzhm2ZNCRkC6E+y\\u002fzrFCQE59IHnnBkpAUmUYd4PIQkCIMH4a90I+QCNli6Td7EJAQx1WuOXBQkDpRe1+FfJFQES+S6lLoEdAIjgu46ZkUECO6nQg679CQNtpa0QwHj5AkQ2ki03RQkAPfuIA+k9SQOTcJtwr2UNAEMmQY+vbQkDVd35RgqhLQK+0jNR7Rj5AzqW4quw2V0ANG2X9ZrxDQLn8h\\u002fTbzUJAufyH9NvNQkC\\u002ft+nPfu5IQNbm\\u002f1VH12FAMjogCfu8QkDElEiil\\u002flCQKfPDriufENAqFFIMqvBSkCastMP6tBCQBE5fT1fT05AXknyXN\\u002fxS0AaFM0DWMZCQDZy3ZTyDEFA529CIQJOPkC6Mqg2OMlCQKbTug1qdz5AM\\u002frRcMp8PkCRDaSLTdFCQDxrt11ozkJALA5nfjUXSUBwmGiQgqVCQHO5wVAHfWBAU0Kwql58Q0DdJAaBlc9CQNbHQ9\\u002fdNj5ABd1e0hhFPkDAQubKoMpCQJbpl4i3CkFAG4Uks3qpQkCnzw64rnxDQGDMlqyKwEJA\\u002fyJozCSQSEA7NZcbDKdCQIKRlzWx1kJA\\u002f+kGCrxTPkC+vtalRnA+QEtzK4TVAEZAC5krg2ptREBckC3L171CQFnd6jnpGUdAg8KgTKOZQ0BEwvf+BkNOQMxdS8gH0UJAexNDcjLBQkC\\u002f02TG2\\u002fREQKORzyuexEJA1Qj9TL0tU0AAAAAAAAD4fzbM0HgiVD5AKji8ICI3YEDEzalkAEJGQAqd19glyEJAl6sfm+RjUEAGvMywUYJEQHbdW5GY2kJAsfz5tmDRR0Dys5HrpghMQOxMofMaTz5AxxLWxljXYUBR2EXRAxtHQGnjiLX46lRAQbyuX7BnPkAlehnFcrlCQFfsL7unomBAMsueBLaMYECFQ2\\u002fx8LhCQAqFCDiE9kJA38Mlx522SEBuiPGaV\\u002fFCQDbM0HgiVD5AHFw65jz1Q0DNrnsrEsVCQM6luKrsR05Ans+AejPMQkAEWU+tvtJCQDc10HzO0UJAjspN1NLmR0AQejarPslCQA1uawvPGUxAJ2a9GMpPTkDqBZ\\u002fm5NtCQCDu6lVkQD5AOj3vxoIcSUDPEmQEVNRCQP7RN2ka2EZAU+v9RjuqTkA5C3va4fNBQOaw+47hUT5A\\u002fg3aq4\\u002fTQkBMcOoDyZ8+QLoyqDY4yUJAxO47hsfoRUA4SfPHtNBCQHZUNUHUjUhAM\\u002frRcMp8PkAFoidlUmBcQPEvgsZMCEBAWrkXmBWOSEA74SU49dlCQOjYQSWusU5AvyfWqfLBQkDAQubKoMpCQJVkHY6uE1pAJ2ppboVIPkDsihnh7b1CQFUuVP61ZD5AeSPzyB\\u002fcQ0ALmSuDam1EQA6Cjla11kJAV+wvu6eiYEBHWb+ZmFI+QAx1WOGWT05ARIoBEk1QPkBsXWqEftJCQKc\\u002f+5EiQj5AD\\u002fEPW3o4V0BTQrCqXnxDQA0AVdy470NAsRafAmDQQkBmMhzPZ\\u002fpLQGxdaoR+0kJAtfzAVZ5QPkA\\u002fbr98sp5CQGB15EhnHkNAWYejq3TtQkAROX09X09OQA\\u002fxD1t6OFdAI9v5fmqMS0A5Rx0dV2M+QBUBTu\\u002fihVJAavmBqzzXYUCTGW8rvdhCQLq\\u002fety3+ktAesN95NbGQkB3EDtT6LpUQCAJ+3YSxUJAhsYTQZxHRkAZ4lgXt41DQDAqqRPQQD5ANjrnpzgWSUATtp+M8dtCQOykviztrENApvCg2XUfPkCvQspPqkNEQFd5AmGnfENAxcVRuYlKPkCeBgySPstCQNczhGOWMUhARnh7EALWQkDvkjgrIuJgQMYUrHE2d0NAJQhXQKHYRkCRCmMLQcZCQD1FDhE34l9A88tgjEjXVkBivOZVnddIQOI7MevF1EJAwmwCDMuDQkBDjxg9t\\u002fpCQAG+27xx2kZACCEgX0INQUBVF\\u002fAyw1o+QLddaK7TVD5ADHVY4ZZPTkB3gZICC0g+QJWCbi9pYlBAwJKrWPxOTkC8PJ0rSiFMQFN2+kFdP1VA9n6jHTdOTkCopiTrcHlQQOT2yycruEJAhxdEpKbpQkCeB3dn7aROQGKE8GjjTD5AyLJg4o\\u002f+RkCnzw64rnxDQMaLhSFyrEJA38Mlx522SEAgCft2EsVCQNegL73970NApI0j1uLLQkDWxtgJL4lGQA1v1uB9tUJAX9BCAkYBTECIMH4a90I+QMmutIzUR05AWOIBZVPKQkChnj4Cf2FQQNV3flGCqEtAlumXiLcKQUBLWBtjJ4BDQB9JSQ9DU05A2ln0TgXWQkBtUzwuqq1CQHO5wVAHfWBAhgDg2LPfRkBLAz+qYc9CQDCBW3fzVD5AkN0FSgqmSEDfap24HMtCQByVm6ilWT5AjexKy8jQYUD1gk9z8shCQHI0R1Z+CUFA\"},\"marker\":{\"color\":\"fuchsia\"},\"mode\":\"markers\",\"name\":\"\",\"showlegend\":false,\"subplot\":\"map\",\"type\":\"scattermap\"}],                        {\"template\":{\"data\":{\"histogram2dcontour\":[{\"type\":\"histogram2dcontour\",\"colorbar\":{\"outlinewidth\":0,\"ticks\":\"\"},\"colorscale\":[[0.0,\"#0d0887\"],[0.1111111111111111,\"#46039f\"],[0.2222222222222222,\"#7201a8\"],[0.3333333333333333,\"#9c179e\"],[0.4444444444444444,\"#bd3786\"],[0.5555555555555556,\"#d8576b\"],[0.6666666666666666,\"#ed7953\"],[0.7777777777777778,\"#fb9f3a\"],[0.8888888888888888,\"#fdca26\"],[1.0,\"#f0f921\"]]}],\"choropleth\":[{\"type\":\"choropleth\",\"colorbar\":{\"outlinewidth\":0,\"ticks\":\"\"}}],\"histogram2d\":[{\"type\":\"histogram2d\",\"colorbar\":{\"outlinewidth\":0,\"ticks\":\"\"},\"colorscale\":[[0.0,\"#0d0887\"],[0.1111111111111111,\"#46039f\"],[0.2222222222222222,\"#7201a8\"],[0.3333333333333333,\"#9c179e\"],[0.4444444444444444,\"#bd3786\"],[0.5555555555555556,\"#d8576b\"],[0.6666666666666666,\"#ed7953\"],[0.7777777777777778,\"#fb9f3a\"],[0.8888888888888888,\"#fdca26\"],[1.0,\"#f0f921\"]]}],\"heatmap\":[{\"type\":\"heatmap\",\"colorbar\":{\"outlinewidth\":0,\"ticks\":\"\"},\"colorscale\":[[0.0,\"#0d0887\"],[0.1111111111111111,\"#46039f\"],[0.2222222222222222,\"#7201a8\"],[0.3333333333333333,\"#9c179e\"],[0.4444444444444444,\"#bd3786\"],[0.5555555555555556,\"#d8576b\"],[0.6666666666666666,\"#ed7953\"],[0.7777777777777778,\"#fb9f3a\"],[0.8888888888888888,\"#fdca26\"],[1.0,\"#f0f921\"]]}],\"contourcarpet\":[{\"type\":\"contourcarpet\",\"colorbar\":{\"outlinewidth\":0,\"ticks\":\"\"}}],\"contour\":[{\"type\":\"contour\",\"colorbar\":{\"outlinewidth\":0,\"ticks\":\"\"},\"colorscale\":[[0.0,\"#0d0887\"],[0.1111111111111111,\"#46039f\"],[0.2222222222222222,\"#7201a8\"],[0.3333333333333333,\"#9c179e\"],[0.4444444444444444,\"#bd3786\"],[0.5555555555555556,\"#d8576b\"],[0.6666666666666666,\"#ed7953\"],[0.7777777777777778,\"#fb9f3a\"],[0.8888888888888888,\"#fdca26\"],[1.0,\"#f0f921\"]]}],\"surface\":[{\"type\":\"surface\",\"colorbar\":{\"outlinewidth\":0,\"ticks\":\"\"},\"colorscale\":[[0.0,\"#0d0887\"],[0.1111111111111111,\"#46039f\"],[0.2222222222222222,\"#7201a8\"],[0.3333333333333333,\"#9c179e\"],[0.4444444444444444,\"#bd3786\"],[0.5555555555555556,\"#d8576b\"],[0.6666666666666666,\"#ed7953\"],[0.7777777777777778,\"#fb9f3a\"],[0.8888888888888888,\"#fdca26\"],[1.0,\"#f0f921\"]]}],\"mesh3d\":[{\"type\":\"mesh3d\",\"colorbar\":{\"outlinewidth\":0,\"ticks\":\"\"}}],\"scatter\":[{\"fillpattern\":{\"fillmode\":\"overlay\",\"size\":10,\"solidity\":0.2},\"type\":\"scatter\"}],\"parcoords\":[{\"type\":\"parcoords\",\"line\":{\"colorbar\":{\"outlinewidth\":0,\"ticks\":\"\"}}}],\"scatterpolargl\":[{\"type\":\"scatterpolargl\",\"marker\":{\"colorbar\":{\"outlinewidth\":0,\"ticks\":\"\"}}}],\"bar\":[{\"error_x\":{\"color\":\"#2a3f5f\"},\"error_y\":{\"color\":\"#2a3f5f\"},\"marker\":{\"line\":{\"color\":\"#E5ECF6\",\"width\":0.5},\"pattern\":{\"fillmode\":\"overlay\",\"size\":10,\"solidity\":0.2}},\"type\":\"bar\"}],\"scattergeo\":[{\"type\":\"scattergeo\",\"marker\":{\"colorbar\":{\"outlinewidth\":0,\"ticks\":\"\"}}}],\"scatterpolar\":[{\"type\":\"scatterpolar\",\"marker\":{\"colorbar\":{\"outlinewidth\":0,\"ticks\":\"\"}}}],\"histogram\":[{\"marker\":{\"pattern\":{\"fillmode\":\"overlay\",\"size\":10,\"solidity\":0.2}},\"type\":\"histogram\"}],\"scattergl\":[{\"type\":\"scattergl\",\"marker\":{\"colorbar\":{\"outlinewidth\":0,\"ticks\":\"\"}}}],\"scatter3d\":[{\"type\":\"scatter3d\",\"line\":{\"colorbar\":{\"outlinewidth\":0,\"ticks\":\"\"}},\"marker\":{\"colorbar\":{\"outlinewidth\":0,\"ticks\":\"\"}}}],\"scattermap\":[{\"type\":\"scattermap\",\"marker\":{\"colorbar\":{\"outlinewidth\":0,\"ticks\":\"\"}}}],\"scattermapbox\":[{\"type\":\"scattermapbox\",\"marker\":{\"colorbar\":{\"outlinewidth\":0,\"ticks\":\"\"}}}],\"scatterternary\":[{\"type\":\"scatterternary\",\"marker\":{\"colorbar\":{\"outlinewidth\":0,\"ticks\":\"\"}}}],\"scattercarpet\":[{\"type\":\"scattercarpet\",\"marker\":{\"colorbar\":{\"outlinewidth\":0,\"ticks\":\"\"}}}],\"carpet\":[{\"aaxis\":{\"endlinecolor\":\"#2a3f5f\",\"gridcolor\":\"white\",\"linecolor\":\"white\",\"minorgridcolor\":\"white\",\"startlinecolor\":\"#2a3f5f\"},\"baxis\":{\"endlinecolor\":\"#2a3f5f\",\"gridcolor\":\"white\",\"linecolor\":\"white\",\"minorgridcolor\":\"white\",\"startlinecolor\":\"#2a3f5f\"},\"type\":\"carpet\"}],\"table\":[{\"cells\":{\"fill\":{\"color\":\"#EBF0F8\"},\"line\":{\"color\":\"white\"}},\"header\":{\"fill\":{\"color\":\"#C8D4E3\"},\"line\":{\"color\":\"white\"}},\"type\":\"table\"}],\"barpolar\":[{\"marker\":{\"line\":{\"color\":\"#E5ECF6\",\"width\":0.5},\"pattern\":{\"fillmode\":\"overlay\",\"size\":10,\"solidity\":0.2}},\"type\":\"barpolar\"}],\"pie\":[{\"automargin\":true,\"type\":\"pie\"}]},\"layout\":{\"autotypenumbers\":\"strict\",\"colorway\":[\"#636efa\",\"#EF553B\",\"#00cc96\",\"#ab63fa\",\"#FFA15A\",\"#19d3f3\",\"#FF6692\",\"#B6E880\",\"#FF97FF\",\"#FECB52\"],\"font\":{\"color\":\"#2a3f5f\"},\"hovermode\":\"closest\",\"hoverlabel\":{\"align\":\"left\"},\"paper_bgcolor\":\"white\",\"plot_bgcolor\":\"#E5ECF6\",\"polar\":{\"bgcolor\":\"#E5ECF6\",\"angularaxis\":{\"gridcolor\":\"white\",\"linecolor\":\"white\",\"ticks\":\"\"},\"radialaxis\":{\"gridcolor\":\"white\",\"linecolor\":\"white\",\"ticks\":\"\"}},\"ternary\":{\"bgcolor\":\"#E5ECF6\",\"aaxis\":{\"gridcolor\":\"white\",\"linecolor\":\"white\",\"ticks\":\"\"},\"baxis\":{\"gridcolor\":\"white\",\"linecolor\":\"white\",\"ticks\":\"\"},\"caxis\":{\"gridcolor\":\"white\",\"linecolor\":\"white\",\"ticks\":\"\"}},\"coloraxis\":{\"colorbar\":{\"outlinewidth\":0,\"ticks\":\"\"}},\"colorscale\":{\"sequential\":[[0.0,\"#0d0887\"],[0.1111111111111111,\"#46039f\"],[0.2222222222222222,\"#7201a8\"],[0.3333333333333333,\"#9c179e\"],[0.4444444444444444,\"#bd3786\"],[0.5555555555555556,\"#d8576b\"],[0.6666666666666666,\"#ed7953\"],[0.7777777777777778,\"#fb9f3a\"],[0.8888888888888888,\"#fdca26\"],[1.0,\"#f0f921\"]],\"sequentialminus\":[[0.0,\"#0d0887\"],[0.1111111111111111,\"#46039f\"],[0.2222222222222222,\"#7201a8\"],[0.3333333333333333,\"#9c179e\"],[0.4444444444444444,\"#bd3786\"],[0.5555555555555556,\"#d8576b\"],[0.6666666666666666,\"#ed7953\"],[0.7777777777777778,\"#fb9f3a\"],[0.8888888888888888,\"#fdca26\"],[1.0,\"#f0f921\"]],\"diverging\":[[0,\"#8e0152\"],[0.1,\"#c51b7d\"],[0.2,\"#de77ae\"],[0.3,\"#f1b6da\"],[0.4,\"#fde0ef\"],[0.5,\"#f7f7f7\"],[0.6,\"#e6f5d0\"],[0.7,\"#b8e186\"],[0.8,\"#7fbc41\"],[0.9,\"#4d9221\"],[1,\"#276419\"]]},\"xaxis\":{\"gridcolor\":\"white\",\"linecolor\":\"white\",\"ticks\":\"\",\"title\":{\"standoff\":15},\"zerolinecolor\":\"white\",\"automargin\":true,\"zerolinewidth\":2},\"yaxis\":{\"gridcolor\":\"white\",\"linecolor\":\"white\",\"ticks\":\"\",\"title\":{\"standoff\":15},\"zerolinecolor\":\"white\",\"automargin\":true,\"zerolinewidth\":2},\"scene\":{\"xaxis\":{\"backgroundcolor\":\"#E5ECF6\",\"gridcolor\":\"white\",\"linecolor\":\"white\",\"showbackground\":true,\"ticks\":\"\",\"zerolinecolor\":\"white\",\"gridwidth\":2},\"yaxis\":{\"backgroundcolor\":\"#E5ECF6\",\"gridcolor\":\"white\",\"linecolor\":\"white\",\"showbackground\":true,\"ticks\":\"\",\"zerolinecolor\":\"white\",\"gridwidth\":2},\"zaxis\":{\"backgroundcolor\":\"#E5ECF6\",\"gridcolor\":\"white\",\"linecolor\":\"white\",\"showbackground\":true,\"ticks\":\"\",\"zerolinecolor\":\"white\",\"gridwidth\":2}},\"shapedefaults\":{\"line\":{\"color\":\"#2a3f5f\"}},\"annotationdefaults\":{\"arrowcolor\":\"#2a3f5f\",\"arrowhead\":0,\"arrowwidth\":1},\"geo\":{\"bgcolor\":\"white\",\"landcolor\":\"#E5ECF6\",\"subunitcolor\":\"white\",\"showland\":true,\"showlakes\":true,\"lakecolor\":\"white\"},\"title\":{\"x\":0.05},\"mapbox\":{\"style\":\"light\"}}},\"map\":{\"domain\":{\"x\":[0.0,1.0],\"y\":[0.0,1.0]},\"center\":{\"lat\":54.64481913827656,\"lon\":46.91048886573146},\"zoom\":3,\"style\":\"open-street-map\"},\"legend\":{\"tracegroupgap\":0},\"margin\":{\"t\":0,\"r\":0,\"l\":0,\"b\":0},\"height\":300,\"mapbox\":{\"center\":{\"lat\":54.64481913827656,\"lon\":46.91048886573146},\"zoom\":3}},                        {\"responsive\": true}                    ).then(function(){\n",
       "                            \n",
       "var gd = document.getElementById('1ef0553b-5e4e-411d-8388-d34c3a36a645');\n",
       "var x = new MutationObserver(function (mutations, observer) {{\n",
       "        var display = window.getComputedStyle(gd).display;\n",
       "        if (!display || display === 'none') {{\n",
       "            console.log([gd, 'removed!']);\n",
       "            Plotly.purge(gd);\n",
       "            observer.disconnect();\n",
       "        }}\n",
       "}});\n",
       "\n",
       "// Listen for the removal of the full notebook cells\n",
       "var notebookContainer = gd.closest('#notebook-container');\n",
       "if (notebookContainer) {{\n",
       "    x.observe(notebookContainer, {childList: true});\n",
       "}}\n",
       "\n",
       "// Listen for the clearing of the current output cell\n",
       "var outputEl = gd.closest('.output');\n",
       "if (outputEl) {{\n",
       "    x.observe(outputEl, {childList: true});\n",
       "}}\n",
       "\n",
       "                        })                };            </script>        </div>"
      ]
     },
     "metadata": {},
     "output_type": "display_data"
    }
   ],
   "source": [
    "import pandas as pd\n",
    "import plotly.express as px\n",
    "import plotly.offline as pyo\n",
    "pyo.init_notebook_mode(connected=True)\n",
    "\n",
    "companies_location = pd.read_csv(\"data/location_companies.csv\")\n",
    "\n",
    "fig = px.scatter_map(companies_location, lat=\"lat\", lon=\"lng\", color_discrete_sequence=[\"fuchsia\"], zoom=3, height=300)\n",
    "fig.update_layout(map_style=\"open-street-map\")\n",
    "fig.update_layout(margin={\"r\":0,\"t\":0,\"l\":0,\"b\":0})\n",
    "\n",
    "fig.show(renderer=\"notebook_connected\")"
   ]
  },
  {
   "cell_type": "markdown",
   "id": "8cd3373f-af25-4e16-87e8-418aaeda897a",
   "metadata": {},
   "source": [
    "- Как видно, большинство компаний сосредоточенно в Центральном регионе России: в основном в Москве и Московской области. Хотя есть и скопление в Санкт-Петербурге и других крупных городах России"
   ]
  },
  {
   "cell_type": "markdown",
   "id": "d8d79e08-3510-42d1-b2af-c190d0f550b6",
   "metadata": {},
   "source": [
    "## Вывод"
   ]
  },
  {
   "cell_type": "markdown",
   "id": "0bb5c32d-dfda-404a-a6d3-6510e81a106a",
   "metadata": {},
   "source": [
    "Итак, мы проанализировали рынок строительной отрасли. Из полученных результатов можно сделать следующие выводы:\n",
    "- Рынок демонстрировал рост с 2020 по 2022 год, но в 2023 году начался небольшой спад, вероятно, из-за повышенных расходов (правда результатов за 2024 год у нас на момент создания отчёта у нас нет). При всём этом 55% компаний показали рост чистой прибыли за 4 года, что может говорить об улучшающейся ситуации в отрасли с 2020 по 2023 год.\n",
    "- С общей точки зрения рентабельность отрасли в целом средняя.\n",
    "- В отрасли есть небольшая группа высокодоходных компаний.\n",
    "- Основные игроки сконцентрированы в крупнейших городах России.\n",
    "Таким образом, несмотря на общий рост отрасли, структура рынка остается неравномерной, а недавний спад в 2023 году может сигнализировать о возможных рисках. Вложение в отрасль требует осторожности, особенно с учетом высокой концентрации доходов у ограниченного числа компаний."
   ]
  }
 ],
 "metadata": {
  "kernelspec": {
   "display_name": "Python 3 (ipykernel)",
   "language": "python",
   "name": "python3"
  },
  "language_info": {
   "codemirror_mode": {
    "name": "ipython",
    "version": 3
   },
   "file_extension": ".py",
   "mimetype": "text/x-python",
   "name": "python",
   "nbconvert_exporter": "python",
   "pygments_lexer": "ipython3",
   "version": "3.13.1"
  }
 },
 "nbformat": 4,
 "nbformat_minor": 5
}
