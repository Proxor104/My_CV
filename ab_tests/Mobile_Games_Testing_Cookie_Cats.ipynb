{
 "cells": [
  {
   "cell_type": "markdown",
   "id": "334be7bc-4c4d-4678-8ceb-b6a385cde0d4",
   "metadata": {},
   "source": [
    "# Mobile Games AB Testing with Cookie Cats\n",
    "\n",
    "Проанализируйте результаты эксперимента и напишите свои рекомендации менеджеру. Mobile Games AB Testing with Cookie Cats\n",
    "\n",
    "Данные для анализа: https://docs.google.com/spreadsheets/d/1Dj6c6pmdg1N_rL3T2zg4HxnBo7poBgm6-g-40ATIJmE/edit#gid=1733885895 (\"результаты А_B - cookie_cats 2.csv\")"
   ]
  },
  {
   "cell_type": "markdown",
   "id": "f33a911a-0d0d-4843-8402-e652414042e6",
   "metadata": {},
   "source": [
    "### Начало"
   ]
  },
  {
   "cell_type": "markdown",
   "id": "ca468663-0dab-4ae8-aaa7-af0c5b005e4d",
   "metadata": {},
   "source": [
    "Импортируем библиотеки Python, необходимые для анализа данных"
   ]
  },
  {
   "cell_type": "code",
   "execution_count": 53,
   "id": "02425871-a16c-4f95-b2a1-884c151fe100",
   "metadata": {},
   "outputs": [],
   "source": [
    "import numpy as np\n",
    "import pandas as pd\n",
    "import seaborn as sns\n",
    "import matplotlib.pyplot as plt\n",
    "from scipy import stats\n",
    "\n",
    "from tqdm.notebook import tqdm\n",
    "\n",
    "plt.style.use('ggplot')\n",
    "%matplotlib inline"
   ]
  },
  {
   "cell_type": "markdown",
   "id": "7355ed48-9101-47bb-adb1-1587d0ec7212",
   "metadata": {},
   "source": [
    "### Анализ данных "
   ]
  },
  {
   "cell_type": "markdown",
   "id": "1d212535-4986-42c3-8b53-7b1065d65613",
   "metadata": {},
   "source": [
    "Загружаем данные из CSV-файла \"результаты А_B - cookie_cats 2.csv\" и анализируем вид этих данных "
   ]
  },
  {
   "cell_type": "code",
   "execution_count": 54,
   "id": "0e93c956-2bd7-4a5e-a89a-76eb91f542cd",
   "metadata": {},
   "outputs": [],
   "source": [
    "data = pd.read_csv(\"результаты А_B - cookie_cats 2.csv\")"
   ]
  },
  {
   "cell_type": "code",
   "execution_count": 55,
   "id": "b42774ff-618f-4948-9625-ef0f6ed46048",
   "metadata": {},
   "outputs": [
    {
     "data": {
      "text/plain": [
       "(90189, 5)"
      ]
     },
     "execution_count": 55,
     "metadata": {},
     "output_type": "execute_result"
    }
   ],
   "source": [
    "data.shape"
   ]
  },
  {
   "cell_type": "code",
   "execution_count": 56,
   "id": "b0f370bc-7391-4a6d-b970-efb5ff982fe3",
   "metadata": {},
   "outputs": [
    {
     "data": {
      "text/html": [
       "<div>\n",
       "<style scoped>\n",
       "    .dataframe tbody tr th:only-of-type {\n",
       "        vertical-align: middle;\n",
       "    }\n",
       "\n",
       "    .dataframe tbody tr th {\n",
       "        vertical-align: top;\n",
       "    }\n",
       "\n",
       "    .dataframe thead th {\n",
       "        text-align: right;\n",
       "    }\n",
       "</style>\n",
       "<table border=\"1\" class=\"dataframe\">\n",
       "  <thead>\n",
       "    <tr style=\"text-align: right;\">\n",
       "      <th></th>\n",
       "      <th>userid</th>\n",
       "      <th>version</th>\n",
       "      <th>sum_gamerounds</th>\n",
       "      <th>retention_1</th>\n",
       "      <th>retention_7</th>\n",
       "    </tr>\n",
       "  </thead>\n",
       "  <tbody>\n",
       "    <tr>\n",
       "      <th>0</th>\n",
       "      <td>116</td>\n",
       "      <td>gate_30</td>\n",
       "      <td>3</td>\n",
       "      <td>0</td>\n",
       "      <td>0</td>\n",
       "    </tr>\n",
       "    <tr>\n",
       "      <th>1</th>\n",
       "      <td>337</td>\n",
       "      <td>gate_30</td>\n",
       "      <td>38</td>\n",
       "      <td>1</td>\n",
       "      <td>0</td>\n",
       "    </tr>\n",
       "    <tr>\n",
       "      <th>2</th>\n",
       "      <td>377</td>\n",
       "      <td>gate_40</td>\n",
       "      <td>165</td>\n",
       "      <td>1</td>\n",
       "      <td>0</td>\n",
       "    </tr>\n",
       "    <tr>\n",
       "      <th>3</th>\n",
       "      <td>483</td>\n",
       "      <td>gate_40</td>\n",
       "      <td>1</td>\n",
       "      <td>0</td>\n",
       "      <td>0</td>\n",
       "    </tr>\n",
       "    <tr>\n",
       "      <th>4</th>\n",
       "      <td>488</td>\n",
       "      <td>gate_40</td>\n",
       "      <td>179</td>\n",
       "      <td>1</td>\n",
       "      <td>1</td>\n",
       "    </tr>\n",
       "  </tbody>\n",
       "</table>\n",
       "</div>"
      ],
      "text/plain": [
       "   userid  version  sum_gamerounds  retention_1  retention_7\n",
       "0     116  gate_30               3            0            0\n",
       "1     337  gate_30              38            1            0\n",
       "2     377  gate_40             165            1            0\n",
       "3     483  gate_40               1            0            0\n",
       "4     488  gate_40             179            1            1"
      ]
     },
     "execution_count": 56,
     "metadata": {},
     "output_type": "execute_result"
    }
   ],
   "source": [
    "data.head()"
   ]
  },
  {
   "cell_type": "code",
   "execution_count": 57,
   "id": "bbbd14d8-b940-4eea-952b-aaacd9cbab90",
   "metadata": {},
   "outputs": [
    {
     "name": "stdout",
     "output_type": "stream",
     "text": [
      "<class 'pandas.core.frame.DataFrame'>\n",
      "RangeIndex: 90189 entries, 0 to 90188\n",
      "Data columns (total 5 columns):\n",
      " #   Column          Non-Null Count  Dtype \n",
      "---  ------          --------------  ----- \n",
      " 0   userid          90189 non-null  int64 \n",
      " 1   version         90189 non-null  object\n",
      " 2   sum_gamerounds  90189 non-null  int64 \n",
      " 3   retention_1     90189 non-null  int64 \n",
      " 4   retention_7     90189 non-null  int64 \n",
      "dtypes: int64(4), object(1)\n",
      "memory usage: 3.4+ MB\n"
     ]
    }
   ],
   "source": [
    "data.info()"
   ]
  },
  {
   "cell_type": "code",
   "execution_count": 58,
   "id": "27033c73-88c8-4ec1-a1a3-9a01a1f51db2",
   "metadata": {},
   "outputs": [
    {
     "data": {
      "text/plain": [
       "(retention_1\n",
       " 0    50036\n",
       " 1    40153\n",
       " Name: count, dtype: int64,\n",
       " retention_7\n",
       " 0    73408\n",
       " 1    16781\n",
       " Name: count, dtype: int64)"
      ]
     },
     "execution_count": 58,
     "metadata": {},
     "output_type": "execute_result"
    }
   ],
   "source": [
    "data.retention_1.value_counts(), data.retention_7.value_counts()"
   ]
  },
  {
   "cell_type": "markdown",
   "id": "6f858375-0083-4a7f-8ac4-71d2a0ec224a",
   "metadata": {},
   "source": [
    "По итогу видим, что данные содержат сравнение двух версий игры: _с воротами на уровне 30_ (gate_30) и _на уровне 40_ (gate_40). \n",
    "Основные метрики - количество игровых раундов (sum_gamerounds), удержание через 1 день (retention_1) и удержание через 7 дней (retention_7)."
   ]
  },
  {
   "cell_type": "markdown",
   "id": "f1a77661-0c62-44be-9d94-24b85280528f",
   "metadata": {},
   "source": [
    "### Тесты"
   ]
  },
  {
   "cell_type": "markdown",
   "id": "c189c69f-738d-4d04-946f-c107f3b8f6a3",
   "metadata": {},
   "source": [
    "Для дальнейшего тестирования будем считать пользователей из gate_30 - контрольной выборкой, а из gate_40 - тестовой.\n",
    "И проведёт тесты, сравнивающие основные метрики для теста и контроля."
   ]
  },
  {
   "cell_type": "markdown",
   "id": "9fcc2fe9-f1c2-4e0b-b766-deb8a4097052",
   "metadata": {},
   "source": [
    "В данных отсутствуют пользователи, находящиеся одновременно в двух выборках. А также каждая строчка данных соответствует ровно 1 пользователю."
   ]
  },
  {
   "cell_type": "code",
   "execution_count": 59,
   "id": "c026e64b-0e2c-414c-a7b5-889bf39d51c1",
   "metadata": {},
   "outputs": [
    {
     "data": {
      "text/plain": [
       "version\n",
       "1    90189\n",
       "Name: count, dtype: int64"
      ]
     },
     "execution_count": 59,
     "metadata": {},
     "output_type": "execute_result"
    }
   ],
   "source": [
    "data.groupby(\"userid\")[\"version\"].count().value_counts()"
   ]
  },
  {
   "cell_type": "code",
   "execution_count": 60,
   "id": "fae385b1-c09f-4e43-989e-75d5b452034d",
   "metadata": {},
   "outputs": [],
   "source": [
    "control = data[data.version == \"gate_30\"]\n",
    "test = data[data.version == \"gate_40\"]"
   ]
  },
  {
   "cell_type": "code",
   "execution_count": 61,
   "id": "20fd16e1-821e-4d9f-a9c1-0ac6ad02344b",
   "metadata": {},
   "outputs": [
    {
     "data": {
      "text/plain": [
       "((44700, 5), (45489, 5), 90189)"
      ]
     },
     "execution_count": 61,
     "metadata": {},
     "output_type": "execute_result"
    }
   ],
   "source": [
    "control.shape, test.shape, control.shape[0] + test.shape[0]"
   ]
  },
  {
   "cell_type": "code",
   "execution_count": 62,
   "id": "ee38aafe-1d8a-428c-bfcf-8c9490bfd3c2",
   "metadata": {},
   "outputs": [],
   "source": [
    "control_gamerounds = control.sum_gamerounds.values\n",
    "test_gamerounds = test.sum_gamerounds.values"
   ]
  },
  {
   "cell_type": "markdown",
   "id": "fc293dde-4416-44cb-a44d-c635a8c047de",
   "metadata": {},
   "source": [
    "Начнём проводить тесты. Начнём с метрики количества игровых раундов."
   ]
  },
  {
   "cell_type": "code",
   "execution_count": 63,
   "id": "2e072887-8508-4220-83a7-db57ed832b54",
   "metadata": {},
   "outputs": [],
   "source": [
    "from scipy.stats import ttest_ind\n",
    "from scipy.stats import levene\n",
    "from scipy.stats import mannwhitneyu"
   ]
  },
  {
   "cell_type": "markdown",
   "id": "51fb2910-35d2-4b7f-bd9c-51e0943678ab",
   "metadata": {},
   "source": [
    "Проверим выборки на равенство дисперсий с помощью теста Левена."
   ]
  },
  {
   "cell_type": "code",
   "execution_count": 64,
   "id": "3978cdb3-6ecf-4193-8fff-190d1b5d0e05",
   "metadata": {},
   "outputs": [
    {
     "data": {
      "text/plain": [
       "LeveneResult(statistic=np.float64(0.5292002638313259), pvalue=np.float64(0.46694516772623273))"
      ]
     },
     "execution_count": 64,
     "metadata": {},
     "output_type": "execute_result"
    }
   ],
   "source": [
    "levene(control_gamerounds, test_gamerounds)"
   ]
  },
  {
   "cell_type": "markdown",
   "id": "c2059f2c-0d8c-46d5-8cb3-bff6e8f5dc0e",
   "metadata": {},
   "source": [
    "Поскольку p-value > 0.05, нулевая гипотеза (дисперсии равны) не отвергается. \n",
    "Это позволяет использовать t-тест с предположением о равных дисперсиях."
   ]
  },
  {
   "cell_type": "markdown",
   "id": "e3e30ca9-438a-417f-82d5-bdfd306bdfb0",
   "metadata": {},
   "source": [
    "Но перед t-тестом проведём тест Манна-Уитни, который сравнивает распределения числа сыгранных раундов."
   ]
  },
  {
   "cell_type": "code",
   "execution_count": 65,
   "id": "90f363b4-6f39-484c-b0e5-d2e14fa56d4b",
   "metadata": {},
   "outputs": [
    {
     "data": {
      "text/plain": [
       "MannwhitneyuResult(statistic=np.float64(1024331250.5), pvalue=np.float64(0.05020880772044255))"
      ]
     },
     "execution_count": 65,
     "metadata": {},
     "output_type": "execute_result"
    }
   ],
   "source": [
    "mannwhitneyu(control_gamerounds, test_gamerounds)"
   ]
  },
  {
   "cell_type": "markdown",
   "id": "9c8f7373-b421-4970-9a94-74cf0aca9490",
   "metadata": {},
   "source": [
    "P-value слегка выше 0.05, что указывает на отсутствие статистически значимых различий на уровне значимости 5%. \n",
    "То есть тест и контроль имеют одинаковые распределения."
   ]
  },
  {
   "cell_type": "markdown",
   "id": "8ef7ae71-c203-4678-8e51-348293acbe85",
   "metadata": {},
   "source": [
    "Хотя данные и не должны быть распределены нормально, но с учётом размера наших выборок, можем провести t-тест для сравнения матожиданий выборок."
   ]
  },
  {
   "cell_type": "code",
   "execution_count": 66,
   "id": "ed5b4ad9-64dd-4756-9722-5f13ee762884",
   "metadata": {},
   "outputs": [
    {
     "data": {
      "text/plain": [
       "TtestResult(statistic=np.float64(0.8910426211362967), pvalue=np.float64(0.37290868247405207), df=np.float64(90187.0))"
      ]
     },
     "execution_count": 66,
     "metadata": {},
     "output_type": "execute_result"
    }
   ],
   "source": [
    "ttest_ind(control_gamerounds, test_gamerounds, equal_var=True)"
   ]
  },
  {
   "cell_type": "markdown",
   "id": "6db01396-e4d8-4336-9148-c29f4065cecc",
   "metadata": {},
   "source": [
    "P-value значительно выше 0.05, нулевая гипотеза (средние равны) не отвергается. Различий в среднем количестве раундов нет.\n",
    "\n",
    "_Таким образом, сдвиг ворот с 30 на 40 уровень, существенно не сказался на количестве раундов, сыгранных пользователями._"
   ]
  },
  {
   "cell_type": "markdown",
   "id": "e47fd3c7-46e9-4395-b2ef-235200314c19",
   "metadata": {},
   "source": [
    "Теперь проведём z-тесты для retention за 1 и 7 дни"
   ]
  },
  {
   "cell_type": "code",
   "execution_count": 84,
   "id": "4f8c17bf-957e-48c6-8ce8-25c339cbd769",
   "metadata": {},
   "outputs": [],
   "source": [
    "control_retention_1 = control.retention_1.values\n",
    "test_retention_1 = test.retention_1.values\n",
    "\n",
    "control_retention_7 = control.retention_7.values\n",
    "test_retention_7 = test.retention_7.values"
   ]
  },
  {
   "cell_type": "markdown",
   "id": "d0b6f500-ac94-4892-9c48-ae676dd45550",
   "metadata": {},
   "source": [
    "Для проведения z-теста запишем функция ret_test для проверки статистической значимости различий в пропорциях"
   ]
  },
  {
   "cell_type": "code",
   "execution_count": 85,
   "id": "b0a2010a-58e7-4e5c-8377-8a7d7fe32916",
   "metadata": {},
   "outputs": [],
   "source": [
    "def ret_test(ma, na, mb, nb, alpha, alternative=\"two-sided\"):\n",
    "    '''\n",
    "    output:\n",
    "    False - H_0 принимается \n",
    "    True - H_0 отвергается \n",
    "    '''\n",
    "    wa = ma / na\n",
    "    wb = mb / nb\n",
    "    w = (ma + mb) / (na + nb)\n",
    "    diff = wb - wa\n",
    "    SE = np.sqrt(w * (1-w) * (1/na + 1/nb))\n",
    "    stat = (diff) / SE\n",
    "    # \n",
    "    dist_norm = stats.norm(loc=0, scale=1)\n",
    "    quantile = dist_norm.ppf(alpha/2)\n",
    "    # \n",
    "    CI = (diff + SE * quantile, diff - SE * quantile)\n",
    "    # \n",
    "    if alternative == \"two-sided\":\n",
    "        p_value = 2 * min(dist_norm.sf(stat), dist_norm.cdf(stat))\n",
    "        if p_value > alpha:\n",
    "            return False, CI\n",
    "        return True, CI\n",
    "    elif alternative == \"greater\":\n",
    "        p_value = dist_norm.sf(stat)\n",
    "        if p_value > alpha:\n",
    "            return False, CI\n",
    "        return True, CI\n",
    "    elif alternative == \"less\":\n",
    "        p_value = dist_norm.cdf(stat)\n",
    "        if p_value > alpha:\n",
    "            return False, CI\n",
    "        return True, CI\n",
    "    return None, CI"
   ]
  },
  {
   "cell_type": "markdown",
   "id": "6d221ac4-66f6-4a01-aea1-5a78c5fa3058",
   "metadata": {},
   "source": [
    "Проверяем retention за 1 день"
   ]
  },
  {
   "cell_type": "code",
   "execution_count": 86,
   "id": "095127f5-f2b4-4bcc-85e4-3244dcf3ad05",
   "metadata": {},
   "outputs": [
    {
     "data": {
      "text/plain": [
       "(False, (np.float64(-0.012392479618511289), np.float64(0.0005821400438283724)))"
      ]
     },
     "execution_count": 86,
     "metadata": {},
     "output_type": "execute_result"
    }
   ],
   "source": [
    "alpha = .05\n",
    "\n",
    "ret_test(control_retention_1.sum(), control_retention_1.shape[0], test_retention_1.sum(), test_retention_1.shape[0], alpha, alternative=\"two-sided\")"
   ]
  },
  {
   "cell_type": "markdown",
   "id": "ef529793-d154-480e-a83c-6524f9d673a6",
   "metadata": {},
   "source": [
    "Результат: False (H₀ не отвергается), доверительный интервал включает 0 (-0.0124, 0.0006). Различий в удержании через 1 день нет."
   ]
  },
  {
   "cell_type": "markdown",
   "id": "0283ed5b-d878-4f71-9a0f-de3bb00f054e",
   "metadata": {},
   "source": [
    "Проверяем retention за 7 дней"
   ]
  },
  {
   "cell_type": "code",
   "execution_count": 87,
   "id": "995338a0-360a-472e-8d6b-733819a6a0e6",
   "metadata": {},
   "outputs": [
    {
     "data": {
      "text/plain": [
       "(True, (np.float64(-0.013281079012494897), np.float64(-0.0031215176179169284)))"
      ]
     },
     "execution_count": 87,
     "metadata": {},
     "output_type": "execute_result"
    }
   ],
   "source": [
    "ret_test(control_retention_7.sum(), control_retention_7.shape[0], test_retention_7.sum(), test_retention_7.shape[0], alpha, alternative=\"two-sided\")"
   ]
  },
  {
   "cell_type": "code",
   "execution_count": 88,
   "id": "2ffb5937-bed3-43f9-933e-e7943ba1b62f",
   "metadata": {},
   "outputs": [
    {
     "data": {
      "text/plain": [
       "(True, (np.float64(-0.013281079012494897), np.float64(-0.0031215176179169284)))"
      ]
     },
     "execution_count": 88,
     "metadata": {},
     "output_type": "execute_result"
    }
   ],
   "source": [
    "ret_test(control_retention_7.sum(), control_retention_7.shape[0], test_retention_7.sum(), test_retention_7.shape[0], alpha, alternative=\"less\")"
   ]
  },
  {
   "cell_type": "markdown",
   "id": "0d94530b-e9f2-4978-b987-776a21e2660c",
   "metadata": {},
   "source": [
    "### Вывод"
   ]
  },
  {
   "cell_type": "markdown",
   "id": "65662a60-883a-45f4-b2cf-1ca719aac03b",
   "metadata": {},
   "source": [
    "Таким образом, True — нулевая гипотеза (H₀: пропорции удержания в группах равны) отвергается на уровне значимости α = 0.05. Доверительный интервал (CI): от -0.01328 до -0.00312 (не включает 0).\n",
    "\n",
    "\n",
    "Итак, Разница в удержании через 7 дней между тестовой (gate_40) и контрольной (gate_30) группами статистически значима.\n",
    "Отрицательный интервал указывает, что удержание в тестовой группе ниже, чем в контрольной."
   ]
  },
  {
   "cell_type": "markdown",
   "id": "c9e9fb45-8612-467e-ab85-59a52bb66bac",
   "metadata": {},
   "source": [
    "Итак, анализ A/B-теста Cookie Cats показал, что перемещение ворот с 30 на 40 уровень не изменило количество сыгранных раундов (t-тест: p-value = 0.373, U-тест: p-value = 0.0502, различий нет) и удержание через 1 день (z-тест: p-value > 0.05, CI включает 0), но привело к статистически значимому снижению удержания через 7 дней в тестовой группе (gate_40) по сравнению с контрольной (gate_30). Двусторонний z-тест подтвердил различие (H₀ отвергается, CI: -0.01328, -0.00312), а односторонний тест показал, что удержание в gate_40 ниже примерно на 0.82% (диапазон 0.31%–1.33%). Это говорит о том, что игроки в тестовой группе реже возвращаются через неделю, возможно, из-за более позднего появления ворот, что демотивирует их. Рекомендую оставить текущую версию gate_30, так как она обеспечивает лучшее удержание через 7 дней — ключевой показатель долгосрочной вовлечённости. Внедрение gate_40 может привести к потере игроков, и стоит рассмотреть другие варианты изменений или сегментацию данных для понимания причин спада."
   ]
  },
  {
   "cell_type": "code",
   "execution_count": null,
   "id": "9550a3aa-b6a3-4e46-9eca-67a8137ba69a",
   "metadata": {},
   "outputs": [],
   "source": []
  }
 ],
 "metadata": {
  "kernelspec": {
   "display_name": "Python 3 (ipykernel)",
   "language": "python",
   "name": "python3"
  },
  "language_info": {
   "codemirror_mode": {
    "name": "ipython",
    "version": 3
   },
   "file_extension": ".py",
   "mimetype": "text/x-python",
   "name": "python",
   "nbconvert_exporter": "python",
   "pygments_lexer": "ipython3",
   "version": "3.13.1"
  }
 },
 "nbformat": 4,
 "nbformat_minor": 5
}
