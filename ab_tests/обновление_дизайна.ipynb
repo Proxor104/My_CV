{
 "cells": [
  {
   "cell_type": "markdown",
   "id": "e22b3934-0408-4334-b3f1-abfcaa75fde8",
   "metadata": {},
   "source": [
    "# Обновление дизайна в мобильной игре\n",
    "\n",
    "В мобильной игре около 10% игроков совершает платежи в первый месяц с момента установки игры (база расчета - 500 игроков).\n",
    "\n",
    "Геймдизайнеры разработали обновление которое по их экспертной оценке должно увеличить процент плательщиков с 10% до 11%. Цель эксперимента - подтвердить или опровергнуть их гипотезу. Опишите оптимальный по вашему мнению дизайн эксперимента.\n",
    "\n",
    "Рассчитайте длительность эксперимента при условии, что каждый день в игру приходит около 100 новых игроков.\n",
    "\n",
    "Самостоятельно сгенерируйте датасет с около 10% плательщиков (контроль) и рассчитайте доверительный интервал.\n",
    "\n",
    "Сгенерируйте несколько вариантов экспериментальной группы (хуже, лучше, без эффекта), рассчитайте силу эффекта, ДИ и ваши выводы для каждого варианта.\n",
    "\n",
    "Необходимо все ответы сопроводить комментариями почему вы выбрали ту или иную методику расчета, алгоритм и т.д.\n",
    "\n",
    "*Можно попробовать решить и с помощью бустрепа"
   ]
  },
  {
   "cell_type": "markdown",
   "id": "412495a5-5da6-4ca7-a38c-dcc2bcfe7c0c",
   "metadata": {},
   "source": [
    "## Подключаем библиотеки"
   ]
  },
  {
   "cell_type": "code",
   "execution_count": 310,
   "id": "a757f466-f55f-41fb-85ae-72c8a27eacd5",
   "metadata": {},
   "outputs": [],
   "source": [
    "from statsmodels.stats.proportion import proportion_effectsize, proportion_confint\n",
    "from statsmodels.stats.power import zt_ind_solve_power\n",
    "import scipy.stats as stats\n",
    "import pandas as pd\n",
    "import numpy as np\n",
    "import matplotlib.pyplot as plt"
   ]
  },
  {
   "cell_type": "markdown",
   "id": "4d3cb3dd-9a40-4737-8d1d-03aa651a213e",
   "metadata": {},
   "source": [
    "## Дизайн эксперимента"
   ]
  },
  {
   "cell_type": "markdown",
   "id": "d904ea51-9d16-429b-a9af-3112beb5672d",
   "metadata": {},
   "source": [
    "Итак, мы хотим проверить гипотезу, что месячная конверсия новых пользователей в нашем мобильном приложении \n",
    "в покупку увеличится с 10% до 11%. Для проверки этой гипотезы необходимо провести A/B тестирование."
   ]
  },
  {
   "cell_type": "markdown",
   "id": "1cb931a3-ae59-4864-ae35-ace44a2adc62",
   "metadata": {},
   "source": [
    "Для начала опишем следующий дизайн A/B тестирования:"
   ]
  },
  {
   "cell_type": "markdown",
   "id": "299a938b-504e-4eb5-883a-d91cbf3947d3",
   "metadata": {},
   "source": [
    "#### 1) Гипотеза\n",
    "_Мы формулируем следующую гипотезу_:\n",
    "\n",
    "__Обновление дизайна, позволит увеличить конверсию в покупку на 1 процентный пункт (с 10% до 11%) по экспертной оценке геймдизайнеров__."
   ]
  },
  {
   "cell_type": "markdown",
   "id": "36eec5a0-966e-4c45-8540-dc4be25f6922",
   "metadata": {},
   "source": [
    "#### 2) Метрики\n",
    "_Метрики_:\n",
    "\n",
    "В качестве основной метрики ($KPI$) будем рассматривать _конверсию_ из установки приложения в покупку в приложении."
   ]
  },
  {
   "cell_type": "markdown",
   "id": "d4a43972-cf0b-4028-b6a9-303a623a8864",
   "metadata": {},
   "source": [
    "#### 3) Формируем выборки\n",
    "_Формируем тест и контроль_:\n",
    "\n",
    "В идеале формировать экспериментальную и контрольную выборки стоит, основываясь на сегментации пользователей: провести различные тесты для пользователей с Android и IOS, для пользователей из различных регионов мира, для пользователей использующих приложение по выходным или по будням и т.д. Также технически можно было бы распределять некоторых пользователей одновременно в тестовые группы для разных сегментов (слоёв), чтобы слои были ортогональны (также в этом случае нам бы пришлось использовать соль для id пользователей). \n",
    "\n",
    "В общем, способов, как можно формировать тест и контроль очень много, но мы для начала проведём обычное тестирование для всех ($\\approx 500$) пользователей. Причём делить их будем на тест и контроль _случайным образом_."
   ]
  },
  {
   "cell_type": "markdown",
   "id": "e2bd6e01-309b-4a8c-b7ef-797a3ca23230",
   "metadata": {},
   "source": [
    "#### 4) Тест\n",
    "_Тест и статистика_:\n",
    "\n",
    "В качестве теста возьмём по сути z-тест в случае двух выборок из распределения бернулли. \n",
    "\n",
    "То есть в это случае: \n",
    "- У нас есть выборка A $(X_1, \\ldots, X_{n_a}) \\text{ с } m_a \\text{ - количеством успехов}$\n",
    "и выборка B $(Y_1, \\ldots, Y_{n_b}) \\text{ с } m_b \\text{ - количеством успехов}$\n",
    "- Проверяем гипотезу о средних (одностороннюю): $$ H_0: p_a = p_b, \\quad H_1: p_b > p_a$$\n",
    "- Мы считаем средние (то есть частоты успехов) $w_a = \\frac{m_a}{n_a}, w_b = \\frac{m_b}{n_b}, w = \\frac{m_a + m_b}{n_a + n_b}$\n",
    "- В итоге считаем статистику: $$U = \\frac{w_b - w_a}{\\sqrt{w * (1 - w) * (\\frac{1}{n_a} + \\frac{1}{n_b}) }}$$"
   ]
  },
  {
   "cell_type": "markdown",
   "id": "7470563d-28de-40e5-85d4-f941d37fe038",
   "metadata": {},
   "source": [
    "Напишем реализацию нашего теста на python:"
   ]
  },
  {
   "cell_type": "code",
   "execution_count": 311,
   "id": "ff810c9b-c279-42d2-887d-ae542a979049",
   "metadata": {},
   "outputs": [],
   "source": [
    "def test(ma, na, mb, nb, alpha, alternative=\"two-sided\"):\n",
    "    '''\n",
    "    output:\n",
    "    False - H_0 принимается \n",
    "    True - H_0 отвергается \n",
    "    '''\n",
    "    wa = ma / na\n",
    "    wb = mb / nb\n",
    "    w = (ma + mb) / (na + nb)\n",
    "    diff = wb - wa\n",
    "    stat = (diff) / np.sqrt(w * (1 - w) * (1. / na + 1. / nb))\n",
    "    # \n",
    "    dist_norm = stats.norm(loc=0, scale=1)\n",
    "    # \n",
    "    SE = np.sqrt(w * (1-w) * (1/na + 1/nb))\n",
    "    quantile = dist_norm.ppf(alpha/2)\n",
    "    CI = (diff + SE * quantile, diff - SE * quantile)\n",
    "    # \n",
    "    if alternative == \"two-sided\":\n",
    "        p_value = 2 * min(dist_norm.sf(stat), dist_norm.cdf(stat))\n",
    "        if p_value > alpha:\n",
    "            return False, CI\n",
    "        return True, CI\n",
    "    elif alternative == \"greater\":\n",
    "        p_value = dist_norm.sf(stat)\n",
    "        if p_value > alpha:\n",
    "            return False, CI\n",
    "        return True, CI\n",
    "    elif alternative == \"less\":\n",
    "        p_value = dist_norm.cdf(stat)\n",
    "        if p_value > alpha:\n",
    "            return False, CI\n",
    "        return True, CI\n",
    "    return None, CI"
   ]
  },
  {
   "cell_type": "markdown",
   "id": "af67c348-76db-483e-ae0f-b2211ec4895f",
   "metadata": {},
   "source": [
    "#### 5) Параметры теста\n",
    "_Параметры теста и время теста_:\n",
    "\n",
    "В качестве статистической значимости теста мы возьмём стандартную $\\alpha = 5\\%$, при этом мы хотим $MDE = 1\\%$, так как мы хотим задетектировать эффект в 1 процентный пункт, а также ошибку 2 рода $\\beta = 20 \\%$. Рассчитаем размер выборки в этом нашем случае:"
   ]
  },
  {
   "cell_type": "code",
   "execution_count": 312,
   "id": "93b30681-1ab5-4be0-8cbc-26e6816d1b3e",
   "metadata": {},
   "outputs": [
    {
     "data": {
      "image/png": "[encoded data removed]",
      "text/plain": [
       "<Figure size 1000x500 with 1 Axes>"
      ]
     },
     "metadata": {},
     "output_type": "display_data"
    },
    {
     "name": "stdout",
     "output_type": "stream",
     "text": [
      "Оценка количества дней для двух групп для мощности в 50 %: 2 * 7215 / 100 = 144 дней\n",
      "Оценка количества дней для двух групп для мощности в 80 %: 2 * 14744 / 100 = 294 дней\n"
     ]
    }
   ],
   "source": [
    "# Параметры\n",
    "alpha = 0.05\n",
    "beta = 0.2\n",
    "power_range = np.linspace(0.5, 0.9, 20)\n",
    "effect_size = proportion_effectsize(0.1, 0.11)\n",
    "\n",
    "# Расчёт объема выборки для различных значений мощности\n",
    "sample_sizes = [zt_ind_solve_power(effect_size=effect_size, alpha=alpha, power=p, ratio=1) for p in power_range]\n",
    "\n",
    "# Построение графика\n",
    "plt.figure(figsize=(10, 5))\n",
    "plt.plot(sample_sizes, power_range, label=\"Зависимость мощности от объема выборки\", color=\"royalblue\", linewidth=2)\n",
    "\n",
    "# Отметка для мощности 0.8\n",
    "target_power_80 = 0.8\n",
    "sample_80 = zt_ind_solve_power(effect_size=effect_size, alpha=alpha, power=target_power_80, ratio=1)\n",
    "plt.axhline(y=target_power_80, color=\"orange\", linestyle=\"--\", linewidth=1)\n",
    "plt.axvline(x=sample_80, color=\"orange\", linestyle=\"--\", linewidth=1)\n",
    "plt.text(sample_80 + 1, target_power_80 - 0.02, f\"{int(sample_80)} наблюдений\", color=\"orange\")\n",
    "\n",
    "# Отметка для мощности 0.5\n",
    "target_power_50 = 0.5\n",
    "sample_50 = zt_ind_solve_power(effect_size=effect_size, alpha=alpha, power=target_power_50, ratio=1)\n",
    "plt.axhline(y=target_power_50, color=\"green\", linestyle=\"--\", linewidth=1)\n",
    "plt.axvline(x=sample_50, color=\"green\", linestyle=\"--\", linewidth=1)\n",
    "plt.text(sample_50 + 1, target_power_50 - 0.02, f\"{int(sample_50)} наблюдений\", color=\"green\")\n",
    "\n",
    "# Оформление графика\n",
    "plt.title(\"Мощность теста в зависимости от объема выборки\", fontsize=14)\n",
    "plt.xlabel(\"Необходимый объем выборки на одну группу\", fontsize=12)\n",
    "plt.ylabel(\"Мощность (power)\", fontsize=12)\n",
    "plt.grid(True, linestyle=\"--\", alpha=0.7)\n",
    "plt.legend()\n",
    "plt.tight_layout()\n",
    "plt.show()\n",
    "\n",
    "# Вывод результата\n",
    "print(f\"Оценка количества дней для двух групп для мощности в 50 %: 2 * {int(sample_50)} / 100 = {int(2 * sample_50 / 100)} дней\")\n",
    "print(f\"Оценка количества дней для двух групп для мощности в 80 %: 2 * {int(sample_80)} / 100 = {int(2 * sample_80 / 100)} дней\")"
   ]
  },
  {
   "cell_type": "markdown",
   "id": "14fc8071-7685-4c6e-a726-4f3ea723c73d",
   "metadata": {},
   "source": [
    "Итак, видно, что для достижения мощности в 80 % (чтобы обнаружить эффект в 1%) потребуется потратить на эксперимент больше 9 месяцев (при условии, \n",
    "что ежедневный трафик новых пользователей составляет 100 человек в день), что слишком много для тестирования. \n",
    "Причём для подобного эксперимента могут возникнуть проблемы, связанные с сезонностью трафика.\n",
    "Также для проведения теста с мощностью в 50 % понадобится примерно 5 месяцев!"
   ]
  },
  {
   "cell_type": "markdown",
   "id": "514d06af-3b47-4413-81cc-9874f344fee9",
   "metadata": {},
   "source": [
    "Обычно, чтобы улучшить чувствительность, используют некоторые из следующих методов:\n",
    "- _стратифицированный анализ_ (будем группировать пользователей по источнику трафика, устройству и т.п.), таким образом мы, конечно, должны переформулировать нашу гипотезу для разных сегментов, но при таком анализе, мы уменьшаем дисперсию в стратах, что позволяет повысить нам чувствительность теста.\n",
    "- использовать _ковариационную корректировку_, например, через CUPED, то есть вычесть из метрики величины, рассчитанную на основе исторических данных.\n",
    "- просто увеличить трафик на направление / объединить несколько доменов или страниц с одинаковым поведением\n",
    "- _сменить метрику на более чувствительную_ прокси-метрику: смотреть на клики, добавления в корзину, глубину просмотра, время на сайте, engagement score, если релевантно. Так как такие метрики обычно менее дискретные и быстрее “подхватывают” изменения."
   ]
  },
  {
   "cell_type": "markdown",
   "id": "49bba1b1-ef89-41c7-98ac-437149fcc5a4",
   "metadata": {},
   "source": [
    "Мы же продолжим проводить наше тестирование."
   ]
  },
  {
   "cell_type": "markdown",
   "id": "a04f93b9-85b8-4509-bbce-a7d5e4f1391d",
   "metadata": {},
   "source": [
    "#### 6) Проверка теста\n",
    "Перед запуском теста проведём проверочные запуски на различных синтетических данных нашего теста, чтобы проверить его значимость.\n",
    "\n",
    "Но для начала сгенерируйте датасет с около 10% плательщиков (контроль) и рассчитаем 95% доверительный интервал для него."
   ]
  },
  {
   "cell_type": "code",
   "execution_count": 324,
   "id": "39bc3af4-d963-48d9-996a-736392df3ed2",
   "metadata": {},
   "outputs": [
    {
     "name": "stdout",
     "output_type": "stream",
     "text": [
      "количество плательщиков = 1481\n",
      "95% доверительный интервал = [0.09644870601202082, 0.10459318329118675]\n"
     ]
    }
   ],
   "source": [
    "n = 14744\n",
    "p_0 = 0.1\n",
    "binom0_sample = stats.binom.rvs(n, p_0)\n",
    "\n",
    "print(f\"количество плательщиков = {binom0_sample}\")\n",
    "\n",
    "L_0, R_0 = proportion_confint(count=binom0_sample, nobs=n, alpha=.1, method=\"wilson\")\n",
    "print(f\"95% доверительный интервал = [{L_0}, {R_0}]\")"
   ]
  },
  {
   "cell_type": "markdown",
   "id": "016fa045-f494-4c81-858f-0e80d91a9529",
   "metadata": {},
   "source": [
    "Теперь же сгенерируем несколько вариантов экспериментальной группы \n",
    "- хуже: конверсия = 9%,\n",
    "- лучше: конверсия = 12 %,\n",
    "- без эффекта: конверсия равна = 10.5%\n",
    "\n",
    "И рассчитаем силу эффекта и доверительный интервал"
   ]
  },
  {
   "cell_type": "code",
   "execution_count": 330,
   "id": "aadfedc8-ae6d-4d97-b8e1-918d93861536",
   "metadata": {},
   "outputs": [
    {
     "name": "stdout",
     "output_type": "stream",
     "text": [
      "размеры эффекта для группы хуже, лучше и без эффекта равны = 0.03411580076248932, -0.06398210298605855, -0.016486220594214007\n",
      "95% доверительный интервал для группы с худшим эффектом = [0.088, 0.09582]\n",
      "95% доверительный интервал для группы с лучшим эффектом = [0.112, 0.1207]\n",
      "95% доверительный интервал для группы без эффекта = [0.1016, 0.11]\n"
     ]
    }
   ],
   "source": [
    "p_less = .09\n",
    "p_greater = .12\n",
    "p_equal = .105\n",
    "\n",
    "binom0_sample = st.binom.rvs(n, p_0)\n",
    "binom_sample_less = st.binom.rvs(n, p_less)\n",
    "binom_sample_greater = st.binom.rvs(n, p_greater)\n",
    "binom_sample_equal = st.binom.rvs(n, p_equal)\n",
    "\n",
    "effect_less = proportion_effectsize(p_0, p_less)\n",
    "effect_greater = proportion_effectsize(p_0, p_greater)\n",
    "effect_equal = proportion_effectsize(p_0, p_equal)\n",
    "\n",
    "print(f\"размеры эффекта для группы хуже, лучше и без эффекта равны = {effect_less}, {effect_greater}, {effect_equal}\")\n",
    "\n",
    "L_less, R_less = proportion_confint(count=binom_sample_less, nobs=n, alpha=.1, method=\"wilson\")\n",
    "print(f\"95% доверительный интервал для группы с худшим эффектом = [{L_less:.4}, {R_less:.4}]\")\n",
    "\n",
    "L_greater, R_greater = proportion_confint(count=binom_sample_greater, nobs=n, alpha=.1, method=\"wilson\")\n",
    "print(f\"95% доверительный интервал для группы с лучшим эффектом = [{L_greater:.4}, {R_greater:.4}]\")\n",
    "\n",
    "L_equal, R_equal = proportion_confint(count=binom_sample_equal, nobs=n, alpha=.1, method=\"wilson\")\n",
    "print(f\"95% доверительный интервал для группы без эффекта = [{L_equal:.4}, {R_equal:.4}]\")"
   ]
  },
  {
   "cell_type": "markdown",
   "id": "e12c0359-0c6e-4b26-8fb8-28451b5556bc",
   "metadata": {},
   "source": [
    "Теперь же используем метод Монте-Карло, который проверяет, как часто тест ошибается при заданных. \n",
    "То есть он по истинным вероятностям выборок \n",
    "$p_{binom0} \\text{ и } p_{binom1}$ выдаст оценку для ошибки 1 рода, если $p_{binom0} >= p_{binom1}$, \n",
    "и ошибки 2 рода, если $p_{binom0} < p_{binom1}$"
   ]
  },
  {
   "cell_type": "code",
   "execution_count": 336,
   "id": "aedb2d03-fa43-4826-a2d2-d877e45b2f9b",
   "metadata": {},
   "outputs": [],
   "source": [
    "def monte_carlo(N_experiments, p_binom0, p_binom1, n0, alpha, h0_true=True, ratio = 1., alternative=\"greater\"):\n",
    "    '''\n",
    "    Для теста (def test(...))\n",
    "    выдаёт ошибку:\n",
    "    - 1 рода - если истинный p_binom0 >= p_binom1\n",
    "    - 2 рода - если истинный p_binom0 < p_binom1\n",
    "    '''\n",
    "    # h0_true = p_binom0 >= p_binom1\n",
    "    n1 = int(ratio * n0)\n",
    "    bad_cnt = 0.\n",
    "    for elem in range(N_experiments):\n",
    "        binom0_sample = st.binom.rvs(n0, p_binom0)\n",
    "        binom1_sample = st.binom.rvs(n1, p_binom1)\n",
    "        test_ret, _ = test(binom0_sample, n0, binom1_sample, n1, alpha, alternative=alternative)\n",
    "        if h0_true and test_ret:\n",
    "            bad_cnt += 1             \n",
    "        if not h0_true and not test_ret:\n",
    "            bad_cnt += 1\n",
    "    return bad_cnt / N_experiments"
   ]
  },
  {
   "cell_type": "code",
   "execution_count": 332,
   "id": "479f739b-ea15-42e7-a0dd-d553df6cf5f5",
   "metadata": {},
   "outputs": [],
   "source": [
    "N_experiments = 10000"
   ]
  },
  {
   "cell_type": "code",
   "execution_count": 337,
   "id": "ceb2bc89-f43f-4062-9f2d-52fd5f851bc4",
   "metadata": {},
   "outputs": [
    {
     "data": {
      "text/plain": [
       "(0.0, 0.0002704811655548492)"
      ]
     },
     "execution_count": 337,
     "metadata": {},
     "output_type": "execute_result"
    }
   ],
   "source": [
    "mc_less = monte_carlo(N_experiments, p_0, p_less, n, alpha, True)\n",
    "L, R = proportion_confint(count=mc_less * N_experiments, nobs=N_experiments, alpha=.1, method=\"wilson\")\n",
    "L, R"
   ]
  },
  {
   "cell_type": "code",
   "execution_count": 338,
   "id": "b8abe8bb-bb2a-4b0f-99ca-d19d52035d65",
   "metadata": {},
   "outputs": [
    {
     "data": {
      "text/plain": [
       "(6.61868582759022e-05, 0.0006041861148127251)"
      ]
     },
     "execution_count": 338,
     "metadata": {},
     "output_type": "execute_result"
    }
   ],
   "source": [
    "mc_greater = monte_carlo(N_experiments, p_0, p_greater, n, alpha, False)\n",
    "L, R = proportion_confint(count=mc_greater * N_experiments, nobs=N_experiments, alpha=.1, method=\"wilson\")\n",
    "L, R"
   ]
  },
  {
   "cell_type": "code",
   "execution_count": 340,
   "id": "20994f85-9c56-493d-bdbc-b9d7991bff9e",
   "metadata": {},
   "outputs": [
    {
     "data": {
      "text/plain": [
       "(0.5829898091804776, 0.5991609091511582)"
      ]
     },
     "execution_count": 340,
     "metadata": {},
     "output_type": "execute_result"
    }
   ],
   "source": [
    "mc_equal = monte_carlo(N_experiments, p_0, p_equal, n, alpha, False)\n",
    "L, R = proportion_confint(count= mc_equal * N_experiments, nobs=N_experiments, alpha=.1, method=\"wilson\")\n",
    "L, R"
   ]
  },
  {
   "cell_type": "markdown",
   "id": "d75529e0-3e38-42a9-b1cb-016624ed2beb",
   "metadata": {},
   "source": [
    "По итогу, видно, что для нашего размера выборок оценки 1 рода для группы с худшим эффектом \n",
    "сильно меньше $\\alpha$ и ошибка 2 рода для группы с лучшим эффектом около нулевая. Но вот ошибка 2 рода для группы с конверсией 10.5 % лежит в диапазоне от 58.2 % до 59.9 %. Однако в любом случае можно сказать, что наш тест \n",
    "работает корректно на группах с худшим эффектом, лучшим эффектом и на группе практически без эффекта."
   ]
  },
  {
   "cell_type": "markdown",
   "id": "eb101b83-1514-4c59-8e99-e00ad3154408",
   "metadata": {},
   "source": [
    "#### 7) Запуск теста и проверка результатов.\n",
    "\n",
    "_Дальше проводим запуск теста_, а после его завершения проводим оценку результатов."
   ]
  },
  {
   "cell_type": "markdown",
   "id": "2ecb5d0b-9787-4912-ab95-cc5f040757b2",
   "metadata": {},
   "source": [
    "#### 8) Масштабирование эффекта.\n",
    "\n",
    "В случае успешного теста, необходимо выкатить обновление в прод и при этом продолжить исследование уже на реальных данных. "
   ]
  },
  {
   "cell_type": "markdown",
   "id": "5efbaab6-d292-4bcd-b58e-07958249e4f6",
   "metadata": {},
   "source": [
    "#### \\* Дополнение:\n",
    "\n",
    "Можно было бы вместо z-теста использовать бутстрап, но он вычислительно сложнее"
   ]
  },
  {
   "cell_type": "code",
   "execution_count": 345,
   "id": "dc6f284e-dc9a-4274-9137-33c9221c7a3a",
   "metadata": {},
   "outputs": [
    {
     "name": "stdout",
     "output_type": "stream",
     "text": [
      "Средняя разница: 0.0146\n",
      "Доверительный интервал: [0.0075, 0.0218]\n"
     ]
    },
    {
     "data": {
      "image/png": "[encoded data removed]",
      "text/plain": [
       "<Figure size 640x480 with 1 Axes>"
      ]
     },
     "metadata": {},
     "output_type": "display_data"
    }
   ],
   "source": [
    "import numpy as np\n",
    "import matplotlib.pyplot as plt\n",
    "\n",
    "def bootstrap_proportion_diff(control, test, n_bootstrap=10000, ci=95):\n",
    "    diffs = []\n",
    "    size = min(len(control), len(test))\n",
    "    for _ in range(n_bootstrap):\n",
    "        sample_control = np.random.choice(control, size=size, replace=True)\n",
    "        sample_test = np.random.choice(test, size=size, replace=True)\n",
    "        diff = sample_test.mean() - sample_control.mean()\n",
    "        diffs.append(diff)\n",
    "\n",
    "    lower = np.percentile(diffs, (100 - ci) / 2)\n",
    "    upper = np.percentile(diffs, 100 - (100 - ci) / 2)\n",
    "    return np.mean(diffs), (lower, upper), diffs\n",
    "\n",
    "# Пример данных\n",
    "control = np.random.binomial(1, 0.10, 14000)\n",
    "test = np.random.binomial(1, 0.11, 14000)\n",
    "\n",
    "# Bootstrap-анализ\n",
    "mean_diff, (ci_low, ci_high), diffs = bootstrap_proportion_diff(control, test)\n",
    "ci = (ci_low, ci_high)\n",
    "print(f\"Средняя разница: {mean_diff:.4f}\")\n",
    "print(f\"Доверительный интервал: [{ci_low:.4f}, {ci_high:.4f}]\")\n",
    "\n",
    "# Визуализация\n",
    "plt.hist(diffs, bins=50, alpha=0.7)\n",
    "plt.axvline(ci_low, color='red', linestyle='--', label=f\"({ci_low:.4f}, {ci_high:.4f})% CI\")\n",
    "plt.axvline(ci_high, color='red', linestyle='--')\n",
    "plt.axvline(mean_diff, color='black', label='Mean diff')\n",
    "plt.legend()\n",
    "plt.title(\"Bootstrap распределение разницы пропорций\")\n",
    "plt.xlabel(\"Разница\")\n",
    "plt.ylabel(\"Частота\")\n",
    "plt.show()\n"
   ]
  },
  {
   "cell_type": "markdown",
   "id": "ffb4e9c5-bad4-43fc-81b5-aa249ed16df6",
   "metadata": {},
   "source": [
    "Напишем функцию самого теста и метода монте-карло для него"
   ]
  },
  {
   "cell_type": "code",
   "execution_count": 287,
   "id": "26beee89-416b-46d5-84e1-e10f7cbe163f",
   "metadata": {},
   "outputs": [],
   "source": [
    "def bootstrap_test(control, test, alpha, n_bootstrap):\n",
    "    _, CI, _ = bootstrap_proportion_diff(control, test, n_bootstrap=n_bootstrap, ci=100 - 100 * alpha)\n",
    "    if max(CI) > 0 and min(CI) < 0:\n",
    "        return False, CI\n",
    "    return True, CI"
   ]
  },
  {
   "cell_type": "code",
   "execution_count": 303,
   "id": "9aae4e55-b4bd-4684-8723-66181760adbb",
   "metadata": {},
   "outputs": [],
   "source": [
    "def bootstrap_monte_carlo(N_experiments, n_bootstrap, p_binom0, p_binom1, n0, alpha, ratio = 1.):\n",
    "    '''\n",
    "    Для теста (def test(...))\n",
    "    выдаёт ошибку:\n",
    "    - 1 рода - если истинный p_binom0 >= p_binom1\n",
    "    - 2 рода - если истинный p_binom0 < p_binom1\n",
    "    '''\n",
    "    h0_true = p_binom0 >= p_binom1\n",
    "    n1 = int(ratio * n0)\n",
    "    bad_cnt = 0.\n",
    "    for elem in range(N_experiments):\n",
    "        binom0_sample = st.binom.rvs(1, p_binom0, size=n0)\n",
    "        binom1_sample = st.binom.rvs(1, p_binom1, size=n1)\n",
    "        test_ret, _ = bootstrap_test(binom0_sample, binom1_sample, alpha, n_bootstrap)\n",
    "        if h0_true and test_ret:\n",
    "            bad_cnt += 1             \n",
    "        if not h0_true and not test_ret:\n",
    "            bad_cnt += 1\n",
    "    return bad_cnt / N_experiments"
   ]
  },
  {
   "cell_type": "code",
   "execution_count": 346,
   "id": "2a79867b-366c-465c-b4cc-8a07bd7d2ffa",
   "metadata": {},
   "outputs": [
    {
     "data": {
      "text/plain": [
       "(0.1088030011321795, 0.14322068129764087)"
      ]
     },
     "execution_count": 346,
     "metadata": {},
     "output_type": "execute_result"
    }
   ],
   "source": [
    "n_bootstrap = 1000\n",
    "N_experiments = 1000\n",
    "# \n",
    "bootstrap_mc_less = bootstrap_monte_carlo(N_experiments, n_bootstrap, p_0, p_less, 1000, alpha, ratio = 1.)\n",
    "L, R = proportion_confint(count=bootstrap_mc_less * N_experiments, nobs=N_experiments, alpha=.1, method=\"wilson\")\n",
    "L, R"
   ]
  },
  {
   "cell_type": "markdown",
   "id": "267823c8-ce02-4b25-8c85-ee875a20351d",
   "metadata": {},
   "source": [
    "Ошибка 1 рода слишком велика, для её уменьшения надо увеличить размер выборки, что приведёт к ещё дольшему времени работы метода монте-карло."
   ]
  }
 ],
 "metadata": {
  "kernelspec": {
   "display_name": "Python 3 (ipykernel)",
   "language": "python",
   "name": "python3"
  },
  "language_info": {
   "codemirror_mode": {
    "name": "ipython",
    "version": 3
   },
   "file_extension": ".py",
   "mimetype": "text/x-python",
   "name": "python",
   "nbconvert_exporter": "python",
   "pygments_lexer": "ipython3",
   "version": "3.13.1"
  }
 },
 "nbformat": 4,
 "nbformat_minor": 5
}
