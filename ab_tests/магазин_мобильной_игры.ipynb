{
 "cells": [
  {
   "cell_type": "markdown",
   "id": "c5f1a8a6",
   "metadata": {},
   "source": [
    "## A/B-тестирование для магазина мобильной игры\n",
    "\n",
    "Проводится а/б тест стартовых предложений в магазине мобильной игры.\n",
    "Две группы:\n",
    "\n",
    "• 1 - Контрольная\n",
    "\n",
    "• 2 - В 5 раз снижена цена и в 2 раза наполнение стартового набора - предложения,\n",
    "которое наиболее часто покупают в качестве первого платежа.\n",
    "\n",
    "По данным в csv файле оцените эффект нововведения в тестовой группе и сформируйте\n",
    "выводы.\n",
    "\n",
    "Метрики для расчёта теста определите самостоятельно, исходя из доступного набора\n",
    "данных.\n",
    "\n",
    "Формат ответа: jupyter notebook с расчётами и выводами.\n",
    "\n",
    "Данные для расчёта теста – в файле task2_ab_dataset.csv"
   ]
  },
  {
   "cell_type": "markdown",
   "id": "4ff1de32-c637-4554-a851-3fbda0ff50b5",
   "metadata": {},
   "source": [
    "### Ответ"
   ]
  },
  {
   "cell_type": "markdown",
   "id": "03a081b1-bf0d-4617-baf0-f22e2b7d099c",
   "metadata": {},
   "source": [
    "#### Начало"
   ]
  },
  {
   "cell_type": "markdown",
   "id": "ca2df5f1-3ce4-4a78-8af6-f772fd674baf",
   "metadata": {},
   "source": [
    "Подключаем библиотеки для нашей работы"
   ]
  },
  {
   "cell_type": "code",
   "execution_count": 2,
   "id": "a5113832-9407-4e8b-ae19-72d86edcebc1",
   "metadata": {},
   "outputs": [],
   "source": [
    "import numpy as np\n",
    "import pandas as pd\n",
    "import seaborn as sns\n",
    "import matplotlib.pyplot as plt\n",
    "from scipy import stats\n",
    "\n",
    "from tqdm.notebook import tqdm\n",
    "\n",
    "plt.style.use('ggplot')\n",
    "%matplotlib inline"
   ]
  },
  {
   "cell_type": "markdown",
   "id": "5ec4facb-45c4-498f-8ccb-54bed12f4bbc",
   "metadata": {},
   "source": [
    "Дальше посмотрим на структуру наших данных"
   ]
  },
  {
   "cell_type": "code",
   "execution_count": 3,
   "id": "07eacf3c-1f85-4e7e-b31b-69d62250dcde",
   "metadata": {
    "scrolled": true
   },
   "outputs": [],
   "source": [
    "data_8 = pd.read_csv(\"task2_ab_dataset.csv\")"
   ]
  },
  {
   "cell_type": "code",
   "execution_count": 4,
   "id": "98079034-9ae8-4fc1-a1a3-76b45b9c709a",
   "metadata": {},
   "outputs": [
    {
     "data": {
      "text/html": [
       "<div>\n",
       "<style scoped>\n",
       "    .dataframe tbody tr th:only-of-type {\n",
       "        vertical-align: middle;\n",
       "    }\n",
       "\n",
       "    .dataframe tbody tr th {\n",
       "        vertical-align: top;\n",
       "    }\n",
       "\n",
       "    .dataframe thead th {\n",
       "        text-align: right;\n",
       "    }\n",
       "</style>\n",
       "<table border=\"1\" class=\"dataframe\">\n",
       "  <thead>\n",
       "    <tr style=\"text-align: right;\">\n",
       "      <th></th>\n",
       "      <th>user_id</th>\n",
       "      <th>ab_group</th>\n",
       "      <th>install_time</th>\n",
       "      <th>payment_time</th>\n",
       "      <th>amount</th>\n",
       "    </tr>\n",
       "  </thead>\n",
       "  <tbody>\n",
       "    <tr>\n",
       "      <th>0</th>\n",
       "      <td>300647965935</td>\n",
       "      <td>1</td>\n",
       "      <td>2005-05-20 03:00:27</td>\n",
       "      <td>NaN</td>\n",
       "      <td>NaN</td>\n",
       "    </tr>\n",
       "    <tr>\n",
       "      <th>1</th>\n",
       "      <td>300647965937</td>\n",
       "      <td>2</td>\n",
       "      <td>2005-05-20 03:00:48</td>\n",
       "      <td>NaN</td>\n",
       "      <td>NaN</td>\n",
       "    </tr>\n",
       "    <tr>\n",
       "      <th>2</th>\n",
       "      <td>300647965938</td>\n",
       "      <td>2</td>\n",
       "      <td>2005-05-20 03:00:50</td>\n",
       "      <td>NaN</td>\n",
       "      <td>NaN</td>\n",
       "    </tr>\n",
       "    <tr>\n",
       "      <th>3</th>\n",
       "      <td>300647965942</td>\n",
       "      <td>1</td>\n",
       "      <td>2005-05-20 03:02:07</td>\n",
       "      <td>NaN</td>\n",
       "      <td>NaN</td>\n",
       "    </tr>\n",
       "    <tr>\n",
       "      <th>4</th>\n",
       "      <td>300647965950</td>\n",
       "      <td>2</td>\n",
       "      <td>2005-05-20 03:06:02</td>\n",
       "      <td>NaN</td>\n",
       "      <td>NaN</td>\n",
       "    </tr>\n",
       "  </tbody>\n",
       "</table>\n",
       "</div>"
      ],
      "text/plain": [
       "        user_id  ab_group         install_time payment_time  amount\n",
       "0  300647965935         1  2005-05-20 03:00:27          NaN     NaN\n",
       "1  300647965937         2  2005-05-20 03:00:48          NaN     NaN\n",
       "2  300647965938         2  2005-05-20 03:00:50          NaN     NaN\n",
       "3  300647965942         1  2005-05-20 03:02:07          NaN     NaN\n",
       "4  300647965950         2  2005-05-20 03:06:02          NaN     NaN"
      ]
     },
     "execution_count": 4,
     "metadata": {},
     "output_type": "execute_result"
    }
   ],
   "source": [
    "data_8.head()"
   ]
  },
  {
   "cell_type": "code",
   "execution_count": 5,
   "id": "8fbc0697-cf9e-4298-8a8b-054e0dc99b94",
   "metadata": {},
   "outputs": [
    {
     "name": "stdout",
     "output_type": "stream",
     "text": [
      "<class 'pandas.core.frame.DataFrame'>\n",
      "RangeIndex: 83296 entries, 0 to 83295\n",
      "Data columns (total 5 columns):\n",
      " #   Column        Non-Null Count  Dtype  \n",
      "---  ------        --------------  -----  \n",
      " 0   user_id       83296 non-null  int64  \n",
      " 1   ab_group      83296 non-null  int64  \n",
      " 2   install_time  83296 non-null  object \n",
      " 3   payment_time  12262 non-null  object \n",
      " 4   amount        12262 non-null  float64\n",
      "dtypes: float64(1), int64(2), object(2)\n",
      "memory usage: 3.2+ MB\n"
     ]
    }
   ],
   "source": [
    "data_8.info()"
   ]
  },
  {
   "cell_type": "markdown",
   "id": "4d055f8b-aba3-44fc-9d10-ec11ade0ae6f",
   "metadata": {},
   "source": [
    "Таким образом, поля у нас означают следующее:\n",
    "- user_id - id пользователя\n",
    "- ab_group - номер группы: 1 - контрольная группа, 2 - тестовая группа.\n",
    "- install_time - дата и время установки приложения пользователем.\n",
    "- payment_time - время покупки пользователем.\n",
    "- amount - сумма, потраченная пользователем."
   ]
  },
  {
   "cell_type": "markdown",
   "id": "50fac795-5d20-4965-94d7-9f617458a853",
   "metadata": {},
   "source": [
    "#### Обработка данных"
   ]
  },
  {
   "cell_type": "markdown",
   "id": "ac2c73e2-e3af-4ce6-afb5-c545d577039a",
   "metadata": {},
   "source": [
    "Посмотрим сколько записей находятся в тестовой и контрольной группах. А также избавимся от тех пользователях (user_id), которые попали и в тестовую, и в контрольную выборки."
   ]
  },
  {
   "cell_type": "code",
   "execution_count": 6,
   "id": "846c1d09-52b5-49fc-8902-8c51466105f0",
   "metadata": {},
   "outputs": [
    {
     "data": {
      "text/plain": [
       "ab_group\n",
       "2    41798\n",
       "1    41498\n",
       "Name: count, dtype: int64"
      ]
     },
     "execution_count": 6,
     "metadata": {},
     "output_type": "execute_result"
    }
   ],
   "source": [
    "data_8[\"ab_group\"].value_counts()"
   ]
  },
  {
   "cell_type": "code",
   "execution_count": 7,
   "id": "daec4ef2-0148-4857-acc2-00c71470fd21",
   "metadata": {},
   "outputs": [
    {
     "data": {
      "text/html": [
       "<div>\n",
       "<style scoped>\n",
       "    .dataframe tbody tr th:only-of-type {\n",
       "        vertical-align: middle;\n",
       "    }\n",
       "\n",
       "    .dataframe tbody tr th {\n",
       "        vertical-align: top;\n",
       "    }\n",
       "\n",
       "    .dataframe thead th {\n",
       "        text-align: right;\n",
       "    }\n",
       "</style>\n",
       "<table border=\"1\" class=\"dataframe\">\n",
       "  <thead>\n",
       "    <tr style=\"text-align: right;\">\n",
       "      <th></th>\n",
       "      <th>user_id</th>\n",
       "      <th>ab_group</th>\n",
       "      <th>install_time</th>\n",
       "      <th>payment_time</th>\n",
       "      <th>amount</th>\n",
       "    </tr>\n",
       "  </thead>\n",
       "  <tbody>\n",
       "    <tr>\n",
       "      <th>0</th>\n",
       "      <td>300647965935</td>\n",
       "      <td>1</td>\n",
       "      <td>2005-05-20 03:00:27</td>\n",
       "      <td>NaN</td>\n",
       "      <td>NaN</td>\n",
       "    </tr>\n",
       "    <tr>\n",
       "      <th>1</th>\n",
       "      <td>300647965937</td>\n",
       "      <td>2</td>\n",
       "      <td>2005-05-20 03:00:48</td>\n",
       "      <td>NaN</td>\n",
       "      <td>NaN</td>\n",
       "    </tr>\n",
       "    <tr>\n",
       "      <th>2</th>\n",
       "      <td>300647965938</td>\n",
       "      <td>2</td>\n",
       "      <td>2005-05-20 03:00:50</td>\n",
       "      <td>NaN</td>\n",
       "      <td>NaN</td>\n",
       "    </tr>\n",
       "    <tr>\n",
       "      <th>3</th>\n",
       "      <td>300647965942</td>\n",
       "      <td>1</td>\n",
       "      <td>2005-05-20 03:02:07</td>\n",
       "      <td>NaN</td>\n",
       "      <td>NaN</td>\n",
       "    </tr>\n",
       "    <tr>\n",
       "      <th>4</th>\n",
       "      <td>300647965950</td>\n",
       "      <td>2</td>\n",
       "      <td>2005-05-20 03:06:02</td>\n",
       "      <td>NaN</td>\n",
       "      <td>NaN</td>\n",
       "    </tr>\n",
       "  </tbody>\n",
       "</table>\n",
       "</div>"
      ],
      "text/plain": [
       "        user_id  ab_group         install_time payment_time  amount\n",
       "0  300647965935         1  2005-05-20 03:00:27          NaN     NaN\n",
       "1  300647965937         2  2005-05-20 03:00:48          NaN     NaN\n",
       "2  300647965938         2  2005-05-20 03:00:50          NaN     NaN\n",
       "3  300647965942         1  2005-05-20 03:02:07          NaN     NaN\n",
       "4  300647965950         2  2005-05-20 03:06:02          NaN     NaN"
      ]
     },
     "execution_count": 7,
     "metadata": {},
     "output_type": "execute_result"
    }
   ],
   "source": [
    "users_groups = data_8.groupby(\"user_id\")[\"ab_group\"].nunique()\n",
    "data_8_cleaned = data_8[~data_8[\"user_id\"].isin(users_groups[users_groups > 1].index)]\n",
    "data_8_cleaned.head()"
   ]
  },
  {
   "cell_type": "code",
   "execution_count": 8,
   "id": "4f58c474-aa5e-473a-a334-6dcf3e9ac520",
   "metadata": {},
   "outputs": [
    {
     "name": "stdout",
     "output_type": "stream",
     "text": [
      "<class 'pandas.core.frame.DataFrame'>\n",
      "Index: 83212 entries, 0 to 83295\n",
      "Data columns (total 5 columns):\n",
      " #   Column        Non-Null Count  Dtype  \n",
      "---  ------        --------------  -----  \n",
      " 0   user_id       83212 non-null  int64  \n",
      " 1   ab_group      83212 non-null  int64  \n",
      " 2   install_time  83212 non-null  object \n",
      " 3   payment_time  12255 non-null  object \n",
      " 4   amount        12255 non-null  float64\n",
      "dtypes: float64(1), int64(2), object(2)\n",
      "memory usage: 3.8+ MB\n"
     ]
    }
   ],
   "source": [
    "data_8_cleaned.info()"
   ]
  },
  {
   "cell_type": "markdown",
   "id": "367e9222-918a-4db2-b03e-6a662ed4601a",
   "metadata": {},
   "source": [
    "Преобразуем install_time и payment_time в тип данных для даты datetime"
   ]
  },
  {
   "cell_type": "code",
   "execution_count": 9,
   "id": "4f49f8f0-65e4-4bb7-87ec-c0600b4848fa",
   "metadata": {},
   "outputs": [
    {
     "name": "stderr",
     "output_type": "stream",
     "text": [
      "C:\\Users\\hardk\\AppData\\Local\\Temp\\ipykernel_7000\\2334882959.py:1: SettingWithCopyWarning: \n",
      "A value is trying to be set on a copy of a slice from a DataFrame.\n",
      "Try using .loc[row_indexer,col_indexer] = value instead\n",
      "\n",
      "See the caveats in the documentation: https://pandas.pydata.org/pandas-docs/stable/user_guide/indexing.html#returning-a-view-versus-a-copy\n",
      "  data_8_cleaned[\"install_time\"] = pd.to_datetime(data_8_cleaned[\"install_time\"], format = \"%Y-%m-%d %H:%M:%S\")\n",
      "C:\\Users\\hardk\\AppData\\Local\\Temp\\ipykernel_7000\\2334882959.py:2: SettingWithCopyWarning: \n",
      "A value is trying to be set on a copy of a slice from a DataFrame.\n",
      "Try using .loc[row_indexer,col_indexer] = value instead\n",
      "\n",
      "See the caveats in the documentation: https://pandas.pydata.org/pandas-docs/stable/user_guide/indexing.html#returning-a-view-versus-a-copy\n",
      "  data_8_cleaned[\"payment_time\"] = pd.to_datetime(data_8_cleaned[\"payment_time\"], format = \"%Y-%m-%d %H:%M:%S\")\n"
     ]
    }
   ],
   "source": [
    "data_8_cleaned[\"install_time\"] = pd.to_datetime(data_8_cleaned[\"install_time\"], format = \"%Y-%m-%d %H:%M:%S\")\n",
    "data_8_cleaned[\"payment_time\"] = pd.to_datetime(data_8_cleaned[\"payment_time\"], format = \"%Y-%m-%d %H:%M:%S\")"
   ]
  },
  {
   "cell_type": "code",
   "execution_count": 10,
   "id": "cb7b3727-9293-4d0d-8c14-7e1f8c99c58f",
   "metadata": {},
   "outputs": [
    {
     "data": {
      "text/plain": [
       "ab_group\n",
       "2    41758\n",
       "1    41454\n",
       "Name: count, dtype: int64"
      ]
     },
     "execution_count": 10,
     "metadata": {},
     "output_type": "execute_result"
    }
   ],
   "source": [
    "data_8_cleaned[\"ab_group\"].value_counts()"
   ]
  },
  {
   "cell_type": "code",
   "execution_count": 11,
   "id": "e4dccf40-8959-4ab8-a049-ad5e3169d04c",
   "metadata": {},
   "outputs": [
    {
     "data": {
      "text/plain": [
       "install_time\n",
       "2005-07-10 03:33:54    96\n",
       "2005-05-23 16:55:48    86\n",
       "2005-06-29 00:07:36    73\n",
       "2005-06-27 22:31:52    70\n",
       "2005-07-13 08:59:00    60\n",
       "2005-05-27 03:52:53    57\n",
       "2005-05-27 21:23:26    55\n",
       "2005-06-01 14:59:56    55\n",
       "2005-07-10 03:41:14    52\n",
       "2005-06-10 08:54:50    52\n",
       "Name: count, dtype: int64"
      ]
     },
     "execution_count": 11,
     "metadata": {},
     "output_type": "execute_result"
    }
   ],
   "source": [
    "data_8_cleaned.install_time.value_counts()[:10]"
   ]
  },
  {
   "cell_type": "code",
   "execution_count": 12,
   "id": "3445fd79-e585-463d-b028-2254bd16dedb",
   "metadata": {},
   "outputs": [
    {
     "data": {
      "text/plain": [
       "payment_time\n",
       "2005-06-17 03:42:33    2\n",
       "2005-06-07 21:11:58    2\n",
       "2005-06-17 09:24:29    2\n",
       "2005-06-23 12:18:24    2\n",
       "2005-06-23 09:36:12    2\n",
       "2005-07-02 11:10:12    2\n",
       "2005-06-11 00:13:00    2\n",
       "2005-07-14 23:26:56    2\n",
       "2005-07-03 03:06:43    2\n",
       "2005-07-07 22:36:21    2\n",
       "Name: count, dtype: int64"
      ]
     },
     "execution_count": 12,
     "metadata": {},
     "output_type": "execute_result"
    }
   ],
   "source": [
    "data_8_cleaned.payment_time.value_counts()[:10]"
   ]
  },
  {
   "cell_type": "code",
   "execution_count": 13,
   "id": "3a56f6c5-d4c2-4b58-8728-796f7472262a",
   "metadata": {},
   "outputs": [
    {
     "name": "stdout",
     "output_type": "stream",
     "text": [
      "<class 'pandas.core.frame.DataFrame'>\n",
      "Index: 83212 entries, 0 to 83295\n",
      "Data columns (total 5 columns):\n",
      " #   Column        Non-Null Count  Dtype         \n",
      "---  ------        --------------  -----         \n",
      " 0   user_id       83212 non-null  int64         \n",
      " 1   ab_group      83212 non-null  int64         \n",
      " 2   install_time  83212 non-null  datetime64[ns]\n",
      " 3   payment_time  12255 non-null  datetime64[ns]\n",
      " 4   amount        12255 non-null  float64       \n",
      "dtypes: datetime64[ns](2), float64(1), int64(2)\n",
      "memory usage: 3.8 MB\n"
     ]
    }
   ],
   "source": [
    "data_8_cleaned.info()"
   ]
  },
  {
   "cell_type": "code",
   "execution_count": 14,
   "id": "58cf2ed0-9029-4113-95ac-b0b35d3c769d",
   "metadata": {},
   "outputs": [
    {
     "data": {
      "text/plain": [
       "user_id\n",
       "304942704279    96\n",
       "300647986203    86\n",
       "300648258647    73\n",
       "274878142668    70\n",
       "304942724220    60\n",
       "300648010317    57\n",
       "274878106590    55\n",
       "300648016330    55\n",
       "304942704309    52\n",
       "300648098949    52\n",
       "Name: count, dtype: int64"
      ]
     },
     "execution_count": 14,
     "metadata": {},
     "output_type": "execute_result"
    }
   ],
   "source": [
    "data_8_cleaned.user_id.value_counts()[:10]"
   ]
  },
  {
   "cell_type": "markdown",
   "id": "bd0fa888-e5ae-4194-a28f-603f7f076804",
   "metadata": {},
   "source": [
    "Теперь насчёт полей payment_time и amount. Проверим, что у нас они либо одновременно равны None, либо одновременно заполнены корректным значением"
   ]
  },
  {
   "cell_type": "code",
   "execution_count": 15,
   "id": "3e030cbf-ef59-490d-b8f0-ac8621a9aceb",
   "metadata": {},
   "outputs": [
    {
     "data": {
      "text/html": [
       "<div>\n",
       "<style scoped>\n",
       "    .dataframe tbody tr th:only-of-type {\n",
       "        vertical-align: middle;\n",
       "    }\n",
       "\n",
       "    .dataframe tbody tr th {\n",
       "        vertical-align: top;\n",
       "    }\n",
       "\n",
       "    .dataframe thead th {\n",
       "        text-align: right;\n",
       "    }\n",
       "</style>\n",
       "<table border=\"1\" class=\"dataframe\">\n",
       "  <thead>\n",
       "    <tr style=\"text-align: right;\">\n",
       "      <th></th>\n",
       "      <th>user_id</th>\n",
       "      <th>ab_group</th>\n",
       "      <th>install_time</th>\n",
       "      <th>payment_time</th>\n",
       "      <th>amount</th>\n",
       "    </tr>\n",
       "  </thead>\n",
       "  <tbody>\n",
       "  </tbody>\n",
       "</table>\n",
       "</div>"
      ],
      "text/plain": [
       "Empty DataFrame\n",
       "Columns: [user_id, ab_group, install_time, payment_time, amount]\n",
       "Index: []"
      ]
     },
     "execution_count": 15,
     "metadata": {},
     "output_type": "execute_result"
    }
   ],
   "source": [
    "data_8_cleaned[(data_8_cleaned.payment_time.isna() & data_8_cleaned.amount.notna()) | (data_8_cleaned.payment_time.notna() & data_8_cleaned.amount.isna())]"
   ]
  },
  {
   "cell_type": "code",
   "execution_count": 16,
   "id": "acb9d930-7c32-46e7-b3e1-2f0b4f21bc79",
   "metadata": {},
   "outputs": [
    {
     "data": {
      "text/html": [
       "<div>\n",
       "<style scoped>\n",
       "    .dataframe tbody tr th:only-of-type {\n",
       "        vertical-align: middle;\n",
       "    }\n",
       "\n",
       "    .dataframe tbody tr th {\n",
       "        vertical-align: top;\n",
       "    }\n",
       "\n",
       "    .dataframe thead th {\n",
       "        text-align: right;\n",
       "    }\n",
       "</style>\n",
       "<table border=\"1\" class=\"dataframe\">\n",
       "  <thead>\n",
       "    <tr style=\"text-align: right;\">\n",
       "      <th></th>\n",
       "      <th>user_id</th>\n",
       "      <th>ab_group</th>\n",
       "      <th>install_time</th>\n",
       "      <th>payment_time</th>\n",
       "      <th>amount</th>\n",
       "    </tr>\n",
       "  </thead>\n",
       "  <tbody>\n",
       "  </tbody>\n",
       "</table>\n",
       "</div>"
      ],
      "text/plain": [
       "Empty DataFrame\n",
       "Columns: [user_id, ab_group, install_time, payment_time, amount]\n",
       "Index: []"
      ]
     },
     "execution_count": 16,
     "metadata": {},
     "output_type": "execute_result"
    }
   ],
   "source": [
    "data_8_cleaned[data_8_cleaned.amount == 0]"
   ]
  },
  {
   "cell_type": "markdown",
   "id": "316f8ef8-eda5-4750-87b8-e15f48735a90",
   "metadata": {},
   "source": [
    "Заполним теперь все None в amount на 0, так как None в amount означает, что пользователь ничего не приобрёл."
   ]
  },
  {
   "cell_type": "code",
   "execution_count": 17,
   "id": "4956cb21-3508-44ec-bbd2-89a3b99b6913",
   "metadata": {},
   "outputs": [
    {
     "name": "stderr",
     "output_type": "stream",
     "text": [
      "C:\\Users\\hardk\\AppData\\Local\\Temp\\ipykernel_7000\\3326867683.py:1: SettingWithCopyWarning: \n",
      "A value is trying to be set on a copy of a slice from a DataFrame.\n",
      "Try using .loc[row_indexer,col_indexer] = value instead\n",
      "\n",
      "See the caveats in the documentation: https://pandas.pydata.org/pandas-docs/stable/user_guide/indexing.html#returning-a-view-versus-a-copy\n",
      "  data_8_cleaned.amount = data_8_cleaned.amount.fillna(0)\n"
     ]
    }
   ],
   "source": [
    "data_8_cleaned.amount = data_8_cleaned.amount.fillna(0)"
   ]
  },
  {
   "cell_type": "markdown",
   "id": "ee4ebffe-480d-4772-b914-fb97d28e3d99",
   "metadata": {},
   "source": [
    "#### Анализ данных"
   ]
  },
  {
   "cell_type": "markdown",
   "id": "cb909b6c-8462-431f-a9ae-b69a98194e5c",
   "metadata": {},
   "source": [
    "Наконец-то составим контрольную и тестовую выборки."
   ]
  },
  {
   "cell_type": "code",
   "execution_count": 18,
   "id": "e1230edb-150b-46fc-8cd4-4bf90186134a",
   "metadata": {},
   "outputs": [],
   "source": [
    "control_group = data_8_cleaned[data_8_cleaned.ab_group == 1]\n",
    "test_group = data_8_cleaned[data_8_cleaned.ab_group == 2]"
   ]
  },
  {
   "cell_type": "code",
   "execution_count": 19,
   "id": "febad88c-d29c-44eb-8065-1d76b2947e73",
   "metadata": {},
   "outputs": [
    {
     "data": {
      "text/plain": [
       "((41454, 5), (41758, 5))"
      ]
     },
     "execution_count": 19,
     "metadata": {},
     "output_type": "execute_result"
    }
   ],
   "source": [
    "control_group.shape, test_group.shape"
   ]
  },
  {
   "cell_type": "markdown",
   "id": "3385523f-716f-45fd-9d6a-41086187a435",
   "metadata": {},
   "source": [
    "Добавим столбец даты установки, а не даты и времени установки, чтобы посчитать выручку по дням."
   ]
  },
  {
   "cell_type": "code",
   "execution_count": 20,
   "id": "966ea206-aaad-43a7-abe5-660cbf5573e9",
   "metadata": {},
   "outputs": [],
   "source": [
    "control_group = control_group.assign(install_date = lambda x : x.install_time.dt.date)\n",
    "test_group = test_group.assign(install_date = lambda x : x.install_time.dt.date)"
   ]
  },
  {
   "cell_type": "code",
   "execution_count": 21,
   "id": "497c8280-0974-4a9c-b1e8-6ff3f2a2b136",
   "metadata": {},
   "outputs": [
    {
     "data": {
      "text/plain": [
       "(amount\n",
       " 0.0        35303\n",
       " 499.0       4002\n",
       " 1999.0       781\n",
       " 999.0        721\n",
       " 4999.0       325\n",
       " 9999.0       190\n",
       " 24999.0      132\n",
       " Name: count, dtype: int64,\n",
       " amount\n",
       " 0.0        35654\n",
       " 499.0       3300\n",
       " 100.0        870\n",
       " 1999.0       741\n",
       " 999.0        689\n",
       " 4999.0       309\n",
       " 9999.0       123\n",
       " 24999.0       72\n",
       " Name: count, dtype: int64)"
      ]
     },
     "execution_count": 21,
     "metadata": {},
     "output_type": "execute_result"
    }
   ],
   "source": [
    "control_group.amount.value_counts(), test_group.amount.value_counts()"
   ]
  },
  {
   "cell_type": "code",
   "execution_count": 22,
   "id": "1539cbbc-d93f-42a2-a00f-b0972a34c80a",
   "metadata": {},
   "outputs": [],
   "source": [
    "control_amount = control_group.groupby(\"install_date\")[\"amount\"].sum()\n",
    "test_amount = test_group.groupby(\"install_date\")[\"amount\"].sum()"
   ]
  },
  {
   "cell_type": "code",
   "execution_count": 25,
   "id": "0823004d-1e78-472c-b1bb-1b3ac662e8a4",
   "metadata": {},
   "outputs": [
    {
     "data": {
      "image/png": "[encoded data removed]",
      "text/plain": [
       "<Figure size 1200x600 with 1 Axes>"
      ]
     },
     "metadata": {},
     "output_type": "display_data"
    }
   ],
   "source": [
    "from datetime import datetime\n",
    "\n",
    "plt.figure(figsize=(12, 6), dpi=100)\n",
    "plt.plot(control_amount.index, control_amount.values, color='#1b00c9', linewidth=2, label='Amount контрольная выборка')\n",
    "plt.plot(test_amount.index, test_amount.values, color='orange', linewidth=2, label='Amount тестовая выборка')\n",
    "\n",
    "plt.title('Сумма продаж (amount) по дням', fontsize=16, pad=20)\n",
    "plt.xlabel('Дата', fontsize=12)\n",
    "plt.ylabel('Сумма продаж, млн.', fontsize=12)\n",
    "\n",
    "plt.gca().yaxis.set_major_formatter(plt.FuncFormatter(lambda x, _: f'{x/1e6:.1f}'))\n",
    "\n",
    "plt.grid(True, linestyle='--', alpha=0.7)\n",
    "plt.gca().set_facecolor('#f5f5f5')\n",
    "\n",
    "plt.xticks(rotation=45)\n",
    "\n",
    "plt.legend()\n",
    "\n",
    "plt.tight_layout()\n",
    "\n",
    "plt.show()"
   ]
  },
  {
   "cell_type": "markdown",
   "id": "a41564df-d6ed-4b5c-91c2-8f4c009e05b0",
   "metadata": {},
   "source": [
    "По сумме продаж можно заметить некоторые выбросы в обеих выборках, но в целом распределения похожи. \n",
    "\n",
    "Посмотрим на основные статистические характеристики тестовой и контрольной выборок."
   ]
  },
  {
   "cell_type": "code",
   "execution_count": 27,
   "id": "974bee76-7a23-409b-8882-697889bf1cda",
   "metadata": {},
   "outputs": [
    {
     "data": {
      "text/plain": [
       "count    6.200000e+01\n",
       "mean     1.790782e+05\n",
       "std      2.441246e+05\n",
       "min      1.397600e+04\n",
       "25%      5.730350e+04\n",
       "50%      1.164145e+05\n",
       "75%      2.094825e+05\n",
       "max      1.660107e+06\n",
       "Name: amount, dtype: float64"
      ]
     },
     "execution_count": 27,
     "metadata": {},
     "output_type": "execute_result"
    }
   ],
   "source": [
    "control_amount.describe()"
   ]
  },
  {
   "cell_type": "code",
   "execution_count": 28,
   "id": "990eb3fe-5e9a-4b5f-b89f-2022fd50a2a3",
   "metadata": {},
   "outputs": [
    {
     "data": {
      "text/plain": [
       "count        62.000000\n",
       "mean     136738.161290\n",
       "std      133476.149398\n",
       "min        1996.000000\n",
       "25%       35633.000000\n",
       "50%       99745.000000\n",
       "75%      185042.750000\n",
       "max      626097.000000\n",
       "Name: amount, dtype: float64"
      ]
     },
     "execution_count": 28,
     "metadata": {},
     "output_type": "execute_result"
    }
   ],
   "source": [
    "test_amount.describe()"
   ]
  },
  {
   "cell_type": "markdown",
   "id": "231303fd-0c8e-4ad2-8f2e-3a03c915bb86",
   "metadata": {},
   "source": [
    "Значимых проблем не видно, поэтому перейдём к тестированию."
   ]
  },
  {
   "cell_type": "markdown",
   "id": "b2be7429-85d8-4e0f-8eba-a7d2734f91cc",
   "metadata": {},
   "source": [
    "#### Тесты"
   ]
  },
  {
   "cell_type": "markdown",
   "id": "943e862c-8cbb-4021-82c2-8d628e8e364b",
   "metadata": {},
   "source": [
    "##### Тест конверсии"
   ]
  },
  {
   "cell_type": "markdown",
   "id": "66c38f5d-0f31-491f-a2e4-c9b9a303db7b",
   "metadata": {},
   "source": [
    "Для начала проверим гипотезу о равенстве конверсий теста и контроля, где конверсией мы называем отношение количества совершённых покупок к количеству всех установок.\n",
    "\n",
    "$H_0: \\hat{p_1} = \\hat{p_2}$\n",
    "\n",
    "$H_1: \\hat{p_1} \\neq \\hat{p_2}$\n",
    "\n",
    "Где $p_1, p_2$ - истинные конверсии в контрольной и тестовой выборках.\n",
    "Причём, если двусторонняя гипотеза $H_0$ будет отвергнута, то мы проверим гипотезы на больше и меньше"
   ]
  },
  {
   "cell_type": "markdown",
   "id": "f1010f20-ee47-45b8-bd5e-12822a939b35",
   "metadata": {},
   "source": [
    "Для начала напишем функцию, которая будет проводить z-тест для сравнения средних двух выборок, а также он будет выдавать доверительный интервал для разности средних (если интервал содержит 0, то принимаем гипотезу $H_0$)"
   ]
  },
  {
   "cell_type": "code",
   "execution_count": 127,
   "id": "573deada-bbdf-45eb-8b70-980412dce4fc",
   "metadata": {},
   "outputs": [],
   "source": [
    "from scipy import stats\n",
    "import numpy as np\n",
    "\n",
    "def cr_test(ma, na, mb, nb, alpha, alternative=\"two-sided\"):\n",
    "    '''\n",
    "    output:\n",
    "    False - H_0 принимается \n",
    "    True - H_0 отвергается \n",
    "    '''\n",
    "    wa = ma / na\n",
    "    wb = mb / nb\n",
    "    w = (ma + mb) / (na + nb)\n",
    "    diff = wb - wa\n",
    "    stat = (diff) / np.sqrt(w * (1 - w) * (1. / na + 1. / nb))\n",
    "    # \n",
    "    dist_norm = stats.norm(loc=0, scale=1)\n",
    "    # \n",
    "    SE = np.sqrt(w * (1-w) * (1/na + 1/nb))\n",
    "    quantile = dist_norm.ppf(alpha/2)\n",
    "    CI = (diff + SE * quantile, diff - SE * quantile)\n",
    "    # \n",
    "    if alternative == \"two-sided\":\n",
    "        p_value = 2 * min(dist_norm.sf(stat), dist_norm.cdf(stat))\n",
    "        if p_value > alpha:\n",
    "            return False, CI\n",
    "        return True, CI\n",
    "    elif alternative == \"greater\":\n",
    "        p_value = dist_norm.sf(stat)\n",
    "        if p_value > alpha:\n",
    "            return False, CI\n",
    "        return True, CI\n",
    "    elif alternative == \"less\":\n",
    "        p_value = dist_norm.cdf(stat)\n",
    "        if p_value > alpha:\n",
    "            return False, CI\n",
    "        return True, CI\n",
    "    return None, CI"
   ]
  },
  {
   "cell_type": "markdown",
   "id": "716556b2-8dba-4803-a224-ab8c5d1e2cb0",
   "metadata": {},
   "source": [
    "Составим выборки. Так как есть множество пользователей, которые платили по нескольку раз, следовательно необходимо посчитать более корректно числитель конверсии"
   ]
  },
  {
   "cell_type": "code",
   "execution_count": 128,
   "id": "53a8dcd6-7be4-4af0-8c87-8b63bdd99c48",
   "metadata": {},
   "outputs": [
    {
     "data": {
      "text/plain": [
       "(np.int64(851), np.int64(36148), np.int64(1013), np.int64(36665))"
      ]
     },
     "execution_count": 128,
     "metadata": {},
     "output_type": "execute_result"
    }
   ],
   "source": [
    "ma = (control_group.groupby(\"user_id\").amount.sum() > 0).sum()\n",
    "na = (control_group.groupby(\"user_id\").amount.sum()).count()\n",
    "# \n",
    "mb = (test_group.groupby(\"user_id\").amount.sum() > 0).sum()\n",
    "nb = (test_group.groupby(\"user_id\").amount.sum()).count()\n",
    "ma, na, mb, nb"
   ]
  },
  {
   "cell_type": "code",
   "execution_count": 129,
   "id": "23968511-287a-44b9-b8e5-1baef123bd7f",
   "metadata": {},
   "outputs": [
    {
     "name": "stdout",
     "output_type": "stream",
     "text": [
      "размер контроля = 36148 и количество покупок = 851\n",
      "размер контроля = 36665 и количество покупок = 1013\n"
     ]
    }
   ],
   "source": [
    "print(f\"размер контроля = {na} и количество покупок = {ma}\")\n",
    "print(f\"размер контроля = {nb} и количество покупок = {mb}\")"
   ]
  },
  {
   "cell_type": "code",
   "execution_count": 152,
   "id": "5c4e54c4-e3f2-4128-9ec4-5b96e391b780",
   "metadata": {},
   "outputs": [
    {
     "data": {
      "text/plain": [
       "(np.float64(0.02354210468075689), np.float64(0.02762852856948043))"
      ]
     },
     "execution_count": 152,
     "metadata": {},
     "output_type": "execute_result"
    }
   ],
   "source": [
    "ma / na, mb / nb"
   ]
  },
  {
   "cell_type": "markdown",
   "id": "4a6b38f3-2523-4b99-89d6-a8a2db15d563",
   "metadata": {},
   "source": [
    "Проводим сам тест"
   ]
  },
  {
   "cell_type": "code",
   "execution_count": 130,
   "id": "b2b4f824-df09-45e0-945f-90a396f6845e",
   "metadata": {},
   "outputs": [
    {
     "name": "stdout",
     "output_type": "stream",
     "text": [
      "доверительный интервал для разности средних = (np.float64(0.0017920101189824217), np.float64(0.006380837658464662))\n",
      "Принимаем H_1 : p_1 != p_2\n",
      "Принимаем H_1 : p_1 > p_2\n",
      "Принимаем H_0\n"
     ]
    }
   ],
   "source": [
    "alpha = .05\n",
    "cr_test_two_sided, CI = cr_test(ma, na, mb, nb, alpha)\n",
    "print(f\"доверительный интервал для разности средних = {CI}\")\n",
    "if cr_test_two_sided:\n",
    "    print(f\"Принимаем H_1 : p_1 != p_2\")\n",
    "else:\n",
    "    print(f\"Принимаем H_0 : p_1 = p_2\")\n",
    "if cr_test_two_sided:\n",
    "    cr_test_greater, CI = cr_test(ma, na, mb, nb, alpha, \"greater\")\n",
    "    if cr_test_greater:\n",
    "        print(f\"Принимаем H_1 : p_1 > p_2\")\n",
    "    else:\n",
    "        print(f\"Принимаем H_0\")\n",
    "    # \n",
    "    cr_test_less, CI = cr_test(ma, na, mb, nb, alpha, \"less\")\n",
    "    if cr_test_less:\n",
    "        print(f\"Принимаем H_1 : p_1 < p_2\")\n",
    "    else:\n",
    "        print(f\"Принимаем H_0\")"
   ]
  },
  {
   "cell_type": "markdown",
   "id": "3b876848-22ca-4757-8383-c50dcee08187",
   "metadata": {},
   "source": [
    "Таким образом, мы получили, что в результате A/B-тесторования конверсия для тестовой выборки увеличилась."
   ]
  },
  {
   "cell_type": "markdown",
   "id": "1fb5ae80-42e0-40ef-9b6e-a77d12f988d3",
   "metadata": {},
   "source": [
    "##### Тест среднего чека"
   ]
  },
  {
   "cell_type": "markdown",
   "id": "545cb22f-465f-4824-bfe4-00572856a923",
   "metadata": {},
   "source": [
    "Теперь давайте сравним математические ожидания трат в тестовой и контрольной выборках. То есть проверим гипотезы:\n",
    "\n",
    "$H_0: E(Y) = E(X)$\n",
    "\n",
    "$H_1: E(Y) \\neq E(X) $\n",
    "\n",
    "Где X, Y - это случайные величины, показывающие сколько пользователь потратил в приложении для контрольной, тестовой выборок, в которой мы оставили только платящих пользователей.\n",
    "Причём, если двусторонняя гипотеза $H_0$ будет отвергнута, то мы проверим гипотезы на больше и меньше.\n",
    "\n",
    "Мы будем проводить t-тест. Нижи написана функция, которая проводит t-тест для разных альтернатив."
   ]
  },
  {
   "cell_type": "code",
   "execution_count": 131,
   "id": "137a3dda",
   "metadata": {},
   "outputs": [],
   "source": [
    "from scipy.stats import ttest_ind\n",
    "\n",
    "def aov_ttest(a, b, alpha, alternative=\"two-sided\", equal_var=True):\n",
    "    '''\n",
    "    output:\n",
    "    False - H_0 принимается \n",
    "    True - H_0 отвергается \n",
    "    '''\n",
    "    ret = ttest_ind(a, b, alternative = alternative, equal_var=equal_var)\n",
    "    return (False if ret.pvalue > alpha else True)"
   ]
  },
  {
   "cell_type": "code",
   "execution_count": 132,
   "id": "1024b10b-0df4-4278-9075-e4dc133f647e",
   "metadata": {},
   "outputs": [],
   "source": [
    "control_group_pay = control_group[control_group.amount > 0].amount\n",
    "test_group_pay = test_group[test_group.amount > 0].amount"
   ]
  },
  {
   "cell_type": "code",
   "execution_count": 133,
   "id": "c5020e44-5a4a-4356-b16a-073728d5359a",
   "metadata": {},
   "outputs": [
    {
     "data": {
      "text/plain": [
       "((6151,), (6104,))"
      ]
     },
     "execution_count": 133,
     "metadata": {},
     "output_type": "execute_result"
    }
   ],
   "source": [
    "control_group_pay.shape, test_group_pay.shape"
   ]
  },
  {
   "cell_type": "markdown",
   "id": "c3109d7f-3339-4a7c-b0f9-f64ef9d95486",
   "metadata": {},
   "source": [
    "Проведём тест Шапиро–Уилка для проверки нормальности выборок."
   ]
  },
  {
   "cell_type": "code",
   "execution_count": 134,
   "id": "ab5d3a0c-0002-46a0-99f1-0af11a8b1364",
   "metadata": {},
   "outputs": [
    {
     "name": "stderr",
     "output_type": "stream",
     "text": [
      "C:\\Users\\hardk\\AppData\\Local\\Programs\\Python\\Python313\\Lib\\site-packages\\scipy\\stats\\_axis_nan_policy.py:586: UserWarning: scipy.stats.shapiro: For N > 5000, computed p-value may not be accurate. Current N is 6151.\n",
      "  res = hypotest_fun_out(*samples, **kwds)\n",
      "C:\\Users\\hardk\\AppData\\Local\\Programs\\Python\\Python313\\Lib\\site-packages\\scipy\\stats\\_axis_nan_policy.py:586: UserWarning: scipy.stats.shapiro: For N > 5000, computed p-value may not be accurate. Current N is 6104.\n",
      "  res = hypotest_fun_out(*samples, **kwds)\n"
     ]
    },
    {
     "data": {
      "text/plain": [
       "(ShapiroResult(statistic=np.float64(0.3574136676641625), pvalue=np.float64(6.096813155179393e-91)),\n",
       " ShapiroResult(statistic=np.float64(0.3533063654683626), pvalue=np.float64(6.841146937421494e-91)))"
      ]
     },
     "execution_count": 134,
     "metadata": {},
     "output_type": "execute_result"
    }
   ],
   "source": [
    "stats.shapiro(control_group_pay), stats.shapiro(test_group_pay)"
   ]
  },
  {
   "cell_type": "markdown",
   "id": "bd55fbc6-aac0-4773-b19f-8dcc368b6144",
   "metadata": {},
   "source": [
    "Можно сделать вывод, что выборки распределены не нормально. Оно и понятно, так как обычно траты распределены экспоненциально или логнормально.\n",
    "\n",
    "Тем не менее ранее мы увидели, что выборки достаточно большие, чтобы t-тест смог сработать и для выборок, распределённых не по нормальному закону."
   ]
  },
  {
   "cell_type": "markdown",
   "id": "8f499199-0368-45dc-893e-cc2f65d9ef1e",
   "metadata": {},
   "source": [
    "Теперь проведём тест Левена, чтобы проверить, что выборки имеют одинаковые дисперсии, что поможет нам при проведении t-теста. "
   ]
  },
  {
   "cell_type": "code",
   "execution_count": 135,
   "id": "e21524cb-5a8c-45fd-990b-3bdc8b3197c6",
   "metadata": {},
   "outputs": [
    {
     "data": {
      "text/plain": [
       "LeveneResult(statistic=np.float64(22.765587659538028), pvalue=np.float64(1.8512569654603518e-06))"
      ]
     },
     "execution_count": 135,
     "metadata": {},
     "output_type": "execute_result"
    }
   ],
   "source": [
    "stats.levene(control_group_pay, test_group_pay)"
   ]
  },
  {
   "cell_type": "markdown",
   "id": "034dbdec-b1a3-484c-ac56-214a2886743f",
   "metadata": {},
   "source": [
    "Из того, что pvalue меньше чем $\\alpha = 5\\%$, можно сделать вывод, что дисперсии теста и контроля различаются. \n",
    "\n",
    "Учтём это в t-тесте, который идёт следующим"
   ]
  },
  {
   "cell_type": "code",
   "execution_count": 153,
   "id": "412e292e-65d4-4380-b2dd-5f1bfba0ac87",
   "metadata": {},
   "outputs": [
    {
     "name": "stdout",
     "output_type": "stream",
     "text": [
      "Принимаем H_1 : E(Y) != E(X)\n",
      "Принимаем H_1 : E(Y) > E(X)\n"
     ]
    }
   ],
   "source": [
    "alpha = .05\n",
    "ret_two_side = aov_ttest(control_group_pay, test_group_pay, alpha, equal_var=False)\n",
    "if ret_two_side:\n",
    "    print(f\"Принимаем H_1 : E(Y) != E(X)\")\n",
    "else:\n",
    "    print(f\"Принимаем H_0 : E(Y) == E(X)\")\n",
    "if ret_two_side:\n",
    "    ret_greater = aov_ttest(control_group_pay, test_group_pay, alpha, \"greater\", equal_var=False)\n",
    "    if ret_greater:\n",
    "        print(f\"Принимаем H_1 : E(Y) > E(X)\")\n",
    "    else:\n",
    "        print(f\"Принимаем H_0\")"
   ]
  },
  {
   "cell_type": "markdown",
   "id": "b26df3a9-8df3-47ad-bbad-beaad5814bf2",
   "metadata": {},
   "source": [
    "Таким образом, мы получаем статистически значимый результат, что выручка от пользователей в среднем в тесте увеличилась. Посмотрим на доверительный интервал разницы в t-тесте."
   ]
  },
  {
   "cell_type": "code",
   "execution_count": 137,
   "id": "79155179-450f-4e51-9ee0-569b7f9eafcc",
   "metadata": {},
   "outputs": [
    {
     "name": "stdout",
     "output_type": "stream",
     "text": [
      "доверительный интервал = (np.float64(291.4923832235467), np.float64(540.8292922469678))\n"
     ]
    }
   ],
   "source": [
    "import numpy as np\n",
    "import statsmodels.stats.api as sms\n",
    "\n",
    "cm = sms.CompareMeans(sms.DescrStatsW(control_group_pay), sms.DescrStatsW(test_group_pay))\n",
    "print(f\"доверительный интервал = {cm.tconfint_diff(usevar='unequal')}\")"
   ]
  },
  {
   "cell_type": "markdown",
   "id": "fb623e35-cfa8-46ff-9900-ef633fa6baa8",
   "metadata": {},
   "source": [
    "Таким образом, увеличение среднего чека для теста лежит в доверительном интервале от 291.49 до 540.83."
   ]
  },
  {
   "cell_type": "markdown",
   "id": "c36ab8fe-2e28-4ab8-ab78-6de7078c1bbe",
   "metadata": {},
   "source": [
    "Также t-тест (даже с большим количество характеристик) можно было провести с помощью такого классного инструмента, как pingouin - это открытый статистический пакет на Python, предоставляющий широкий спектр функций для статистического анализа. "
   ]
  },
  {
   "cell_type": "code",
   "execution_count": 138,
   "id": "ad89ce8a-bf44-4f4b-98c2-77ac1248bc6f",
   "metadata": {},
   "outputs": [
    {
     "name": "stdout",
     "output_type": "stream",
     "text": [
      "               T    dof alternative         p-val             CI95%   cohen-d  \\\n",
      "T-test  6.537357  12253   two-sided  6.509929e-11  [291.38, 540.94]  0.118108   \n",
      "\n",
      "             BF10     power  \n",
      "T-test  3.648e+07  0.999998  \n"
     ]
    }
   ],
   "source": [
    "import pingouin as pg\n",
    "\n",
    "res = pg.ttest(control_group_pay, test_group_pay, correction=False)\n",
    "print(res)"
   ]
  },
  {
   "cell_type": "code",
   "execution_count": 139,
   "id": "295fd3c0-1564-4bb7-bfde-fd0b2846ac98",
   "metadata": {},
   "outputs": [
    {
     "name": "stdout",
     "output_type": "stream",
     "text": [
      "p_value = 6.50992909391611e-11\n",
      "Доверительный интервал = [291.38 540.94]\n",
      "Мощность = 0.9999976401987042\n",
      "Effect size = 0.11810784564596336\n"
     ]
    }
   ],
   "source": [
    "print(f\"p_value = {res['p-val'].iloc[0]}\")\n",
    "print(f\"Доверительный интервал = {res[\"CI95%\"].iloc[0]}\")\n",
    "print(f\"Мощность = {res[\"power\"].iloc[0]}\")\n",
    "print(f\"Effect size = {res[\"cohen-d\"].iloc[0]}\")"
   ]
  },
  {
   "cell_type": "markdown",
   "id": "2b123b55-0cb1-43d3-b944-6c2b5df50fd5",
   "metadata": {},
   "source": [
    "##### Тест ARPU"
   ]
  },
  {
   "cell_type": "markdown",
   "id": "49801b9c-936b-4702-ba6c-34c8c525523f",
   "metadata": {},
   "source": [
    "Теперь было бы интересно провести тест для ARPU, так как он в отличие от среднего чека в ARPU учитывается сегмент не платящих пользователей.\n",
    "Известно, что ARPU = средний чек * конверсия. Так что по идее ARPU тоже должен увеличиться"
   ]
  },
  {
   "cell_type": "code",
   "execution_count": 140,
   "id": "4eab1632-4669-4ece-a591-7ab8e568ecc8",
   "metadata": {},
   "outputs": [],
   "source": [
    "control_group_arpu = control_group.amount\n",
    "test_group_arpu = test_group.amount"
   ]
  },
  {
   "cell_type": "code",
   "execution_count": 141,
   "id": "a5597308-4854-412a-83a8-08887714ab00",
   "metadata": {},
   "outputs": [
    {
     "data": {
      "text/plain": [
       "LeveneResult(statistic=np.float64(40.5675640709559), pvalue=np.float64(1.9092071671643656e-10))"
      ]
     },
     "execution_count": 141,
     "metadata": {},
     "output_type": "execute_result"
    }
   ],
   "source": [
    "stats.levene(control_group_arpu, test_group_arpu)"
   ]
  },
  {
   "cell_type": "code",
   "execution_count": 154,
   "id": "3835c97e-44c4-4bc2-aee4-f1c16ad76545",
   "metadata": {},
   "outputs": [
    {
     "name": "stdout",
     "output_type": "stream",
     "text": [
      "Принимаем H_1 : E(Y) != E(X)\n",
      "Принимаем H_1 : E(Y) > E(X)\n"
     ]
    }
   ],
   "source": [
    "alpha = .05\n",
    "ret_two_side = aov_ttest(control_group_arpu, test_group_arpu, alpha, equal_var=False)\n",
    "if ret_two_side:\n",
    "    print(f\"Принимаем H_1 : E(Y) != E(X)\")\n",
    "else:\n",
    "    print(f\"Принимаем H_0 : E(Y) == E(X)\")\n",
    "if ret_two_side:\n",
    "    ret_greater = aov_ttest(control_group_arpu, test_group_arpu, alpha, \"greater\", equal_var=False)\n",
    "    if ret_greater:\n",
    "        print(f\"Принимаем H_1 : E(Y) > E(X)\")\n",
    "    else:\n",
    "        print(f\"Принимаем H_0\")"
   ]
  },
  {
   "cell_type": "code",
   "execution_count": 145,
   "id": "1c0dee18-cc9a-4526-a542-51b0e633b5d6",
   "metadata": {},
   "outputs": [
    {
     "name": "stdout",
     "output_type": "stream",
     "text": [
      "Доверительный интервал = (np.float64(44.85100296610179), np.float64(84.7770905253632))\n"
     ]
    }
   ],
   "source": [
    "cm = sms.CompareMeans(sms.DescrStatsW(control_group_arpu), sms.DescrStatsW(test_group_arpu))\n",
    "print(f\"Доверительный интервал = {cm.tconfint_diff(usevar='unequal')}\")"
   ]
  },
  {
   "cell_type": "markdown",
   "id": "05172b64-15d5-4a2e-b992-4d588644cff7",
   "metadata": {},
   "source": [
    "Таким образом, мы получаем статистически значимый результат, что ARPU в тесте увеличился. При этом увеличение ARPU для теста лежит в доверительном интервале от 44 до 84."
   ]
  },
  {
   "cell_type": "markdown",
   "id": "84fb0329-6362-4d45-bd80-c2fa16ee094e",
   "metadata": {},
   "source": [
    "#### Выводы"
   ]
  },
  {
   "cell_type": "markdown",
   "id": "df9fdfa0-c151-4ba9-be02-bd58b0dc4312",
   "metadata": {},
   "source": [
    "Таким образом, мы получили, что:\n",
    "- Конверсия выросла с 2.35% до 2.76% (на 0.18–0.64%). Снижение цены в 5 раз сделало стартовый набор более привлекательным.\n",
    "- Средний чек вырос с 1,805 до 2,221 (на 291–541 единиц). Хотя цена стартового набора упала, пользователи в тесте совершали больше дополнительных покупок, что увеличило общий средний чек.\n",
    "- ARPU вырос с 307 до 369 (на 44.85–84.78 единиц). Рост конверсии и среднего чека привел к увеличению дохода на пользователя.\n",
    "\n",
    "Итак, нам необходимо внедрять новое предложение: Дешевый стартовый набор увеличил конверсию и подтолкнул пользователей к дополнительным тратам, что привело к росту ARPU и общей выручки.\n",
    "Тем не менее в дальнейшем в любом случае необходимо проверить retention rate, так как вдруг своим решением мы на ранней стадии мы привлекли пользователей, а на поздней им будет скучнее играть. А также соответственно нужно будет посчитать LTV (Life Time Value)."
   ]
  }
 ],
 "metadata": {
  "kernelspec": {
   "display_name": "Python 3 (ipykernel)",
   "language": "python",
   "name": "python3"
  },
  "language_info": {
   "codemirror_mode": {
    "name": "ipython",
    "version": 3
   },
   "file_extension": ".py",
   "mimetype": "text/x-python",
   "name": "python",
   "nbconvert_exporter": "python",
   "pygments_lexer": "ipython3",
   "version": "3.13.1"
  }
 },
 "nbformat": 4,
 "nbformat_minor": 5
}
